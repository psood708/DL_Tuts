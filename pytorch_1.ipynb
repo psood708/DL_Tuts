{
  "nbformat": 4,
  "nbformat_minor": 0,
  "metadata": {
    "colab": {
      "provenance": []
    },
    "kernelspec": {
      "name": "python3",
      "display_name": "Python 3"
    },
    "language_info": {
      "name": "python"
    }
  },
  "cells": [
    {
      "cell_type": "code",
      "source": [
        "import torch\n",
        "torch.__version__"
      ],
      "metadata": {
        "colab": {
          "base_uri": "https://localhost:8080/",
          "height": 35
        },
        "id": "pwYKycAdjVGZ",
        "outputId": "6fbf4f8e-573d-4b10-aab7-3c07b838ce52"
      },
      "execution_count": 1,
      "outputs": [
        {
          "output_type": "execute_result",
          "data": {
            "text/plain": [
              "'2.5.1+cu124'"
            ],
            "application/vnd.google.colaboratory.intrinsic+json": {
              "type": "string"
            }
          },
          "metadata": {},
          "execution_count": 1
        }
      ]
    },
    {
      "cell_type": "code",
      "source": [
        "scalar = torch.tensor(7)\n",
        "scalar"
      ],
      "metadata": {
        "colab": {
          "base_uri": "https://localhost:8080/"
        },
        "id": "-BZqT7rBjq9O",
        "outputId": "c56b7561-94b4-4558-8f59-90f92d8c238c"
      },
      "execution_count": 2,
      "outputs": [
        {
          "output_type": "execute_result",
          "data": {
            "text/plain": [
              "tensor(7)"
            ]
          },
          "metadata": {},
          "execution_count": 2
        }
      ]
    },
    {
      "cell_type": "code",
      "source": [
        "scalar.item()"
      ],
      "metadata": {
        "colab": {
          "base_uri": "https://localhost:8080/"
        },
        "id": "_oC6j3N-jyBm",
        "outputId": "4752b8c3-ea49-4eb3-add8-6cd82a77619c"
      },
      "execution_count": 3,
      "outputs": [
        {
          "output_type": "execute_result",
          "data": {
            "text/plain": [
              "7"
            ]
          },
          "metadata": {},
          "execution_count": 3
        }
      ]
    },
    {
      "cell_type": "code",
      "source": [
        "MATRIX= torch.tensor([[7,8],[9,10]])"
      ],
      "metadata": {
        "id": "564-MvFtj-9Q"
      },
      "execution_count": 4,
      "outputs": []
    },
    {
      "cell_type": "code",
      "source": [
        "rand_tensor=torch.rand(size=(3,4))\n",
        "rand_tensor, rand_tensor.dtype"
      ],
      "metadata": {
        "colab": {
          "base_uri": "https://localhost:8080/"
        },
        "id": "RrmwtRMNkME7",
        "outputId": "58454c8a-c47e-4960-e4a7-88c798ba13a4"
      },
      "execution_count": 5,
      "outputs": [
        {
          "output_type": "execute_result",
          "data": {
            "text/plain": [
              "(tensor([[0.7586, 0.9354, 0.6536, 0.3595],\n",
              "         [0.2990, 0.4072, 0.6096, 0.5824],\n",
              "         [0.9097, 0.5546, 0.5124, 0.4885]]),\n",
              " torch.float32)"
            ]
          },
          "metadata": {},
          "execution_count": 5
        }
      ]
    },
    {
      "cell_type": "code",
      "source": [
        "zero_to_ten = torch.range(0,10)\n",
        "ztt = torch.arange(start=0,end=10,step=1)\n",
        "ztt"
      ],
      "metadata": {
        "colab": {
          "base_uri": "https://localhost:8080/"
        },
        "id": "WuMz8bCNkeZA",
        "outputId": "d6ed5da2-325a-4696-9acc-b2a084ccd96a"
      },
      "execution_count": 6,
      "outputs": [
        {
          "output_type": "stream",
          "name": "stderr",
          "text": [
            "<ipython-input-6-b7430dc69494>:1: UserWarning: torch.range is deprecated and will be removed in a future release because its behavior is inconsistent with Python's range builtin. Instead, use torch.arange, which produces values in [start, end).\n",
            "  zero_to_ten = torch.range(0,10)\n"
          ]
        },
        {
          "output_type": "execute_result",
          "data": {
            "text/plain": [
              "tensor([0, 1, 2, 3, 4, 5, 6, 7, 8, 9])"
            ]
          },
          "metadata": {},
          "execution_count": 6
        }
      ]
    },
    {
      "cell_type": "markdown",
      "source": [
        "### NN implementation"
      ],
      "metadata": {
        "id": "XsOiq3eQlCmr"
      }
    },
    {
      "cell_type": "code",
      "source": [
        "tensor_A = torch.tensor([[1, 2],\n",
        "                         [3, 4],\n",
        "                         [5, 6]], dtype=torch.float32)"
      ],
      "metadata": {
        "id": "LcZRTFmklSR5"
      },
      "execution_count": 7,
      "outputs": []
    },
    {
      "cell_type": "code",
      "source": [
        "torch.manual_seed(42)\n",
        "linear = torch.nn.Linear(in_features=2,out_features=6)\n",
        "\n",
        "x = tensor_A\n",
        "output = linear(x)\n",
        "print(f\"\\nInput shape: {x.shape}\\n\")\n",
        "print(f\"Output:\\n{output}\\n\\nOutput shape: {output.shape}\")"
      ],
      "metadata": {
        "colab": {
          "base_uri": "https://localhost:8080/"
        },
        "id": "teGRcqUolF1q",
        "outputId": "ff8ccfd9-d180-498f-f305-493e218b8839"
      },
      "execution_count": 8,
      "outputs": [
        {
          "output_type": "stream",
          "name": "stdout",
          "text": [
            "\n",
            "Input shape: torch.Size([3, 2])\n",
            "\n",
            "Output:\n",
            "tensor([[2.2368, 1.2292, 0.4714, 0.3864, 0.1309, 0.9838],\n",
            "        [4.4919, 2.1970, 0.4469, 0.5285, 0.3401, 2.4777],\n",
            "        [6.7469, 3.1648, 0.4224, 0.6705, 0.5493, 3.9716]],\n",
            "       grad_fn=<AddmmBackward0>)\n",
            "\n",
            "Output shape: torch.Size([3, 6])\n"
          ]
        }
      ]
    },
    {
      "cell_type": "code",
      "source": [
        "x = torch.arange(12,dtype=torch.float32)\n",
        "x"
      ],
      "metadata": {
        "colab": {
          "base_uri": "https://localhost:8080/"
        },
        "id": "lwPd2_hnrU5O",
        "outputId": "3eba39f0-cc96-4325-bc76-1246c9d25f12"
      },
      "execution_count": 9,
      "outputs": [
        {
          "output_type": "execute_result",
          "data": {
            "text/plain": [
              "tensor([ 0.,  1.,  2.,  3.,  4.,  5.,  6.,  7.,  8.,  9., 10., 11.])"
            ]
          },
          "metadata": {},
          "execution_count": 9
        }
      ]
    },
    {
      "cell_type": "code",
      "source": [
        "x.numel()"
      ],
      "metadata": {
        "colab": {
          "base_uri": "https://localhost:8080/"
        },
        "id": "7Hj16jJ0rj02",
        "outputId": "2a9b535d-860f-49d8-92d7-1c72bef5a2b1"
      },
      "execution_count": 10,
      "outputs": [
        {
          "output_type": "execute_result",
          "data": {
            "text/plain": [
              "12"
            ]
          },
          "metadata": {},
          "execution_count": 10
        }
      ]
    },
    {
      "cell_type": "code",
      "source": [
        "x.shape\n",
        "X = x.reshape(3,4)"
      ],
      "metadata": {
        "id": "_R8MFqTgtK8j"
      },
      "execution_count": 11,
      "outputs": []
    },
    {
      "cell_type": "code",
      "source": [
        "torch.tensor([[2,1,4,5],[1,2,3,4],[4,5,2,1]])"
      ],
      "metadata": {
        "colab": {
          "base_uri": "https://localhost:8080/"
        },
        "id": "LZO_UDd9t8s0",
        "outputId": "7d83a2d6-b98b-48f1-9af3-8b5f137d0f5c"
      },
      "execution_count": 12,
      "outputs": [
        {
          "output_type": "execute_result",
          "data": {
            "text/plain": [
              "tensor([[2, 1, 4, 5],\n",
              "        [1, 2, 3, 4],\n",
              "        [4, 5, 2, 1]])"
            ]
          },
          "metadata": {},
          "execution_count": 12
        }
      ]
    },
    {
      "cell_type": "code",
      "source": [
        "X[-1],X[1:3]"
      ],
      "metadata": {
        "colab": {
          "base_uri": "https://localhost:8080/"
        },
        "id": "A3xF60eluKUr",
        "outputId": "3043ea21-6797-4918-de02-def040a6ac7c"
      },
      "execution_count": 13,
      "outputs": [
        {
          "output_type": "execute_result",
          "data": {
            "text/plain": [
              "(tensor([ 8.,  9., 10., 11.]),\n",
              " tensor([[ 4.,  5.,  6.,  7.],\n",
              "         [ 8.,  9., 10., 11.]]))"
            ]
          },
          "metadata": {},
          "execution_count": 13
        }
      ]
    },
    {
      "cell_type": "code",
      "source": [
        "torch.exp(x)"
      ],
      "metadata": {
        "colab": {
          "base_uri": "https://localhost:8080/"
        },
        "id": "c5p26cIXulAD",
        "outputId": "8adb9201-e934-4c6e-f4c2-e33f99ba2ec0"
      },
      "execution_count": 14,
      "outputs": [
        {
          "output_type": "execute_result",
          "data": {
            "text/plain": [
              "tensor([1.0000e+00, 2.7183e+00, 7.3891e+00, 2.0086e+01, 5.4598e+01, 1.4841e+02,\n",
              "        4.0343e+02, 1.0966e+03, 2.9810e+03, 8.1031e+03, 2.2026e+04, 5.9874e+04])"
            ]
          },
          "metadata": {},
          "execution_count": 14
        }
      ]
    },
    {
      "cell_type": "code",
      "source": [
        "x = torch.tensor([1.0,2,4,8])\n",
        "y= torch.tensor([2,2,2,2])\n",
        "\n",
        "x+y,x-y,x*y,x/y,x**y"
      ],
      "metadata": {
        "colab": {
          "base_uri": "https://localhost:8080/"
        },
        "id": "jsGYp22xuozR",
        "outputId": "0ce5b886-7431-40d1-e6c2-f823dee5f551"
      },
      "execution_count": 15,
      "outputs": [
        {
          "output_type": "execute_result",
          "data": {
            "text/plain": [
              "(tensor([ 3.,  4.,  6., 10.]),\n",
              " tensor([-1.,  0.,  2.,  6.]),\n",
              " tensor([ 2.,  4.,  8., 16.]),\n",
              " tensor([0.5000, 1.0000, 2.0000, 4.0000]),\n",
              " tensor([ 1.,  4., 16., 64.]))"
            ]
          },
          "metadata": {},
          "execution_count": 15
        }
      ]
    },
    {
      "cell_type": "code",
      "source": [
        "X = torch.arange(12,dtype=torch.float32).reshape((3,4))\n",
        "Y = torch.tensor([[2.0,1,4,3],[1,2,3,4],[4,3,2,1]])\n",
        "\n",
        "torch.cat((X,Y),dim=0),torch.cat((X,Y),dim=1)"
      ],
      "metadata": {
        "colab": {
          "base_uri": "https://localhost:8080/"
        },
        "id": "qyAx246wvQke",
        "outputId": "6d43fa0d-d07a-4869-b9d6-c1dd67b050c3"
      },
      "execution_count": 16,
      "outputs": [
        {
          "output_type": "execute_result",
          "data": {
            "text/plain": [
              "(tensor([[ 0.,  1.,  2.,  3.],\n",
              "         [ 4.,  5.,  6.,  7.],\n",
              "         [ 8.,  9., 10., 11.],\n",
              "         [ 2.,  1.,  4.,  3.],\n",
              "         [ 1.,  2.,  3.,  4.],\n",
              "         [ 4.,  3.,  2.,  1.]]),\n",
              " tensor([[ 0.,  1.,  2.,  3.,  2.,  1.,  4.,  3.],\n",
              "         [ 4.,  5.,  6.,  7.,  1.,  2.,  3.,  4.],\n",
              "         [ 8.,  9., 10., 11.,  4.,  3.,  2.,  1.]]))"
            ]
          },
          "metadata": {},
          "execution_count": 16
        }
      ]
    },
    {
      "cell_type": "markdown",
      "source": [
        "Broadcasting\n"
      ],
      "metadata": {
        "id": "ubnyut4Vw2Bk"
      }
    },
    {
      "cell_type": "code",
      "source": [
        "a = torch.arange(3).reshape((3,1))\n",
        "b = torch.arange(2).reshape((1,2))\n",
        "a,b"
      ],
      "metadata": {
        "colab": {
          "base_uri": "https://localhost:8080/"
        },
        "id": "55_dCiuCw3kZ",
        "outputId": "04cd927f-e29b-49f8-f2ed-5ad41029a63c"
      },
      "execution_count": 17,
      "outputs": [
        {
          "output_type": "execute_result",
          "data": {
            "text/plain": [
              "(tensor([[0],\n",
              "         [1],\n",
              "         [2]]),\n",
              " tensor([[0, 1]]))"
            ]
          },
          "metadata": {},
          "execution_count": 17
        }
      ]
    },
    {
      "cell_type": "code",
      "source": [
        "a+b"
      ],
      "metadata": {
        "colab": {
          "base_uri": "https://localhost:8080/"
        },
        "id": "qjsSo9M2xBZA",
        "outputId": "53532e40-9d82-4d5e-970b-557f25a24a9e"
      },
      "execution_count": 18,
      "outputs": [
        {
          "output_type": "execute_result",
          "data": {
            "text/plain": [
              "tensor([[0, 1],\n",
              "        [1, 2],\n",
              "        [2, 3]])"
            ]
          },
          "metadata": {},
          "execution_count": 18
        }
      ]
    },
    {
      "cell_type": "markdown",
      "source": [
        "Saving Memory\n"
      ],
      "metadata": {
        "id": "X-iSl0JU1Dxe"
      }
    },
    {
      "cell_type": "code",
      "source": [
        "before = id(Y)\n",
        "Y = Y+X\n",
        "id(Y) == before"
      ],
      "metadata": {
        "colab": {
          "base_uri": "https://localhost:8080/"
        },
        "id": "0WQA8uuB1IbQ",
        "outputId": "915e3141-eb12-4c94-b613-6baff592589d"
      },
      "execution_count": 19,
      "outputs": [
        {
          "output_type": "execute_result",
          "data": {
            "text/plain": [
              "False"
            ]
          },
          "metadata": {},
          "execution_count": 19
        }
      ]
    },
    {
      "cell_type": "code",
      "source": [
        "Z = torch.zeros_like(Y)\n",
        "print('id(Z):', id(Z))\n",
        "Z[:] = X+Y\n",
        "print('id(Z):', id(Z))"
      ],
      "metadata": {
        "colab": {
          "base_uri": "https://localhost:8080/"
        },
        "id": "hCB8s6Os1rzN",
        "outputId": "a8239300-86c9-4697-b8ef-faad78e3ade2"
      },
      "execution_count": 20,
      "outputs": [
        {
          "output_type": "stream",
          "name": "stdout",
          "text": [
            "id(Z): 132066977284272\n",
            "id(Z): 132066977284272\n"
          ]
        }
      ]
    },
    {
      "cell_type": "code",
      "source": [
        "A =  X.numpy()\n",
        "B = torch.from_numpy(A)\n",
        "type(A),type(B)"
      ],
      "metadata": {
        "colab": {
          "base_uri": "https://localhost:8080/"
        },
        "id": "WeJKawky2NYt",
        "outputId": "ace07369-3976-4791-9d24-5917689fd169"
      },
      "execution_count": 21,
      "outputs": [
        {
          "output_type": "execute_result",
          "data": {
            "text/plain": [
              "(numpy.ndarray, torch.Tensor)"
            ]
          },
          "metadata": {},
          "execution_count": 21
        }
      ]
    },
    {
      "cell_type": "markdown",
      "source": [
        "### Data Preprocessing"
      ],
      "metadata": {
        "id": "FTMLK5Eo2_WI"
      }
    },
    {
      "cell_type": "code",
      "source": [
        "import os\n",
        "\n",
        "os.makedirs(os.path.join('..', 'data'), exist_ok=True)\n",
        "dfile = os.path.join('..', 'data', 'house_tiny.csv')\n",
        "with open(dfile, 'w') as f:\n",
        "    f.write('''NumRooms,RoofType,Price\n",
        "NA,NA,127500\n",
        "2,NA,106000\n",
        "4,Slate,178100\n",
        "NA,NA,140000''')"
      ],
      "metadata": {
        "id": "_5fXPmWC3LrP"
      },
      "execution_count": 22,
      "outputs": []
    },
    {
      "cell_type": "code",
      "source": [
        "import pandas as pd\n",
        "\n",
        "data = pd.read_csv(dfile)\n",
        "print(data)"
      ],
      "metadata": {
        "colab": {
          "base_uri": "https://localhost:8080/"
        },
        "id": "A6VH3JVn3DQz",
        "outputId": "e4045611-7473-40c2-c22a-8efdf8c00dcc"
      },
      "execution_count": 23,
      "outputs": [
        {
          "output_type": "stream",
          "name": "stdout",
          "text": [
            "   NumRooms RoofType   Price\n",
            "0       NaN      NaN  127500\n",
            "1       2.0      NaN  106000\n",
            "2       4.0    Slate  178100\n",
            "3       NaN      NaN  140000\n"
          ]
        }
      ]
    },
    {
      "cell_type": "code",
      "source": [
        "inputs,targets = data.iloc[:,0:2], data.iloc[:,2]\n",
        "inputs= pd.get_dummies(inputs,dummy_na=True)\n",
        "print(inputs)"
      ],
      "metadata": {
        "colab": {
          "base_uri": "https://localhost:8080/"
        },
        "id": "MINFhiMUkaF9",
        "outputId": "0ee285ad-84ce-45ad-87c4-22d501472278"
      },
      "execution_count": 24,
      "outputs": [
        {
          "output_type": "stream",
          "name": "stdout",
          "text": [
            "   NumRooms  RoofType_Slate  RoofType_nan\n",
            "0       NaN           False          True\n",
            "1       2.0           False          True\n",
            "2       4.0            True         False\n",
            "3       NaN           False          True\n"
          ]
        }
      ]
    },
    {
      "cell_type": "code",
      "source": [
        "inputs = inputs.fillna(inputs.mean())\n",
        "print(inputs)"
      ],
      "metadata": {
        "colab": {
          "base_uri": "https://localhost:8080/"
        },
        "id": "-I72VOv9lBBA",
        "outputId": "c0aa557a-8fb6-4c74-c20f-d7fed7235a83"
      },
      "execution_count": 25,
      "outputs": [
        {
          "output_type": "stream",
          "name": "stdout",
          "text": [
            "   NumRooms  RoofType_Slate  RoofType_nan\n",
            "0       3.0           False          True\n",
            "1       2.0           False          True\n",
            "2       4.0            True         False\n",
            "3       3.0           False          True\n"
          ]
        }
      ]
    },
    {
      "cell_type": "code",
      "source": [
        "# conversion to tensor format\n",
        "import torch\n",
        "\n",
        "X = torch.tensor(inputs.to_numpy(dtype=float))\n",
        "y = torch.tensor(targets.to_numpy(dtype=float))\n",
        "X,y"
      ],
      "metadata": {
        "colab": {
          "base_uri": "https://localhost:8080/"
        },
        "id": "mRW1qRZMpiBc",
        "outputId": "48818b5f-1fab-4171-d0d1-9e7e01903e77"
      },
      "execution_count": 26,
      "outputs": [
        {
          "output_type": "execute_result",
          "data": {
            "text/plain": [
              "(tensor([[3., 0., 1.],\n",
              "         [2., 0., 1.],\n",
              "         [4., 1., 0.],\n",
              "         [3., 0., 1.]], dtype=torch.float64),\n",
              " tensor([127500., 106000., 178100., 140000.], dtype=torch.float64))"
            ]
          },
          "metadata": {},
          "execution_count": 26
        }
      ]
    },
    {
      "cell_type": "markdown",
      "source": [
        "## Linar Algebra"
      ],
      "metadata": {
        "id": "xUn5geMOqWdN"
      }
    },
    {
      "cell_type": "code",
      "source": [
        "import torch"
      ],
      "metadata": {
        "id": "DmbjS3C7p9ee"
      },
      "execution_count": 27,
      "outputs": []
    },
    {
      "cell_type": "code",
      "source": [
        "x = torch.tensor(3.0)\n",
        "y = torch.tensor(2.0)\n",
        "\n",
        "x+y,x*y,x/y,x**y"
      ],
      "metadata": {
        "colab": {
          "base_uri": "https://localhost:8080/"
        },
        "id": "_vd1QCroqcTa",
        "outputId": "c79f8fa2-b073-4581-84da-9cda671ec626"
      },
      "execution_count": 28,
      "outputs": [
        {
          "output_type": "execute_result",
          "data": {
            "text/plain": [
              "(tensor(5.), tensor(6.), tensor(1.5000), tensor(9.))"
            ]
          },
          "metadata": {},
          "execution_count": 28
        }
      ]
    },
    {
      "cell_type": "markdown",
      "source": [
        "#### Vectors"
      ],
      "metadata": {
        "id": "X-x_fkt1qnrh"
      }
    },
    {
      "cell_type": "code",
      "source": [
        "x = torch.arange(3)\n",
        "x"
      ],
      "metadata": {
        "colab": {
          "base_uri": "https://localhost:8080/"
        },
        "id": "ZQrVMFXtqsgV",
        "outputId": "013c2176-de14-45e7-d73c-24030c37c306"
      },
      "execution_count": 29,
      "outputs": [
        {
          "output_type": "execute_result",
          "data": {
            "text/plain": [
              "tensor([0, 1, 2])"
            ]
          },
          "metadata": {},
          "execution_count": 29
        }
      ]
    },
    {
      "cell_type": "markdown",
      "source": [
        "### Matrices"
      ],
      "metadata": {
        "id": "9-eUAK21q1kc"
      }
    },
    {
      "cell_type": "code",
      "source": [
        "A = torch.arange(6).reshape(3,2)\n",
        "A"
      ],
      "metadata": {
        "colab": {
          "base_uri": "https://localhost:8080/"
        },
        "id": "ljMoxOqwq48Z",
        "outputId": "f98bb7e8-e039-401f-b22e-55c5e2a1eb74"
      },
      "execution_count": 30,
      "outputs": [
        {
          "output_type": "execute_result",
          "data": {
            "text/plain": [
              "tensor([[0, 1],\n",
              "        [2, 3],\n",
              "        [4, 5]])"
            ]
          },
          "metadata": {},
          "execution_count": 30
        }
      ]
    },
    {
      "cell_type": "code",
      "source": [
        "A.T"
      ],
      "metadata": {
        "colab": {
          "base_uri": "https://localhost:8080/"
        },
        "id": "OUWE4y3aq_-S",
        "outputId": "b8840b86-9be1-4266-85d6-90bb855fec1f"
      },
      "execution_count": 31,
      "outputs": [
        {
          "output_type": "execute_result",
          "data": {
            "text/plain": [
              "tensor([[0, 2, 4],\n",
              "        [1, 3, 5]])"
            ]
          },
          "metadata": {},
          "execution_count": 31
        }
      ]
    },
    {
      "cell_type": "code",
      "source": [
        "A = torch.tensor([[1,2,3],[2,0,4],[3,4,5]])\n",
        "A == A.T"
      ],
      "metadata": {
        "colab": {
          "base_uri": "https://localhost:8080/"
        },
        "id": "y40dNq3jrCDg",
        "outputId": "e6707b7d-930b-4ee5-f5c6-9466f1f8e601"
      },
      "execution_count": 32,
      "outputs": [
        {
          "output_type": "execute_result",
          "data": {
            "text/plain": [
              "tensor([[True, True, True],\n",
              "        [True, True, True],\n",
              "        [True, True, True]])"
            ]
          },
          "metadata": {},
          "execution_count": 32
        }
      ]
    },
    {
      "cell_type": "code",
      "source": [
        "A = torch.arange(6,dtype=torch.float32).reshape(2,3)\n",
        "B = A.clone()\n",
        "A , A+B"
      ],
      "metadata": {
        "colab": {
          "base_uri": "https://localhost:8080/"
        },
        "id": "8clP9dNxrTTi",
        "outputId": "bd30e0e9-b300-42ca-c555-b1f899a221b6"
      },
      "execution_count": 33,
      "outputs": [
        {
          "output_type": "execute_result",
          "data": {
            "text/plain": [
              "(tensor([[0., 1., 2.],\n",
              "         [3., 4., 5.]]),\n",
              " tensor([[ 0.,  2.,  4.],\n",
              "         [ 6.,  8., 10.]]))"
            ]
          },
          "metadata": {},
          "execution_count": 33
        }
      ]
    },
    {
      "cell_type": "code",
      "source": [
        "a = 2\n",
        "X = torch.arange(24).reshape(2,3,4)\n",
        "a + X, (a*X).shape"
      ],
      "metadata": {
        "colab": {
          "base_uri": "https://localhost:8080/"
        },
        "id": "Ggt6r6H3rins",
        "outputId": "d726b8b6-fadc-43a2-d6f8-4f785c7890d6"
      },
      "execution_count": 34,
      "outputs": [
        {
          "output_type": "execute_result",
          "data": {
            "text/plain": [
              "(tensor([[[ 2,  3,  4,  5],\n",
              "          [ 6,  7,  8,  9],\n",
              "          [10, 11, 12, 13]],\n",
              " \n",
              "         [[14, 15, 16, 17],\n",
              "          [18, 19, 20, 21],\n",
              "          [22, 23, 24, 25]]]),\n",
              " torch.Size([2, 3, 4]))"
            ]
          },
          "metadata": {},
          "execution_count": 34
        }
      ]
    },
    {
      "cell_type": "markdown",
      "source": [
        "#### Reduction"
      ],
      "metadata": {
        "id": "hqbKVOWTruzu"
      }
    },
    {
      "cell_type": "code",
      "source": [
        "x = torch.arange(3, dtype=torch.float32 )\n",
        "x,x.sum()"
      ],
      "metadata": {
        "colab": {
          "base_uri": "https://localhost:8080/"
        },
        "id": "RLiueyB6r0Uu",
        "outputId": "27701dec-e84e-4149-e25a-5d7d78a097fc"
      },
      "execution_count": 35,
      "outputs": [
        {
          "output_type": "execute_result",
          "data": {
            "text/plain": [
              "(tensor([0., 1., 2.]), tensor(3.))"
            ]
          },
          "metadata": {},
          "execution_count": 35
        }
      ]
    },
    {
      "cell_type": "code",
      "source": [
        "A.shape , A.sum(axis =  1).shape"
      ],
      "metadata": {
        "colab": {
          "base_uri": "https://localhost:8080/"
        },
        "id": "vzpGxksisHAy",
        "outputId": "5b9c46f3-b821-42b3-ac09-bb15fe8c3aa3"
      },
      "execution_count": 36,
      "outputs": [
        {
          "output_type": "execute_result",
          "data": {
            "text/plain": [
              "(torch.Size([2, 3]), torch.Size([2]))"
            ]
          },
          "metadata": {},
          "execution_count": 36
        }
      ]
    },
    {
      "cell_type": "code",
      "source": [
        "A.sum(axis=[0,1]) == A.sum()"
      ],
      "metadata": {
        "colab": {
          "base_uri": "https://localhost:8080/"
        },
        "id": "abYs0QXUsK5T",
        "outputId": "e24f2546-c393-4f5c-b845-fb130aed5114"
      },
      "execution_count": 37,
      "outputs": [
        {
          "output_type": "execute_result",
          "data": {
            "text/plain": [
              "tensor(True)"
            ]
          },
          "metadata": {},
          "execution_count": 37
        }
      ]
    },
    {
      "cell_type": "code",
      "source": [
        "A.mean(), A.sum()/A.numel()"
      ],
      "metadata": {
        "colab": {
          "base_uri": "https://localhost:8080/"
        },
        "id": "yZefzIutsQ1T",
        "outputId": "3c12ede6-60ad-4d77-c246-d36fbb98b5fd"
      },
      "execution_count": 38,
      "outputs": [
        {
          "output_type": "execute_result",
          "data": {
            "text/plain": [
              "(tensor(2.5000), tensor(2.5000))"
            ]
          },
          "metadata": {},
          "execution_count": 38
        }
      ]
    },
    {
      "cell_type": "code",
      "source": [
        "A.mean(axis=0), A.sum(axis=0)/A.shape[0]"
      ],
      "metadata": {
        "colab": {
          "base_uri": "https://localhost:8080/"
        },
        "id": "DpvIJ0e5sVI2",
        "outputId": "97f7f810-25a3-4dd0-c66c-b2acad77f77f"
      },
      "execution_count": 39,
      "outputs": [
        {
          "output_type": "execute_result",
          "data": {
            "text/plain": [
              "(tensor([1.5000, 2.5000, 3.5000]), tensor([1.5000, 2.5000, 3.5000]))"
            ]
          },
          "metadata": {},
          "execution_count": 39
        }
      ]
    },
    {
      "cell_type": "markdown",
      "source": [
        "#### M-M Multiplication"
      ],
      "metadata": {
        "id": "Sv75TlkWAypr"
      }
    },
    {
      "cell_type": "code",
      "source": [
        "B = torch.ones(3,4)\n",
        "torch.mm(A,B), A@B"
      ],
      "metadata": {
        "colab": {
          "base_uri": "https://localhost:8080/"
        },
        "id": "Tx9dmUMaA5dj",
        "outputId": "75e543ff-4da8-4334-b8b7-203fc41804cc"
      },
      "execution_count": 40,
      "outputs": [
        {
          "output_type": "execute_result",
          "data": {
            "text/plain": [
              "(tensor([[ 3.,  3.,  3.,  3.],\n",
              "         [12., 12., 12., 12.]]),\n",
              " tensor([[ 3.,  3.,  3.,  3.],\n",
              "         [12., 12., 12., 12.]]))"
            ]
          },
          "metadata": {},
          "execution_count": 40
        }
      ]
    },
    {
      "cell_type": "code",
      "source": [
        "u = torch.tensor([3.0,-4.0])\n",
        "torch.norm(u)"
      ],
      "metadata": {
        "colab": {
          "base_uri": "https://localhost:8080/"
        },
        "id": "wOvpU92mBtgp",
        "outputId": "23632cb1-7225-4246-ed29-92ffb5b7bd7f"
      },
      "execution_count": 41,
      "outputs": [
        {
          "output_type": "execute_result",
          "data": {
            "text/plain": [
              "tensor(5.)"
            ]
          },
          "metadata": {},
          "execution_count": 41
        }
      ]
    },
    {
      "cell_type": "markdown",
      "source": [
        "#### Calculus"
      ],
      "metadata": {
        "id": "7gXu9j1tEsou"
      }
    },
    {
      "cell_type": "code",
      "source": [
        "!pip install d2l"
      ],
      "metadata": {
        "colab": {
          "base_uri": "https://localhost:8080/"
        },
        "collapsed": true,
        "id": "9JG4-iosFzfI",
        "outputId": "323a5218-84e9-4a04-8bd6-777c2899b80e"
      },
      "execution_count": 42,
      "outputs": [
        {
          "output_type": "stream",
          "name": "stdout",
          "text": [
            "Requirement already satisfied: d2l in /usr/local/lib/python3.11/dist-packages (1.0.3)\n",
            "Requirement already satisfied: jupyter==1.0.0 in /usr/local/lib/python3.11/dist-packages (from d2l) (1.0.0)\n",
            "Requirement already satisfied: numpy==1.23.5 in /usr/local/lib/python3.11/dist-packages (from d2l) (1.23.5)\n",
            "Requirement already satisfied: matplotlib==3.7.2 in /usr/local/lib/python3.11/dist-packages (from d2l) (3.7.2)\n",
            "Requirement already satisfied: matplotlib-inline==0.1.6 in /usr/local/lib/python3.11/dist-packages (from d2l) (0.1.6)\n",
            "Requirement already satisfied: requests==2.31.0 in /usr/local/lib/python3.11/dist-packages (from d2l) (2.31.0)\n",
            "Requirement already satisfied: pandas==2.0.3 in /usr/local/lib/python3.11/dist-packages (from d2l) (2.0.3)\n",
            "Requirement already satisfied: scipy==1.10.1 in /usr/local/lib/python3.11/dist-packages (from d2l) (1.10.1)\n",
            "Requirement already satisfied: notebook in /usr/local/lib/python3.11/dist-packages (from jupyter==1.0.0->d2l) (6.5.5)\n",
            "Requirement already satisfied: qtconsole in /usr/local/lib/python3.11/dist-packages (from jupyter==1.0.0->d2l) (5.6.1)\n",
            "Requirement already satisfied: jupyter-console in /usr/local/lib/python3.11/dist-packages (from jupyter==1.0.0->d2l) (6.1.0)\n",
            "Requirement already satisfied: nbconvert in /usr/local/lib/python3.11/dist-packages (from jupyter==1.0.0->d2l) (7.16.6)\n",
            "Requirement already satisfied: ipykernel in /usr/local/lib/python3.11/dist-packages (from jupyter==1.0.0->d2l) (6.17.1)\n",
            "Requirement already satisfied: ipywidgets in /usr/local/lib/python3.11/dist-packages (from jupyter==1.0.0->d2l) (7.7.1)\n",
            "Requirement already satisfied: contourpy>=1.0.1 in /usr/local/lib/python3.11/dist-packages (from matplotlib==3.7.2->d2l) (1.3.1)\n",
            "Requirement already satisfied: cycler>=0.10 in /usr/local/lib/python3.11/dist-packages (from matplotlib==3.7.2->d2l) (0.12.1)\n",
            "Requirement already satisfied: fonttools>=4.22.0 in /usr/local/lib/python3.11/dist-packages (from matplotlib==3.7.2->d2l) (4.56.0)\n",
            "Requirement already satisfied: kiwisolver>=1.0.1 in /usr/local/lib/python3.11/dist-packages (from matplotlib==3.7.2->d2l) (1.4.8)\n",
            "Requirement already satisfied: packaging>=20.0 in /usr/local/lib/python3.11/dist-packages (from matplotlib==3.7.2->d2l) (24.2)\n",
            "Requirement already satisfied: pillow>=6.2.0 in /usr/local/lib/python3.11/dist-packages (from matplotlib==3.7.2->d2l) (11.1.0)\n",
            "Requirement already satisfied: pyparsing<3.1,>=2.3.1 in /usr/local/lib/python3.11/dist-packages (from matplotlib==3.7.2->d2l) (3.0.9)\n",
            "Requirement already satisfied: python-dateutil>=2.7 in /usr/local/lib/python3.11/dist-packages (from matplotlib==3.7.2->d2l) (2.8.2)\n",
            "Requirement already satisfied: traitlets in /usr/local/lib/python3.11/dist-packages (from matplotlib-inline==0.1.6->d2l) (5.7.1)\n",
            "Requirement already satisfied: pytz>=2020.1 in /usr/local/lib/python3.11/dist-packages (from pandas==2.0.3->d2l) (2025.1)\n",
            "Requirement already satisfied: tzdata>=2022.1 in /usr/local/lib/python3.11/dist-packages (from pandas==2.0.3->d2l) (2025.1)\n",
            "Requirement already satisfied: charset-normalizer<4,>=2 in /usr/local/lib/python3.11/dist-packages (from requests==2.31.0->d2l) (3.4.1)\n",
            "Requirement already satisfied: idna<4,>=2.5 in /usr/local/lib/python3.11/dist-packages (from requests==2.31.0->d2l) (3.10)\n",
            "Requirement already satisfied: urllib3<3,>=1.21.1 in /usr/local/lib/python3.11/dist-packages (from requests==2.31.0->d2l) (2.3.0)\n",
            "Requirement already satisfied: certifi>=2017.4.17 in /usr/local/lib/python3.11/dist-packages (from requests==2.31.0->d2l) (2025.1.31)\n",
            "Requirement already satisfied: six>=1.5 in /usr/local/lib/python3.11/dist-packages (from python-dateutil>=2.7->matplotlib==3.7.2->d2l) (1.17.0)\n",
            "Requirement already satisfied: debugpy>=1.0 in /usr/local/lib/python3.11/dist-packages (from ipykernel->jupyter==1.0.0->d2l) (1.8.0)\n",
            "Requirement already satisfied: ipython>=7.23.1 in /usr/local/lib/python3.11/dist-packages (from ipykernel->jupyter==1.0.0->d2l) (7.34.0)\n",
            "Requirement already satisfied: jupyter-client>=6.1.12 in /usr/local/lib/python3.11/dist-packages (from ipykernel->jupyter==1.0.0->d2l) (6.1.12)\n",
            "Requirement already satisfied: nest-asyncio in /usr/local/lib/python3.11/dist-packages (from ipykernel->jupyter==1.0.0->d2l) (1.6.0)\n",
            "Requirement already satisfied: psutil in /usr/local/lib/python3.11/dist-packages (from ipykernel->jupyter==1.0.0->d2l) (5.9.5)\n",
            "Requirement already satisfied: pyzmq>=17 in /usr/local/lib/python3.11/dist-packages (from ipykernel->jupyter==1.0.0->d2l) (24.0.1)\n",
            "Requirement already satisfied: tornado>=6.1 in /usr/local/lib/python3.11/dist-packages (from ipykernel->jupyter==1.0.0->d2l) (6.4.2)\n",
            "Requirement already satisfied: ipython-genutils~=0.2.0 in /usr/local/lib/python3.11/dist-packages (from ipywidgets->jupyter==1.0.0->d2l) (0.2.0)\n",
            "Requirement already satisfied: widgetsnbextension~=3.6.0 in /usr/local/lib/python3.11/dist-packages (from ipywidgets->jupyter==1.0.0->d2l) (3.6.10)\n",
            "Requirement already satisfied: jupyterlab-widgets>=1.0.0 in /usr/local/lib/python3.11/dist-packages (from ipywidgets->jupyter==1.0.0->d2l) (3.0.13)\n",
            "Requirement already satisfied: prompt-toolkit!=3.0.0,!=3.0.1,<3.1.0,>=2.0.0 in /usr/local/lib/python3.11/dist-packages (from jupyter-console->jupyter==1.0.0->d2l) (3.0.50)\n",
            "Requirement already satisfied: pygments in /usr/local/lib/python3.11/dist-packages (from jupyter-console->jupyter==1.0.0->d2l) (2.18.0)\n",
            "Requirement already satisfied: beautifulsoup4 in /usr/local/lib/python3.11/dist-packages (from nbconvert->jupyter==1.0.0->d2l) (4.13.3)\n",
            "Requirement already satisfied: bleach!=5.0.0 in /usr/local/lib/python3.11/dist-packages (from bleach[css]!=5.0.0->nbconvert->jupyter==1.0.0->d2l) (6.2.0)\n",
            "Requirement already satisfied: defusedxml in /usr/local/lib/python3.11/dist-packages (from nbconvert->jupyter==1.0.0->d2l) (0.7.1)\n",
            "Requirement already satisfied: jinja2>=3.0 in /usr/local/lib/python3.11/dist-packages (from nbconvert->jupyter==1.0.0->d2l) (3.1.6)\n",
            "Requirement already satisfied: jupyter-core>=4.7 in /usr/local/lib/python3.11/dist-packages (from nbconvert->jupyter==1.0.0->d2l) (5.7.2)\n",
            "Requirement already satisfied: jupyterlab-pygments in /usr/local/lib/python3.11/dist-packages (from nbconvert->jupyter==1.0.0->d2l) (0.3.0)\n",
            "Requirement already satisfied: markupsafe>=2.0 in /usr/local/lib/python3.11/dist-packages (from nbconvert->jupyter==1.0.0->d2l) (3.0.2)\n",
            "Requirement already satisfied: mistune<4,>=2.0.3 in /usr/local/lib/python3.11/dist-packages (from nbconvert->jupyter==1.0.0->d2l) (3.1.2)\n",
            "Requirement already satisfied: nbclient>=0.5.0 in /usr/local/lib/python3.11/dist-packages (from nbconvert->jupyter==1.0.0->d2l) (0.10.2)\n",
            "Requirement already satisfied: nbformat>=5.7 in /usr/local/lib/python3.11/dist-packages (from nbconvert->jupyter==1.0.0->d2l) (5.10.4)\n",
            "Requirement already satisfied: pandocfilters>=1.4.1 in /usr/local/lib/python3.11/dist-packages (from nbconvert->jupyter==1.0.0->d2l) (1.5.1)\n",
            "Requirement already satisfied: argon2-cffi in /usr/local/lib/python3.11/dist-packages (from notebook->jupyter==1.0.0->d2l) (23.1.0)\n",
            "Requirement already satisfied: Send2Trash>=1.8.0 in /usr/local/lib/python3.11/dist-packages (from notebook->jupyter==1.0.0->d2l) (1.8.3)\n",
            "Requirement already satisfied: terminado>=0.8.3 in /usr/local/lib/python3.11/dist-packages (from notebook->jupyter==1.0.0->d2l) (0.18.1)\n",
            "Requirement already satisfied: prometheus-client in /usr/local/lib/python3.11/dist-packages (from notebook->jupyter==1.0.0->d2l) (0.21.1)\n",
            "Requirement already satisfied: nbclassic>=0.4.7 in /usr/local/lib/python3.11/dist-packages (from notebook->jupyter==1.0.0->d2l) (1.2.0)\n",
            "Requirement already satisfied: qtpy>=2.4.0 in /usr/local/lib/python3.11/dist-packages (from qtconsole->jupyter==1.0.0->d2l) (2.4.3)\n",
            "Requirement already satisfied: webencodings in /usr/local/lib/python3.11/dist-packages (from bleach!=5.0.0->bleach[css]!=5.0.0->nbconvert->jupyter==1.0.0->d2l) (0.5.1)\n",
            "Requirement already satisfied: tinycss2<1.5,>=1.1.0 in /usr/local/lib/python3.11/dist-packages (from bleach[css]!=5.0.0->nbconvert->jupyter==1.0.0->d2l) (1.4.0)\n",
            "Requirement already satisfied: setuptools>=18.5 in /usr/local/lib/python3.11/dist-packages (from ipython>=7.23.1->ipykernel->jupyter==1.0.0->d2l) (75.1.0)\n",
            "Requirement already satisfied: jedi>=0.16 in /usr/local/lib/python3.11/dist-packages (from ipython>=7.23.1->ipykernel->jupyter==1.0.0->d2l) (0.19.2)\n",
            "Requirement already satisfied: decorator in /usr/local/lib/python3.11/dist-packages (from ipython>=7.23.1->ipykernel->jupyter==1.0.0->d2l) (4.4.2)\n",
            "Requirement already satisfied: pickleshare in /usr/local/lib/python3.11/dist-packages (from ipython>=7.23.1->ipykernel->jupyter==1.0.0->d2l) (0.7.5)\n",
            "Requirement already satisfied: backcall in /usr/local/lib/python3.11/dist-packages (from ipython>=7.23.1->ipykernel->jupyter==1.0.0->d2l) (0.2.0)\n",
            "Requirement already satisfied: pexpect>4.3 in /usr/local/lib/python3.11/dist-packages (from ipython>=7.23.1->ipykernel->jupyter==1.0.0->d2l) (4.9.0)\n",
            "Requirement already satisfied: platformdirs>=2.5 in /usr/local/lib/python3.11/dist-packages (from jupyter-core>=4.7->nbconvert->jupyter==1.0.0->d2l) (4.3.6)\n",
            "Requirement already satisfied: notebook-shim>=0.2.3 in /usr/local/lib/python3.11/dist-packages (from nbclassic>=0.4.7->notebook->jupyter==1.0.0->d2l) (0.2.4)\n",
            "Requirement already satisfied: fastjsonschema>=2.15 in /usr/local/lib/python3.11/dist-packages (from nbformat>=5.7->nbconvert->jupyter==1.0.0->d2l) (2.21.1)\n",
            "Requirement already satisfied: jsonschema>=2.6 in /usr/local/lib/python3.11/dist-packages (from nbformat>=5.7->nbconvert->jupyter==1.0.0->d2l) (4.23.0)\n",
            "Requirement already satisfied: wcwidth in /usr/local/lib/python3.11/dist-packages (from prompt-toolkit!=3.0.0,!=3.0.1,<3.1.0,>=2.0.0->jupyter-console->jupyter==1.0.0->d2l) (0.2.13)\n",
            "Requirement already satisfied: ptyprocess in /usr/local/lib/python3.11/dist-packages (from terminado>=0.8.3->notebook->jupyter==1.0.0->d2l) (0.7.0)\n",
            "Requirement already satisfied: argon2-cffi-bindings in /usr/local/lib/python3.11/dist-packages (from argon2-cffi->notebook->jupyter==1.0.0->d2l) (21.2.0)\n",
            "Requirement already satisfied: soupsieve>1.2 in /usr/local/lib/python3.11/dist-packages (from beautifulsoup4->nbconvert->jupyter==1.0.0->d2l) (2.6)\n",
            "Requirement already satisfied: typing-extensions>=4.0.0 in /usr/local/lib/python3.11/dist-packages (from beautifulsoup4->nbconvert->jupyter==1.0.0->d2l) (4.12.2)\n",
            "Requirement already satisfied: parso<0.9.0,>=0.8.4 in /usr/local/lib/python3.11/dist-packages (from jedi>=0.16->ipython>=7.23.1->ipykernel->jupyter==1.0.0->d2l) (0.8.4)\n",
            "Requirement already satisfied: attrs>=22.2.0 in /usr/local/lib/python3.11/dist-packages (from jsonschema>=2.6->nbformat>=5.7->nbconvert->jupyter==1.0.0->d2l) (25.1.0)\n",
            "Requirement already satisfied: jsonschema-specifications>=2023.03.6 in /usr/local/lib/python3.11/dist-packages (from jsonschema>=2.6->nbformat>=5.7->nbconvert->jupyter==1.0.0->d2l) (2024.10.1)\n",
            "Requirement already satisfied: referencing>=0.28.4 in /usr/local/lib/python3.11/dist-packages (from jsonschema>=2.6->nbformat>=5.7->nbconvert->jupyter==1.0.0->d2l) (0.36.2)\n",
            "Requirement already satisfied: rpds-py>=0.7.1 in /usr/local/lib/python3.11/dist-packages (from jsonschema>=2.6->nbformat>=5.7->nbconvert->jupyter==1.0.0->d2l) (0.23.1)\n",
            "Requirement already satisfied: jupyter-server<3,>=1.8 in /usr/local/lib/python3.11/dist-packages (from notebook-shim>=0.2.3->nbclassic>=0.4.7->notebook->jupyter==1.0.0->d2l) (1.24.0)\n",
            "Requirement already satisfied: cffi>=1.0.1 in /usr/local/lib/python3.11/dist-packages (from argon2-cffi-bindings->argon2-cffi->notebook->jupyter==1.0.0->d2l) (1.17.1)\n",
            "Requirement already satisfied: pycparser in /usr/local/lib/python3.11/dist-packages (from cffi>=1.0.1->argon2-cffi-bindings->argon2-cffi->notebook->jupyter==1.0.0->d2l) (2.22)\n",
            "Requirement already satisfied: anyio<4,>=3.1.0 in /usr/local/lib/python3.11/dist-packages (from jupyter-server<3,>=1.8->notebook-shim>=0.2.3->nbclassic>=0.4.7->notebook->jupyter==1.0.0->d2l) (3.7.1)\n",
            "Requirement already satisfied: websocket-client in /usr/local/lib/python3.11/dist-packages (from jupyter-server<3,>=1.8->notebook-shim>=0.2.3->nbclassic>=0.4.7->notebook->jupyter==1.0.0->d2l) (1.8.0)\n",
            "Requirement already satisfied: sniffio>=1.1 in /usr/local/lib/python3.11/dist-packages (from anyio<4,>=3.1.0->jupyter-server<3,>=1.8->notebook-shim>=0.2.3->nbclassic>=0.4.7->notebook->jupyter==1.0.0->d2l) (1.3.1)\n"
          ]
        }
      ]
    },
    {
      "cell_type": "code",
      "source": [
        "%matplotlib inline\n",
        "import numpy as np\n",
        "from matplotlib_inline import backend_inline\n",
        "from d2l import torch as d2l"
      ],
      "metadata": {
        "id": "IcforrFkCSGv"
      },
      "execution_count": 43,
      "outputs": []
    },
    {
      "cell_type": "code",
      "source": [
        "def f(x):\n",
        "  return 3*x**2 - 4*x"
      ],
      "metadata": {
        "id": "kLe73-KMGT_C"
      },
      "execution_count": 44,
      "outputs": []
    },
    {
      "cell_type": "code",
      "source": [
        "for h in 10.0**np.arange(-1, -6, -1):\n",
        "    print(f'h={h:.5f}, numerical limit={(f(1+h)-f(1))/h:.5f}')"
      ],
      "metadata": {
        "colab": {
          "base_uri": "https://localhost:8080/"
        },
        "id": "QoiBEXmEGc7r",
        "outputId": "5e7ed9a3-aec2-4558-cffe-922e785a5982"
      },
      "execution_count": 45,
      "outputs": [
        {
          "output_type": "stream",
          "name": "stdout",
          "text": [
            "h=0.10000, numerical limit=2.30000\n",
            "h=0.01000, numerical limit=2.03000\n",
            "h=0.00100, numerical limit=2.00300\n",
            "h=0.00010, numerical limit=2.00030\n",
            "h=0.00001, numerical limit=2.00003\n"
          ]
        }
      ]
    },
    {
      "cell_type": "markdown",
      "source": [
        "#### Visualization Utilitis"
      ],
      "metadata": {
        "id": "oQc5r5aSGpcM"
      }
    },
    {
      "cell_type": "code",
      "source": [
        "def use_svg_display():\n",
        "  backend_inline.set_matplotlib_formats('svg')"
      ],
      "metadata": {
        "id": "A3NHWBiPGso_"
      },
      "execution_count": 46,
      "outputs": []
    },
    {
      "cell_type": "code",
      "source": [
        "def set_figsize(figsize=(3.5, 2.5)):\n",
        "    \"\"\"Set the figure size for matplotlib.\"\"\"\n",
        "    use_svg_display()\n",
        "    d2l.plt.rcParams['figure.figsize'] = figsize\n",
        "\n",
        "def set_axes(axes, xlabel, ylabel, xlim, ylim, xscale, yscale, legend):\n",
        "    \"\"\"Set the axes for matplotlib.\"\"\"\n",
        "    axes.set_xlabel(xlabel), axes.set_ylabel(ylabel)\n",
        "    axes.set_xscale(xscale), axes.set_yscale(yscale)\n",
        "    axes.set_xlim(xlim),     axes.set_ylim(ylim)\n",
        "    if legend:\n",
        "        axes.legend(legend)\n",
        "    axes.grid()\n",
        "\n",
        "def plot(X, Y=None, xlabel=None, ylabel=None, legend=[], xlim=None,\n",
        "         ylim=None, xscale='linear', yscale='linear',\n",
        "         fmts=('-', 'm--', 'g-.', 'r:'), figsize=(3.5, 2.5), axes=None):\n",
        "    \"\"\"Plot data points.\"\"\"\n",
        "\n",
        "    def has_one_axis(X):  # True if X (tensor or list) has 1 axis\n",
        "        return (hasattr(X, \"ndim\") and X.ndim == 1 or isinstance(X, list)\n",
        "                and not hasattr(X[0], \"__len__\"))\n",
        "\n",
        "    if has_one_axis(X): X = [X]\n",
        "    if Y is None:\n",
        "        X, Y = [[]] * len(X), X\n",
        "    elif has_one_axis(Y):\n",
        "        Y = [Y]\n",
        "    if len(X) != len(Y):\n",
        "        X = X * len(Y)\n",
        "\n",
        "    set_figsize(figsize)\n",
        "    if axes is None:\n",
        "        axes = d2l.plt.gca()\n",
        "    axes.cla()\n",
        "    for x, y, fmt in zip(X, Y, fmts):\n",
        "        axes.plot(x,y,fmt) if len(x) else axes.plot(y,fmt)\n",
        "    set_axes(axes, xlabel, ylabel, xlim, ylim, xscale, yscale, legend)"
      ],
      "metadata": {
        "id": "jHyOYmPHG3dH"
      },
      "execution_count": 47,
      "outputs": []
    },
    {
      "cell_type": "code",
      "source": [
        "x = np.arange(0, 3, 0.1)\n",
        "plot(x, [f(x), 2 * x - 3], 'x', 'f(x)', legend=['f(x)', 'Tangent line (x=1)'])\n"
      ],
      "metadata": {
        "colab": {
          "base_uri": "https://localhost:8080/",
          "height": 265
        },
        "id": "tkqfGBnzHD13",
        "outputId": "866bba88-0860-4cc1-e670-7e7d9431bb9f"
      },
      "execution_count": 48,
      "outputs": [
        {
          "output_type": "display_data",
          "data": {
            "text/plain": [
              "<Figure size 350x250 with 1 Axes>"
            ],
            "image/svg+xml": "<?xml version=\"1.0\" encoding=\"utf-8\" standalone=\"no\"?>\n<!DOCTYPE svg PUBLIC \"-//W3C//DTD SVG 1.1//EN\"\n  \"http://www.w3.org/Graphics/SVG/1.1/DTD/svg11.dtd\">\n<svg xmlns:xlink=\"http://www.w3.org/1999/xlink\" width=\"243.529359pt\" height=\"183.35625pt\" viewBox=\"0 0 243.529359 183.35625\" xmlns=\"http://www.w3.org/2000/svg\" version=\"1.1\">\n <metadata>\n  <rdf:RDF xmlns:dc=\"http://purl.org/dc/elements/1.1/\" xmlns:cc=\"http://creativecommons.org/ns#\" xmlns:rdf=\"http://www.w3.org/1999/02/22-rdf-syntax-ns#\">\n   <cc:Work>\n    <dc:type rdf:resource=\"http://purl.org/dc/dcmitype/StillImage\"/>\n    <dc:date>2025-03-12T04:00:40.968720</dc:date>\n    <dc:format>image/svg+xml</dc:format>\n    <dc:creator>\n     <cc:Agent>\n      <dc:title>Matplotlib v3.7.2, https://matplotlib.org/</dc:title>\n     </cc:Agent>\n    </dc:creator>\n   </cc:Work>\n  </rdf:RDF>\n </metadata>\n <defs>\n  <style type=\"text/css\">*{stroke-linejoin: round; stroke-linecap: butt}</style>\n </defs>\n <g id=\"figure_1\">\n  <g id=\"patch_1\">\n   <path d=\"M 0 183.35625 \nL 243.529359 183.35625 \nL 243.529359 0 \nL 0 0 \nz\n\" style=\"fill: #ffffff\"/>\n  </g>\n  <g id=\"axes_1\">\n   <g id=\"patch_2\">\n    <path d=\"M 40.603125 145.8 \nL 235.903125 145.8 \nL 235.903125 7.2 \nL 40.603125 7.2 \nz\n\" style=\"fill: #ffffff\"/>\n   </g>\n   <g id=\"matplotlib.axis_1\">\n    <g id=\"xtick_1\">\n     <g id=\"line2d_1\">\n      <path d=\"M 49.480398 145.8 \nL 49.480398 7.2 \n\" clip-path=\"url(#pe22f1e45ab)\" style=\"fill: none; stroke: #b0b0b0; stroke-width: 0.8; stroke-linecap: square\"/>\n     </g>\n     <g id=\"line2d_2\">\n      <defs>\n       <path id=\"m24034e6be1\" d=\"M 0 0 \nL 0 3.5 \n\" style=\"stroke: #000000; stroke-width: 0.8\"/>\n      </defs>\n      <g>\n       <use xlink:href=\"#m24034e6be1\" x=\"49.480398\" y=\"145.8\" style=\"stroke: #000000; stroke-width: 0.8\"/>\n      </g>\n     </g>\n     <g id=\"text_1\">\n      <!-- 0 -->\n      <g transform=\"translate(46.299148 160.398438) scale(0.1 -0.1)\">\n       <defs>\n        <path id=\"DejaVuSans-30\" d=\"M 2034 4250 \nQ 1547 4250 1301 3770 \nQ 1056 3291 1056 2328 \nQ 1056 1369 1301 889 \nQ 1547 409 2034 409 \nQ 2525 409 2770 889 \nQ 3016 1369 3016 2328 \nQ 3016 3291 2770 3770 \nQ 2525 4250 2034 4250 \nz\nM 2034 4750 \nQ 2819 4750 3233 4129 \nQ 3647 3509 3647 2328 \nQ 3647 1150 3233 529 \nQ 2819 -91 2034 -91 \nQ 1250 -91 836 529 \nQ 422 1150 422 2328 \nQ 422 3509 836 4129 \nQ 1250 4750 2034 4750 \nz\n\" transform=\"scale(0.015625)\"/>\n       </defs>\n       <use xlink:href=\"#DejaVuSans-30\"/>\n      </g>\n     </g>\n    </g>\n    <g id=\"xtick_2\">\n     <g id=\"line2d_3\">\n      <path d=\"M 110.702968 145.8 \nL 110.702968 7.2 \n\" clip-path=\"url(#pe22f1e45ab)\" style=\"fill: none; stroke: #b0b0b0; stroke-width: 0.8; stroke-linecap: square\"/>\n     </g>\n     <g id=\"line2d_4\">\n      <g>\n       <use xlink:href=\"#m24034e6be1\" x=\"110.702968\" y=\"145.8\" style=\"stroke: #000000; stroke-width: 0.8\"/>\n      </g>\n     </g>\n     <g id=\"text_2\">\n      <!-- 1 -->\n      <g transform=\"translate(107.521718 160.398438) scale(0.1 -0.1)\">\n       <defs>\n        <path id=\"DejaVuSans-31\" d=\"M 794 531 \nL 1825 531 \nL 1825 4091 \nL 703 3866 \nL 703 4441 \nL 1819 4666 \nL 2450 4666 \nL 2450 531 \nL 3481 531 \nL 3481 0 \nL 794 0 \nL 794 531 \nz\n\" transform=\"scale(0.015625)\"/>\n       </defs>\n       <use xlink:href=\"#DejaVuSans-31\"/>\n      </g>\n     </g>\n    </g>\n    <g id=\"xtick_3\">\n     <g id=\"line2d_5\">\n      <path d=\"M 171.925539 145.8 \nL 171.925539 7.2 \n\" clip-path=\"url(#pe22f1e45ab)\" style=\"fill: none; stroke: #b0b0b0; stroke-width: 0.8; stroke-linecap: square\"/>\n     </g>\n     <g id=\"line2d_6\">\n      <g>\n       <use xlink:href=\"#m24034e6be1\" x=\"171.925539\" y=\"145.8\" style=\"stroke: #000000; stroke-width: 0.8\"/>\n      </g>\n     </g>\n     <g id=\"text_3\">\n      <!-- 2 -->\n      <g transform=\"translate(168.744289 160.398438) scale(0.1 -0.1)\">\n       <defs>\n        <path id=\"DejaVuSans-32\" d=\"M 1228 531 \nL 3431 531 \nL 3431 0 \nL 469 0 \nL 469 531 \nQ 828 903 1448 1529 \nQ 2069 2156 2228 2338 \nQ 2531 2678 2651 2914 \nQ 2772 3150 2772 3378 \nQ 2772 3750 2511 3984 \nQ 2250 4219 1831 4219 \nQ 1534 4219 1204 4116 \nQ 875 4013 500 3803 \nL 500 4441 \nQ 881 4594 1212 4672 \nQ 1544 4750 1819 4750 \nQ 2544 4750 2975 4387 \nQ 3406 4025 3406 3419 \nQ 3406 3131 3298 2873 \nQ 3191 2616 2906 2266 \nQ 2828 2175 2409 1742 \nQ 1991 1309 1228 531 \nz\n\" transform=\"scale(0.015625)\"/>\n       </defs>\n       <use xlink:href=\"#DejaVuSans-32\"/>\n      </g>\n     </g>\n    </g>\n    <g id=\"xtick_4\">\n     <g id=\"line2d_7\">\n      <path d=\"M 233.148109 145.8 \nL 233.148109 7.2 \n\" clip-path=\"url(#pe22f1e45ab)\" style=\"fill: none; stroke: #b0b0b0; stroke-width: 0.8; stroke-linecap: square\"/>\n     </g>\n     <g id=\"line2d_8\">\n      <g>\n       <use xlink:href=\"#m24034e6be1\" x=\"233.148109\" y=\"145.8\" style=\"stroke: #000000; stroke-width: 0.8\"/>\n      </g>\n     </g>\n     <g id=\"text_4\">\n      <!-- 3 -->\n      <g transform=\"translate(229.966859 160.398438) scale(0.1 -0.1)\">\n       <defs>\n        <path id=\"DejaVuSans-33\" d=\"M 2597 2516 \nQ 3050 2419 3304 2112 \nQ 3559 1806 3559 1356 \nQ 3559 666 3084 287 \nQ 2609 -91 1734 -91 \nQ 1441 -91 1130 -33 \nQ 819 25 488 141 \nL 488 750 \nQ 750 597 1062 519 \nQ 1375 441 1716 441 \nQ 2309 441 2620 675 \nQ 2931 909 2931 1356 \nQ 2931 1769 2642 2001 \nQ 2353 2234 1838 2234 \nL 1294 2234 \nL 1294 2753 \nL 1863 2753 \nQ 2328 2753 2575 2939 \nQ 2822 3125 2822 3475 \nQ 2822 3834 2567 4026 \nQ 2313 4219 1838 4219 \nQ 1578 4219 1281 4162 \nQ 984 4106 628 3988 \nL 628 4550 \nQ 988 4650 1302 4700 \nQ 1616 4750 1894 4750 \nQ 2613 4750 3031 4423 \nQ 3450 4097 3450 3541 \nQ 3450 3153 3228 2886 \nQ 3006 2619 2597 2516 \nz\n\" transform=\"scale(0.015625)\"/>\n       </defs>\n       <use xlink:href=\"#DejaVuSans-33\"/>\n      </g>\n     </g>\n    </g>\n    <g id=\"text_5\">\n     <!-- x -->\n     <g transform=\"translate(135.29375 174.076563) scale(0.1 -0.1)\">\n      <defs>\n       <path id=\"DejaVuSans-78\" d=\"M 3513 3500 \nL 2247 1797 \nL 3578 0 \nL 2900 0 \nL 1881 1375 \nL 863 0 \nL 184 0 \nL 1544 1831 \nL 300 3500 \nL 978 3500 \nL 1906 2253 \nL 2834 3500 \nL 3513 3500 \nz\n\" transform=\"scale(0.015625)\"/>\n      </defs>\n      <use xlink:href=\"#DejaVuSans-78\"/>\n     </g>\n    </g>\n   </g>\n   <g id=\"matplotlib.axis_2\">\n    <g id=\"ytick_1\">\n     <g id=\"line2d_9\">\n      <path d=\"M 40.603125 116.769994 \nL 235.903125 116.769994 \n\" clip-path=\"url(#pe22f1e45ab)\" style=\"fill: none; stroke: #b0b0b0; stroke-width: 0.8; stroke-linecap: square\"/>\n     </g>\n     <g id=\"line2d_10\">\n      <defs>\n       <path id=\"m7b65dc8b1f\" d=\"M 0 0 \nL -3.5 0 \n\" style=\"stroke: #000000; stroke-width: 0.8\"/>\n      </defs>\n      <g>\n       <use xlink:href=\"#m7b65dc8b1f\" x=\"40.603125\" y=\"116.769994\" style=\"stroke: #000000; stroke-width: 0.8\"/>\n      </g>\n     </g>\n     <g id=\"text_6\">\n      <!-- 0 -->\n      <g transform=\"translate(27.240625 120.569213) scale(0.1 -0.1)\">\n       <use xlink:href=\"#DejaVuSans-30\"/>\n      </g>\n     </g>\n    </g>\n    <g id=\"ytick_2\">\n     <g id=\"line2d_11\">\n      <path d=\"M 40.603125 78.886651 \nL 235.903125 78.886651 \n\" clip-path=\"url(#pe22f1e45ab)\" style=\"fill: none; stroke: #b0b0b0; stroke-width: 0.8; stroke-linecap: square\"/>\n     </g>\n     <g id=\"line2d_12\">\n      <g>\n       <use xlink:href=\"#m7b65dc8b1f\" x=\"40.603125\" y=\"78.886651\" style=\"stroke: #000000; stroke-width: 0.8\"/>\n      </g>\n     </g>\n     <g id=\"text_7\">\n      <!-- 5 -->\n      <g transform=\"translate(27.240625 82.685869) scale(0.1 -0.1)\">\n       <defs>\n        <path id=\"DejaVuSans-35\" d=\"M 691 4666 \nL 3169 4666 \nL 3169 4134 \nL 1269 4134 \nL 1269 2991 \nQ 1406 3038 1543 3061 \nQ 1681 3084 1819 3084 \nQ 2600 3084 3056 2656 \nQ 3513 2228 3513 1497 \nQ 3513 744 3044 326 \nQ 2575 -91 1722 -91 \nQ 1428 -91 1123 -41 \nQ 819 9 494 109 \nL 494 744 \nQ 775 591 1075 516 \nQ 1375 441 1709 441 \nQ 2250 441 2565 725 \nQ 2881 1009 2881 1497 \nQ 2881 1984 2565 2268 \nQ 2250 2553 1709 2553 \nQ 1456 2553 1204 2497 \nQ 953 2441 691 2322 \nL 691 4666 \nz\n\" transform=\"scale(0.015625)\"/>\n       </defs>\n       <use xlink:href=\"#DejaVuSans-35\"/>\n      </g>\n     </g>\n    </g>\n    <g id=\"ytick_3\">\n     <g id=\"line2d_13\">\n      <path d=\"M 40.603125 41.003307 \nL 235.903125 41.003307 \n\" clip-path=\"url(#pe22f1e45ab)\" style=\"fill: none; stroke: #b0b0b0; stroke-width: 0.8; stroke-linecap: square\"/>\n     </g>\n     <g id=\"line2d_14\">\n      <g>\n       <use xlink:href=\"#m7b65dc8b1f\" x=\"40.603125\" y=\"41.003307\" style=\"stroke: #000000; stroke-width: 0.8\"/>\n      </g>\n     </g>\n     <g id=\"text_8\">\n      <!-- 10 -->\n      <g transform=\"translate(20.878125 44.802526) scale(0.1 -0.1)\">\n       <use xlink:href=\"#DejaVuSans-31\"/>\n       <use xlink:href=\"#DejaVuSans-30\" x=\"63.623047\"/>\n      </g>\n     </g>\n    </g>\n    <g id=\"text_9\">\n     <!-- f(x) -->\n     <g transform=\"translate(14.798437 85.121094) rotate(-90) scale(0.1 -0.1)\">\n      <defs>\n       <path id=\"DejaVuSans-66\" d=\"M 2375 4863 \nL 2375 4384 \nL 1825 4384 \nQ 1516 4384 1395 4259 \nQ 1275 4134 1275 3809 \nL 1275 3500 \nL 2222 3500 \nL 2222 3053 \nL 1275 3053 \nL 1275 0 \nL 697 0 \nL 697 3053 \nL 147 3053 \nL 147 3500 \nL 697 3500 \nL 697 3744 \nQ 697 4328 969 4595 \nQ 1241 4863 1831 4863 \nL 2375 4863 \nz\n\" transform=\"scale(0.015625)\"/>\n       <path id=\"DejaVuSans-28\" d=\"M 1984 4856 \nQ 1566 4138 1362 3434 \nQ 1159 2731 1159 2009 \nQ 1159 1288 1364 580 \nQ 1569 -128 1984 -844 \nL 1484 -844 \nQ 1016 -109 783 600 \nQ 550 1309 550 2009 \nQ 550 2706 781 3412 \nQ 1013 4119 1484 4856 \nL 1984 4856 \nz\n\" transform=\"scale(0.015625)\"/>\n       <path id=\"DejaVuSans-29\" d=\"M 513 4856 \nL 1013 4856 \nQ 1481 4119 1714 3412 \nQ 1947 2706 1947 2009 \nQ 1947 1309 1714 600 \nQ 1481 -109 1013 -844 \nL 513 -844 \nQ 928 -128 1133 580 \nQ 1338 1288 1338 2009 \nQ 1338 2731 1133 3434 \nQ 928 4138 513 4856 \nz\n\" transform=\"scale(0.015625)\"/>\n      </defs>\n      <use xlink:href=\"#DejaVuSans-66\"/>\n      <use xlink:href=\"#DejaVuSans-28\" x=\"35.205078\"/>\n      <use xlink:href=\"#DejaVuSans-78\" x=\"74.21875\"/>\n      <use xlink:href=\"#DejaVuSans-29\" x=\"133.398438\"/>\n     </g>\n    </g>\n   </g>\n   <g id=\"line2d_15\">\n    <path d=\"M 49.480398 116.769994 \nL 55.602655 119.573361 \nL 61.724912 121.922129 \nL 67.847169 123.816296 \nL 73.969426 125.255863 \nL 80.091683 126.24083 \nL 86.21394 126.771197 \nL 92.336197 126.846963 \nL 98.458454 126.46813 \nL 104.580711 125.634696 \nL 110.702968 124.346663 \nL 116.825225 122.604029 \nL 122.947482 120.406795 \nL 129.069739 117.754961 \nL 135.191996 114.648527 \nL 141.314254 111.087492 \nL 147.436511 107.071858 \nL 153.558768 102.601624 \nL 159.681025 97.676789 \nL 165.803282 92.297354 \nL 171.925539 86.463319 \nL 178.047796 80.174684 \nL 184.170053 73.431449 \nL 190.29231 66.233614 \nL 196.414567 58.581179 \nL 202.536824 50.474143 \nL 208.659081 41.912508 \nL 214.781338 32.896272 \nL 220.903595 23.425436 \nL 227.025852 13.5 \n\" clip-path=\"url(#pe22f1e45ab)\" style=\"fill: none; stroke: #1f77b4; stroke-width: 1.5; stroke-linecap: square\"/>\n   </g>\n   <g id=\"line2d_16\">\n    <path d=\"M 49.480398 139.5 \nL 55.602655 137.984666 \nL 61.724912 136.469333 \nL 67.847169 134.953999 \nL 73.969426 133.438665 \nL 80.091683 131.923331 \nL 86.21394 130.407998 \nL 92.336197 128.892664 \nL 98.458454 127.37733 \nL 104.580711 125.861996 \nL 110.702968 124.346663 \nL 116.825225 122.831329 \nL 122.947482 121.315995 \nL 129.069739 119.800661 \nL 135.191996 118.285328 \nL 141.314254 116.769994 \nL 147.436511 115.25466 \nL 153.558768 113.739327 \nL 159.681025 112.223993 \nL 165.803282 110.708659 \nL 171.925539 109.193325 \nL 178.047796 107.677992 \nL 184.170053 106.162658 \nL 190.29231 104.647324 \nL 196.414567 103.13199 \nL 202.536824 101.616657 \nL 208.659081 100.101323 \nL 214.781338 98.585989 \nL 220.903595 97.070655 \nL 227.025852 95.555322 \n\" clip-path=\"url(#pe22f1e45ab)\" style=\"fill: none; stroke-dasharray: 5.55,2.4; stroke-dashoffset: 0; stroke: #bf00bf; stroke-width: 1.5\"/>\n   </g>\n   <g id=\"patch_3\">\n    <path d=\"M 40.603125 145.8 \nL 40.603125 7.2 \n\" style=\"fill: none; stroke: #000000; stroke-width: 0.8; stroke-linejoin: miter; stroke-linecap: square\"/>\n   </g>\n   <g id=\"patch_4\">\n    <path d=\"M 235.903125 145.8 \nL 235.903125 7.2 \n\" style=\"fill: none; stroke: #000000; stroke-width: 0.8; stroke-linejoin: miter; stroke-linecap: square\"/>\n   </g>\n   <g id=\"patch_5\">\n    <path d=\"M 40.603125 145.8 \nL 235.903125 145.8 \n\" style=\"fill: none; stroke: #000000; stroke-width: 0.8; stroke-linejoin: miter; stroke-linecap: square\"/>\n   </g>\n   <g id=\"patch_6\">\n    <path d=\"M 40.603125 7.2 \nL 235.903125 7.2 \n\" style=\"fill: none; stroke: #000000; stroke-width: 0.8; stroke-linejoin: miter; stroke-linecap: square\"/>\n   </g>\n   <g id=\"legend_1\">\n    <g id=\"patch_7\">\n     <path d=\"M 47.603125 44.55625 \nL 172.153125 44.55625 \nQ 174.153125 44.55625 174.153125 42.55625 \nL 174.153125 14.2 \nQ 174.153125 12.2 172.153125 12.2 \nL 47.603125 12.2 \nQ 45.603125 12.2 45.603125 14.2 \nL 45.603125 42.55625 \nQ 45.603125 44.55625 47.603125 44.55625 \nz\n\" style=\"fill: #ffffff; opacity: 0.8; stroke: #cccccc; stroke-linejoin: miter\"/>\n    </g>\n    <g id=\"line2d_17\">\n     <path d=\"M 49.603125 20.298438 \nL 59.603125 20.298438 \nL 69.603125 20.298438 \n\" style=\"fill: none; stroke: #1f77b4; stroke-width: 1.5; stroke-linecap: square\"/>\n    </g>\n    <g id=\"text_10\">\n     <!-- f(x) -->\n     <g transform=\"translate(77.603125 23.798438) scale(0.1 -0.1)\">\n      <use xlink:href=\"#DejaVuSans-66\"/>\n      <use xlink:href=\"#DejaVuSans-28\" x=\"35.205078\"/>\n      <use xlink:href=\"#DejaVuSans-78\" x=\"74.21875\"/>\n      <use xlink:href=\"#DejaVuSans-29\" x=\"133.398438\"/>\n     </g>\n    </g>\n    <g id=\"line2d_18\">\n     <path d=\"M 49.603125 34.976562 \nL 59.603125 34.976562 \nL 69.603125 34.976562 \n\" style=\"fill: none; stroke-dasharray: 5.55,2.4; stroke-dashoffset: 0; stroke: #bf00bf; stroke-width: 1.5\"/>\n    </g>\n    <g id=\"text_11\">\n     <!-- Tangent line (x=1) -->\n     <g transform=\"translate(77.603125 38.476562) scale(0.1 -0.1)\">\n      <defs>\n       <path id=\"DejaVuSans-54\" d=\"M -19 4666 \nL 3928 4666 \nL 3928 4134 \nL 2272 4134 \nL 2272 0 \nL 1638 0 \nL 1638 4134 \nL -19 4134 \nL -19 4666 \nz\n\" transform=\"scale(0.015625)\"/>\n       <path id=\"DejaVuSans-61\" d=\"M 2194 1759 \nQ 1497 1759 1228 1600 \nQ 959 1441 959 1056 \nQ 959 750 1161 570 \nQ 1363 391 1709 391 \nQ 2188 391 2477 730 \nQ 2766 1069 2766 1631 \nL 2766 1759 \nL 2194 1759 \nz\nM 3341 1997 \nL 3341 0 \nL 2766 0 \nL 2766 531 \nQ 2569 213 2275 61 \nQ 1981 -91 1556 -91 \nQ 1019 -91 701 211 \nQ 384 513 384 1019 \nQ 384 1609 779 1909 \nQ 1175 2209 1959 2209 \nL 2766 2209 \nL 2766 2266 \nQ 2766 2663 2505 2880 \nQ 2244 3097 1772 3097 \nQ 1472 3097 1187 3025 \nQ 903 2953 641 2809 \nL 641 3341 \nQ 956 3463 1253 3523 \nQ 1550 3584 1831 3584 \nQ 2591 3584 2966 3190 \nQ 3341 2797 3341 1997 \nz\n\" transform=\"scale(0.015625)\"/>\n       <path id=\"DejaVuSans-6e\" d=\"M 3513 2113 \nL 3513 0 \nL 2938 0 \nL 2938 2094 \nQ 2938 2591 2744 2837 \nQ 2550 3084 2163 3084 \nQ 1697 3084 1428 2787 \nQ 1159 2491 1159 1978 \nL 1159 0 \nL 581 0 \nL 581 3500 \nL 1159 3500 \nL 1159 2956 \nQ 1366 3272 1645 3428 \nQ 1925 3584 2291 3584 \nQ 2894 3584 3203 3211 \nQ 3513 2838 3513 2113 \nz\n\" transform=\"scale(0.015625)\"/>\n       <path id=\"DejaVuSans-67\" d=\"M 2906 1791 \nQ 2906 2416 2648 2759 \nQ 2391 3103 1925 3103 \nQ 1463 3103 1205 2759 \nQ 947 2416 947 1791 \nQ 947 1169 1205 825 \nQ 1463 481 1925 481 \nQ 2391 481 2648 825 \nQ 2906 1169 2906 1791 \nz\nM 3481 434 \nQ 3481 -459 3084 -895 \nQ 2688 -1331 1869 -1331 \nQ 1566 -1331 1297 -1286 \nQ 1028 -1241 775 -1147 \nL 775 -588 \nQ 1028 -725 1275 -790 \nQ 1522 -856 1778 -856 \nQ 2344 -856 2625 -561 \nQ 2906 -266 2906 331 \nL 2906 616 \nQ 2728 306 2450 153 \nQ 2172 0 1784 0 \nQ 1141 0 747 490 \nQ 353 981 353 1791 \nQ 353 2603 747 3093 \nQ 1141 3584 1784 3584 \nQ 2172 3584 2450 3431 \nQ 2728 3278 2906 2969 \nL 2906 3500 \nL 3481 3500 \nL 3481 434 \nz\n\" transform=\"scale(0.015625)\"/>\n       <path id=\"DejaVuSans-65\" d=\"M 3597 1894 \nL 3597 1613 \nL 953 1613 \nQ 991 1019 1311 708 \nQ 1631 397 2203 397 \nQ 2534 397 2845 478 \nQ 3156 559 3463 722 \nL 3463 178 \nQ 3153 47 2828 -22 \nQ 2503 -91 2169 -91 \nQ 1331 -91 842 396 \nQ 353 884 353 1716 \nQ 353 2575 817 3079 \nQ 1281 3584 2069 3584 \nQ 2775 3584 3186 3129 \nQ 3597 2675 3597 1894 \nz\nM 3022 2063 \nQ 3016 2534 2758 2815 \nQ 2500 3097 2075 3097 \nQ 1594 3097 1305 2825 \nQ 1016 2553 972 2059 \nL 3022 2063 \nz\n\" transform=\"scale(0.015625)\"/>\n       <path id=\"DejaVuSans-74\" d=\"M 1172 4494 \nL 1172 3500 \nL 2356 3500 \nL 2356 3053 \nL 1172 3053 \nL 1172 1153 \nQ 1172 725 1289 603 \nQ 1406 481 1766 481 \nL 2356 481 \nL 2356 0 \nL 1766 0 \nQ 1100 0 847 248 \nQ 594 497 594 1153 \nL 594 3053 \nL 172 3053 \nL 172 3500 \nL 594 3500 \nL 594 4494 \nL 1172 4494 \nz\n\" transform=\"scale(0.015625)\"/>\n       <path id=\"DejaVuSans-20\" transform=\"scale(0.015625)\"/>\n       <path id=\"DejaVuSans-6c\" d=\"M 603 4863 \nL 1178 4863 \nL 1178 0 \nL 603 0 \nL 603 4863 \nz\n\" transform=\"scale(0.015625)\"/>\n       <path id=\"DejaVuSans-69\" d=\"M 603 3500 \nL 1178 3500 \nL 1178 0 \nL 603 0 \nL 603 3500 \nz\nM 603 4863 \nL 1178 4863 \nL 1178 4134 \nL 603 4134 \nL 603 4863 \nz\n\" transform=\"scale(0.015625)\"/>\n       <path id=\"DejaVuSans-3d\" d=\"M 678 2906 \nL 4684 2906 \nL 4684 2381 \nL 678 2381 \nL 678 2906 \nz\nM 678 1631 \nL 4684 1631 \nL 4684 1100 \nL 678 1100 \nL 678 1631 \nz\n\" transform=\"scale(0.015625)\"/>\n      </defs>\n      <use xlink:href=\"#DejaVuSans-54\"/>\n      <use xlink:href=\"#DejaVuSans-61\" x=\"44.583984\"/>\n      <use xlink:href=\"#DejaVuSans-6e\" x=\"105.863281\"/>\n      <use xlink:href=\"#DejaVuSans-67\" x=\"169.242188\"/>\n      <use xlink:href=\"#DejaVuSans-65\" x=\"232.71875\"/>\n      <use xlink:href=\"#DejaVuSans-6e\" x=\"294.242188\"/>\n      <use xlink:href=\"#DejaVuSans-74\" x=\"357.621094\"/>\n      <use xlink:href=\"#DejaVuSans-20\" x=\"396.830078\"/>\n      <use xlink:href=\"#DejaVuSans-6c\" x=\"428.617188\"/>\n      <use xlink:href=\"#DejaVuSans-69\" x=\"456.400391\"/>\n      <use xlink:href=\"#DejaVuSans-6e\" x=\"484.183594\"/>\n      <use xlink:href=\"#DejaVuSans-65\" x=\"547.5625\"/>\n      <use xlink:href=\"#DejaVuSans-20\" x=\"609.085938\"/>\n      <use xlink:href=\"#DejaVuSans-28\" x=\"640.873047\"/>\n      <use xlink:href=\"#DejaVuSans-78\" x=\"679.886719\"/>\n      <use xlink:href=\"#DejaVuSans-3d\" x=\"739.066406\"/>\n      <use xlink:href=\"#DejaVuSans-31\" x=\"822.855469\"/>\n      <use xlink:href=\"#DejaVuSans-29\" x=\"886.478516\"/>\n     </g>\n    </g>\n   </g>\n  </g>\n </g>\n <defs>\n  <clipPath id=\"pe22f1e45ab\">\n   <rect x=\"40.603125\" y=\"7.2\" width=\"195.3\" height=\"138.6\"/>\n  </clipPath>\n </defs>\n</svg>\n"
          },
          "metadata": {}
        }
      ]
    },
    {
      "cell_type": "markdown",
      "source": [
        "## Automatic Differntiation"
      ],
      "metadata": {
        "id": "r6BZNxbjHhlv"
      }
    },
    {
      "cell_type": "code",
      "source": [
        "import torch"
      ],
      "metadata": {
        "id": "AiE3bg7bHkiH"
      },
      "execution_count": 49,
      "outputs": []
    },
    {
      "cell_type": "code",
      "source": [
        "x = torch.arange(4.0)\n",
        "print(x)\n",
        "x.requires_grad_(True)\n",
        "x.grad"
      ],
      "metadata": {
        "colab": {
          "base_uri": "https://localhost:8080/"
        },
        "id": "ZCF4g6U_HnTC",
        "outputId": "3e608eaf-f68d-431c-b142-b9d4b2d3a019"
      },
      "execution_count": 50,
      "outputs": [
        {
          "output_type": "stream",
          "name": "stdout",
          "text": [
            "tensor([0., 1., 2., 3.])\n"
          ]
        }
      ]
    },
    {
      "cell_type": "code",
      "source": [
        "y = 2*torch.dot(x,x)\n",
        "y"
      ],
      "metadata": {
        "colab": {
          "base_uri": "https://localhost:8080/"
        },
        "id": "R_UeE9o1LrBZ",
        "outputId": "8dc0294f-8d1f-4037-d43d-293ad2c92847"
      },
      "execution_count": 51,
      "outputs": [
        {
          "output_type": "execute_result",
          "data": {
            "text/plain": [
              "tensor(28., grad_fn=<MulBackward0>)"
            ]
          },
          "metadata": {},
          "execution_count": 51
        }
      ]
    },
    {
      "cell_type": "code",
      "source": [
        "y.backward()\n",
        "x.grad"
      ],
      "metadata": {
        "colab": {
          "base_uri": "https://localhost:8080/"
        },
        "id": "SbIkrsuiLyaJ",
        "outputId": "d305be35-3744-47e4-e14a-ed6571c5dab3"
      },
      "execution_count": 52,
      "outputs": [
        {
          "output_type": "execute_result",
          "data": {
            "text/plain": [
              "tensor([ 0.,  4.,  8., 12.])"
            ]
          },
          "metadata": {},
          "execution_count": 52
        }
      ]
    },
    {
      "cell_type": "code",
      "source": [
        "def f(a):\n",
        "  b = a*2\n",
        "  while b.norm() < 1000:\n",
        "    b = b * 2\n",
        "  if b.sum() > 0:\n",
        "    c = b\n",
        "  else:\n",
        "    c = 100*b\n",
        "  return c"
      ],
      "metadata": {
        "id": "_yoVweqCNdri"
      },
      "execution_count": 53,
      "outputs": []
    },
    {
      "cell_type": "code",
      "source": [
        "a = torch.randn( size =() ,requires_grad= True)\n",
        "d = f(a)\n",
        "d.backward()"
      ],
      "metadata": {
        "id": "64Kg9j0GCTY9"
      },
      "execution_count": 54,
      "outputs": []
    },
    {
      "cell_type": "markdown",
      "source": [
        "### Probability and Statistics"
      ],
      "metadata": {
        "id": "PXPQSCnpf4vx"
      }
    },
    {
      "cell_type": "code",
      "source": [
        "%matplotlib inline\n",
        "import random\n",
        "import torch\n",
        "from torch.distributions.multinomial import Multinomial\n",
        "from d2l import torch as d2l\n"
      ],
      "metadata": {
        "id": "StuzL0spf-74"
      },
      "execution_count": 55,
      "outputs": []
    },
    {
      "cell_type": "code",
      "source": [
        "num_tosses = 100\n",
        "heads = sum([random.random() > 0.5 for _ in range(num_tosses)])\n",
        "tails = num_tosses - heads\n",
        "print(\"heads,tails: \",[heads,tails])"
      ],
      "metadata": {
        "colab": {
          "base_uri": "https://localhost:8080/"
        },
        "id": "DUVWsXHwgq7v",
        "outputId": "e18d63e0-db8e-4682-db3b-c51a453dfc0f"
      },
      "execution_count": 59,
      "outputs": [
        {
          "output_type": "stream",
          "name": "stdout",
          "text": [
            "heads,tails:  [60, 40]\n"
          ]
        }
      ]
    },
    {
      "cell_type": "code",
      "source": [
        "fair_probs = torch.tensor([0.5,0.5])\n",
        "Multinomial(100,fair_probs).sample()"
      ],
      "metadata": {
        "colab": {
          "base_uri": "https://localhost:8080/"
        },
        "id": "woHNOsaFjOVY",
        "outputId": "f3910a52-ff6e-42af-bed8-1094b5bee189"
      },
      "execution_count": 60,
      "outputs": [
        {
          "output_type": "execute_result",
          "data": {
            "text/plain": [
              "tensor([53., 47.])"
            ]
          },
          "metadata": {},
          "execution_count": 60
        }
      ]
    },
    {
      "cell_type": "code",
      "source": [
        "Multinomial(100, fair_probs).sample() / 100"
      ],
      "metadata": {
        "colab": {
          "base_uri": "https://localhost:8080/"
        },
        "id": "V_RxHPvxjebp",
        "outputId": "fe9e42a6-c33e-4bd0-a9e9-e423a93dee14"
      },
      "execution_count": 61,
      "outputs": [
        {
          "output_type": "execute_result",
          "data": {
            "text/plain": [
              "tensor([0.5000, 0.5000])"
            ]
          },
          "metadata": {},
          "execution_count": 61
        }
      ]
    },
    {
      "cell_type": "code",
      "source": [
        "# visualization\n",
        "counts = Multinomial(1, fair_probs).sample((10000,))\n",
        "cum_counts = counts.cumsum(dim = 0)\n",
        "estimates = cum_counts / cum_counts.sum(dim = 1,keepdims= True)\n",
        "estimates = estimates.numpy()\n",
        "\n",
        "d2l.set_figsize((4.5,3.5))\n",
        "d2l.plt.plot(estimates[:,0], label = (\"P(coin = Heads)\"))\n",
        "d2l.plt.plot(estimates[:,1], label = (\"P(coin = Tails)\"))\n",
        "d2l.plt.axhline(y = 0.5,color='black', linestyle = 'dashed')\n",
        "d2l.plt.gca().set_xlabel('Samples')\n",
        "d2l.plt.gca().set_ylabel('Estimated Probability')\n",
        "d2l.plt.legend()"
      ],
      "metadata": {
        "colab": {
          "base_uri": "https://localhost:8080/",
          "height": 357
        },
        "id": "3FyLE0pWjjBo",
        "outputId": "c4590db3-f615-4054-e6dc-6adc8d9d119c"
      },
      "execution_count": 65,
      "outputs": [
        {
          "output_type": "execute_result",
          "data": {
            "text/plain": [
              "<matplotlib.legend.Legend at 0x781d3d5d5790>"
            ]
          },
          "metadata": {},
          "execution_count": 65
        },
        {
          "output_type": "display_data",
          "data": {
            "text/plain": [
              "<Figure size 450x350 with 1 Axes>"
            ],
            "image/svg+xml": "<?xml version=\"1.0\" encoding=\"utf-8\" standalone=\"no\"?>\n<!DOCTYPE svg PUBLIC \"-//W3C//DTD SVG 1.1//EN\"\n  \"http://www.w3.org/Graphics/SVG/1.1/DTD/svg11.dtd\">\n<svg xmlns:xlink=\"http://www.w3.org/1999/xlink\" width=\"306.596693pt\" height=\"238.79625pt\" viewBox=\"0 0 306.596693 238.79625\" xmlns=\"http://www.w3.org/2000/svg\" version=\"1.1\">\n <metadata>\n  <rdf:RDF xmlns:dc=\"http://purl.org/dc/elements/1.1/\" xmlns:cc=\"http://creativecommons.org/ns#\" xmlns:rdf=\"http://www.w3.org/1999/02/22-rdf-syntax-ns#\">\n   <cc:Work>\n    <dc:type rdf:resource=\"http://purl.org/dc/dcmitype/StillImage\"/>\n    <dc:date>2025-03-12T04:17:40.191453</dc:date>\n    <dc:format>image/svg+xml</dc:format>\n    <dc:creator>\n     <cc:Agent>\n      <dc:title>Matplotlib v3.7.2, https://matplotlib.org/</dc:title>\n     </cc:Agent>\n    </dc:creator>\n   </cc:Work>\n  </rdf:RDF>\n </metadata>\n <defs>\n  <style type=\"text/css\">*{stroke-linejoin: round; stroke-linecap: butt}</style>\n </defs>\n <g id=\"figure_1\">\n  <g id=\"patch_1\">\n   <path d=\"M 0 238.79625 \nL 306.596693 238.79625 \nL 306.596693 0 \nL 0 0 \nz\n\" style=\"fill: #ffffff\"/>\n  </g>\n  <g id=\"axes_1\">\n   <g id=\"patch_2\">\n    <path d=\"M 43.78125 201.24 \nL 294.88125 201.24 \nL 294.88125 7.2 \nL 43.78125 7.2 \nz\n\" style=\"fill: #ffffff\"/>\n   </g>\n   <g id=\"matplotlib.axis_1\">\n    <g id=\"xtick_1\">\n     <g id=\"line2d_1\">\n      <defs>\n       <path id=\"m9a4458afeb\" d=\"M 0 0 \nL 0 3.5 \n\" style=\"stroke: #000000; stroke-width: 0.8\"/>\n      </defs>\n      <g>\n       <use xlink:href=\"#m9a4458afeb\" x=\"55.194886\" y=\"201.24\" style=\"stroke: #000000; stroke-width: 0.8\"/>\n      </g>\n     </g>\n     <g id=\"text_1\">\n      <!-- 0 -->\n      <g transform=\"translate(52.013636 215.838437) scale(0.1 -0.1)\">\n       <defs>\n        <path id=\"DejaVuSans-30\" d=\"M 2034 4250 \nQ 1547 4250 1301 3770 \nQ 1056 3291 1056 2328 \nQ 1056 1369 1301 889 \nQ 1547 409 2034 409 \nQ 2525 409 2770 889 \nQ 3016 1369 3016 2328 \nQ 3016 3291 2770 3770 \nQ 2525 4250 2034 4250 \nz\nM 2034 4750 \nQ 2819 4750 3233 4129 \nQ 3647 3509 3647 2328 \nQ 3647 1150 3233 529 \nQ 2819 -91 2034 -91 \nQ 1250 -91 836 529 \nQ 422 1150 422 2328 \nQ 422 3509 836 4129 \nQ 1250 4750 2034 4750 \nz\n\" transform=\"scale(0.015625)\"/>\n       </defs>\n       <use xlink:href=\"#DejaVuSans-30\"/>\n      </g>\n     </g>\n    </g>\n    <g id=\"xtick_2\">\n     <g id=\"line2d_2\">\n      <g>\n       <use xlink:href=\"#m9a4458afeb\" x=\"100.853998\" y=\"201.24\" style=\"stroke: #000000; stroke-width: 0.8\"/>\n      </g>\n     </g>\n     <g id=\"text_2\">\n      <!-- 2000 -->\n      <g transform=\"translate(88.128998 215.838437) scale(0.1 -0.1)\">\n       <defs>\n        <path id=\"DejaVuSans-32\" d=\"M 1228 531 \nL 3431 531 \nL 3431 0 \nL 469 0 \nL 469 531 \nQ 828 903 1448 1529 \nQ 2069 2156 2228 2338 \nQ 2531 2678 2651 2914 \nQ 2772 3150 2772 3378 \nQ 2772 3750 2511 3984 \nQ 2250 4219 1831 4219 \nQ 1534 4219 1204 4116 \nQ 875 4013 500 3803 \nL 500 4441 \nQ 881 4594 1212 4672 \nQ 1544 4750 1819 4750 \nQ 2544 4750 2975 4387 \nQ 3406 4025 3406 3419 \nQ 3406 3131 3298 2873 \nQ 3191 2616 2906 2266 \nQ 2828 2175 2409 1742 \nQ 1991 1309 1228 531 \nz\n\" transform=\"scale(0.015625)\"/>\n       </defs>\n       <use xlink:href=\"#DejaVuSans-32\"/>\n       <use xlink:href=\"#DejaVuSans-30\" x=\"63.623047\"/>\n       <use xlink:href=\"#DejaVuSans-30\" x=\"127.246094\"/>\n       <use xlink:href=\"#DejaVuSans-30\" x=\"190.869141\"/>\n      </g>\n     </g>\n    </g>\n    <g id=\"xtick_3\">\n     <g id=\"line2d_3\">\n      <g>\n       <use xlink:href=\"#m9a4458afeb\" x=\"146.513109\" y=\"201.24\" style=\"stroke: #000000; stroke-width: 0.8\"/>\n      </g>\n     </g>\n     <g id=\"text_3\">\n      <!-- 4000 -->\n      <g transform=\"translate(133.788109 215.838437) scale(0.1 -0.1)\">\n       <defs>\n        <path id=\"DejaVuSans-34\" d=\"M 2419 4116 \nL 825 1625 \nL 2419 1625 \nL 2419 4116 \nz\nM 2253 4666 \nL 3047 4666 \nL 3047 1625 \nL 3713 1625 \nL 3713 1100 \nL 3047 1100 \nL 3047 0 \nL 2419 0 \nL 2419 1100 \nL 313 1100 \nL 313 1709 \nL 2253 4666 \nz\n\" transform=\"scale(0.015625)\"/>\n       </defs>\n       <use xlink:href=\"#DejaVuSans-34\"/>\n       <use xlink:href=\"#DejaVuSans-30\" x=\"63.623047\"/>\n       <use xlink:href=\"#DejaVuSans-30\" x=\"127.246094\"/>\n       <use xlink:href=\"#DejaVuSans-30\" x=\"190.869141\"/>\n      </g>\n     </g>\n    </g>\n    <g id=\"xtick_4\">\n     <g id=\"line2d_4\">\n      <g>\n       <use xlink:href=\"#m9a4458afeb\" x=\"192.17222\" y=\"201.24\" style=\"stroke: #000000; stroke-width: 0.8\"/>\n      </g>\n     </g>\n     <g id=\"text_4\">\n      <!-- 6000 -->\n      <g transform=\"translate(179.44722 215.838437) scale(0.1 -0.1)\">\n       <defs>\n        <path id=\"DejaVuSans-36\" d=\"M 2113 2584 \nQ 1688 2584 1439 2293 \nQ 1191 2003 1191 1497 \nQ 1191 994 1439 701 \nQ 1688 409 2113 409 \nQ 2538 409 2786 701 \nQ 3034 994 3034 1497 \nQ 3034 2003 2786 2293 \nQ 2538 2584 2113 2584 \nz\nM 3366 4563 \nL 3366 3988 \nQ 3128 4100 2886 4159 \nQ 2644 4219 2406 4219 \nQ 1781 4219 1451 3797 \nQ 1122 3375 1075 2522 \nQ 1259 2794 1537 2939 \nQ 1816 3084 2150 3084 \nQ 2853 3084 3261 2657 \nQ 3669 2231 3669 1497 \nQ 3669 778 3244 343 \nQ 2819 -91 2113 -91 \nQ 1303 -91 875 529 \nQ 447 1150 447 2328 \nQ 447 3434 972 4092 \nQ 1497 4750 2381 4750 \nQ 2619 4750 2861 4703 \nQ 3103 4656 3366 4563 \nz\n\" transform=\"scale(0.015625)\"/>\n       </defs>\n       <use xlink:href=\"#DejaVuSans-36\"/>\n       <use xlink:href=\"#DejaVuSans-30\" x=\"63.623047\"/>\n       <use xlink:href=\"#DejaVuSans-30\" x=\"127.246094\"/>\n       <use xlink:href=\"#DejaVuSans-30\" x=\"190.869141\"/>\n      </g>\n     </g>\n    </g>\n    <g id=\"xtick_5\">\n     <g id=\"line2d_5\">\n      <g>\n       <use xlink:href=\"#m9a4458afeb\" x=\"237.831332\" y=\"201.24\" style=\"stroke: #000000; stroke-width: 0.8\"/>\n      </g>\n     </g>\n     <g id=\"text_5\">\n      <!-- 8000 -->\n      <g transform=\"translate(225.106332 215.838437) scale(0.1 -0.1)\">\n       <defs>\n        <path id=\"DejaVuSans-38\" d=\"M 2034 2216 \nQ 1584 2216 1326 1975 \nQ 1069 1734 1069 1313 \nQ 1069 891 1326 650 \nQ 1584 409 2034 409 \nQ 2484 409 2743 651 \nQ 3003 894 3003 1313 \nQ 3003 1734 2745 1975 \nQ 2488 2216 2034 2216 \nz\nM 1403 2484 \nQ 997 2584 770 2862 \nQ 544 3141 544 3541 \nQ 544 4100 942 4425 \nQ 1341 4750 2034 4750 \nQ 2731 4750 3128 4425 \nQ 3525 4100 3525 3541 \nQ 3525 3141 3298 2862 \nQ 3072 2584 2669 2484 \nQ 3125 2378 3379 2068 \nQ 3634 1759 3634 1313 \nQ 3634 634 3220 271 \nQ 2806 -91 2034 -91 \nQ 1263 -91 848 271 \nQ 434 634 434 1313 \nQ 434 1759 690 2068 \nQ 947 2378 1403 2484 \nz\nM 1172 3481 \nQ 1172 3119 1398 2916 \nQ 1625 2713 2034 2713 \nQ 2441 2713 2670 2916 \nQ 2900 3119 2900 3481 \nQ 2900 3844 2670 4047 \nQ 2441 4250 2034 4250 \nQ 1625 4250 1398 4047 \nQ 1172 3844 1172 3481 \nz\n\" transform=\"scale(0.015625)\"/>\n       </defs>\n       <use xlink:href=\"#DejaVuSans-38\"/>\n       <use xlink:href=\"#DejaVuSans-30\" x=\"63.623047\"/>\n       <use xlink:href=\"#DejaVuSans-30\" x=\"127.246094\"/>\n       <use xlink:href=\"#DejaVuSans-30\" x=\"190.869141\"/>\n      </g>\n     </g>\n    </g>\n    <g id=\"xtick_6\">\n     <g id=\"line2d_6\">\n      <g>\n       <use xlink:href=\"#m9a4458afeb\" x=\"283.490443\" y=\"201.24\" style=\"stroke: #000000; stroke-width: 0.8\"/>\n      </g>\n     </g>\n     <g id=\"text_6\">\n      <!-- 10000 -->\n      <g transform=\"translate(267.584193 215.838437) scale(0.1 -0.1)\">\n       <defs>\n        <path id=\"DejaVuSans-31\" d=\"M 794 531 \nL 1825 531 \nL 1825 4091 \nL 703 3866 \nL 703 4441 \nL 1819 4666 \nL 2450 4666 \nL 2450 531 \nL 3481 531 \nL 3481 0 \nL 794 0 \nL 794 531 \nz\n\" transform=\"scale(0.015625)\"/>\n       </defs>\n       <use xlink:href=\"#DejaVuSans-31\"/>\n       <use xlink:href=\"#DejaVuSans-30\" x=\"63.623047\"/>\n       <use xlink:href=\"#DejaVuSans-30\" x=\"127.246094\"/>\n       <use xlink:href=\"#DejaVuSans-30\" x=\"190.869141\"/>\n       <use xlink:href=\"#DejaVuSans-30\" x=\"254.492188\"/>\n      </g>\n     </g>\n    </g>\n    <g id=\"text_7\">\n     <!-- Samples -->\n     <g transform=\"translate(147.978125 229.516562) scale(0.1 -0.1)\">\n      <defs>\n       <path id=\"DejaVuSans-53\" d=\"M 3425 4513 \nL 3425 3897 \nQ 3066 4069 2747 4153 \nQ 2428 4238 2131 4238 \nQ 1616 4238 1336 4038 \nQ 1056 3838 1056 3469 \nQ 1056 3159 1242 3001 \nQ 1428 2844 1947 2747 \nL 2328 2669 \nQ 3034 2534 3370 2195 \nQ 3706 1856 3706 1288 \nQ 3706 609 3251 259 \nQ 2797 -91 1919 -91 \nQ 1588 -91 1214 -16 \nQ 841 59 441 206 \nL 441 856 \nQ 825 641 1194 531 \nQ 1563 422 1919 422 \nQ 2459 422 2753 634 \nQ 3047 847 3047 1241 \nQ 3047 1584 2836 1778 \nQ 2625 1972 2144 2069 \nL 1759 2144 \nQ 1053 2284 737 2584 \nQ 422 2884 422 3419 \nQ 422 4038 858 4394 \nQ 1294 4750 2059 4750 \nQ 2388 4750 2728 4690 \nQ 3069 4631 3425 4513 \nz\n\" transform=\"scale(0.015625)\"/>\n       <path id=\"DejaVuSans-61\" d=\"M 2194 1759 \nQ 1497 1759 1228 1600 \nQ 959 1441 959 1056 \nQ 959 750 1161 570 \nQ 1363 391 1709 391 \nQ 2188 391 2477 730 \nQ 2766 1069 2766 1631 \nL 2766 1759 \nL 2194 1759 \nz\nM 3341 1997 \nL 3341 0 \nL 2766 0 \nL 2766 531 \nQ 2569 213 2275 61 \nQ 1981 -91 1556 -91 \nQ 1019 -91 701 211 \nQ 384 513 384 1019 \nQ 384 1609 779 1909 \nQ 1175 2209 1959 2209 \nL 2766 2209 \nL 2766 2266 \nQ 2766 2663 2505 2880 \nQ 2244 3097 1772 3097 \nQ 1472 3097 1187 3025 \nQ 903 2953 641 2809 \nL 641 3341 \nQ 956 3463 1253 3523 \nQ 1550 3584 1831 3584 \nQ 2591 3584 2966 3190 \nQ 3341 2797 3341 1997 \nz\n\" transform=\"scale(0.015625)\"/>\n       <path id=\"DejaVuSans-6d\" d=\"M 3328 2828 \nQ 3544 3216 3844 3400 \nQ 4144 3584 4550 3584 \nQ 5097 3584 5394 3201 \nQ 5691 2819 5691 2113 \nL 5691 0 \nL 5113 0 \nL 5113 2094 \nQ 5113 2597 4934 2840 \nQ 4756 3084 4391 3084 \nQ 3944 3084 3684 2787 \nQ 3425 2491 3425 1978 \nL 3425 0 \nL 2847 0 \nL 2847 2094 \nQ 2847 2600 2669 2842 \nQ 2491 3084 2119 3084 \nQ 1678 3084 1418 2786 \nQ 1159 2488 1159 1978 \nL 1159 0 \nL 581 0 \nL 581 3500 \nL 1159 3500 \nL 1159 2956 \nQ 1356 3278 1631 3431 \nQ 1906 3584 2284 3584 \nQ 2666 3584 2933 3390 \nQ 3200 3197 3328 2828 \nz\n\" transform=\"scale(0.015625)\"/>\n       <path id=\"DejaVuSans-70\" d=\"M 1159 525 \nL 1159 -1331 \nL 581 -1331 \nL 581 3500 \nL 1159 3500 \nL 1159 2969 \nQ 1341 3281 1617 3432 \nQ 1894 3584 2278 3584 \nQ 2916 3584 3314 3078 \nQ 3713 2572 3713 1747 \nQ 3713 922 3314 415 \nQ 2916 -91 2278 -91 \nQ 1894 -91 1617 61 \nQ 1341 213 1159 525 \nz\nM 3116 1747 \nQ 3116 2381 2855 2742 \nQ 2594 3103 2138 3103 \nQ 1681 3103 1420 2742 \nQ 1159 2381 1159 1747 \nQ 1159 1113 1420 752 \nQ 1681 391 2138 391 \nQ 2594 391 2855 752 \nQ 3116 1113 3116 1747 \nz\n\" transform=\"scale(0.015625)\"/>\n       <path id=\"DejaVuSans-6c\" d=\"M 603 4863 \nL 1178 4863 \nL 1178 0 \nL 603 0 \nL 603 4863 \nz\n\" transform=\"scale(0.015625)\"/>\n       <path id=\"DejaVuSans-65\" d=\"M 3597 1894 \nL 3597 1613 \nL 953 1613 \nQ 991 1019 1311 708 \nQ 1631 397 2203 397 \nQ 2534 397 2845 478 \nQ 3156 559 3463 722 \nL 3463 178 \nQ 3153 47 2828 -22 \nQ 2503 -91 2169 -91 \nQ 1331 -91 842 396 \nQ 353 884 353 1716 \nQ 353 2575 817 3079 \nQ 1281 3584 2069 3584 \nQ 2775 3584 3186 3129 \nQ 3597 2675 3597 1894 \nz\nM 3022 2063 \nQ 3016 2534 2758 2815 \nQ 2500 3097 2075 3097 \nQ 1594 3097 1305 2825 \nQ 1016 2553 972 2059 \nL 3022 2063 \nz\n\" transform=\"scale(0.015625)\"/>\n       <path id=\"DejaVuSans-73\" d=\"M 2834 3397 \nL 2834 2853 \nQ 2591 2978 2328 3040 \nQ 2066 3103 1784 3103 \nQ 1356 3103 1142 2972 \nQ 928 2841 928 2578 \nQ 928 2378 1081 2264 \nQ 1234 2150 1697 2047 \nL 1894 2003 \nQ 2506 1872 2764 1633 \nQ 3022 1394 3022 966 \nQ 3022 478 2636 193 \nQ 2250 -91 1575 -91 \nQ 1294 -91 989 -36 \nQ 684 19 347 128 \nL 347 722 \nQ 666 556 975 473 \nQ 1284 391 1588 391 \nQ 1994 391 2212 530 \nQ 2431 669 2431 922 \nQ 2431 1156 2273 1281 \nQ 2116 1406 1581 1522 \nL 1381 1569 \nQ 847 1681 609 1914 \nQ 372 2147 372 2553 \nQ 372 3047 722 3315 \nQ 1072 3584 1716 3584 \nQ 2034 3584 2315 3537 \nQ 2597 3491 2834 3397 \nz\n\" transform=\"scale(0.015625)\"/>\n      </defs>\n      <use xlink:href=\"#DejaVuSans-53\"/>\n      <use xlink:href=\"#DejaVuSans-61\" x=\"63.476562\"/>\n      <use xlink:href=\"#DejaVuSans-6d\" x=\"124.755859\"/>\n      <use xlink:href=\"#DejaVuSans-70\" x=\"222.167969\"/>\n      <use xlink:href=\"#DejaVuSans-6c\" x=\"285.644531\"/>\n      <use xlink:href=\"#DejaVuSans-65\" x=\"313.427734\"/>\n      <use xlink:href=\"#DejaVuSans-73\" x=\"374.951172\"/>\n     </g>\n    </g>\n   </g>\n   <g id=\"matplotlib.axis_2\">\n    <g id=\"ytick_1\">\n     <g id=\"line2d_7\">\n      <defs>\n       <path id=\"m59c80d6552\" d=\"M 0 0 \nL -3.5 0 \n\" style=\"stroke: #000000; stroke-width: 0.8\"/>\n      </defs>\n      <g>\n       <use xlink:href=\"#m59c80d6552\" x=\"43.78125\" y=\"192.42\" style=\"stroke: #000000; stroke-width: 0.8\"/>\n      </g>\n     </g>\n     <g id=\"text_8\">\n      <!-- 0.0 -->\n      <g transform=\"translate(20.878125 196.219219) scale(0.1 -0.1)\">\n       <defs>\n        <path id=\"DejaVuSans-2e\" d=\"M 684 794 \nL 1344 794 \nL 1344 0 \nL 684 0 \nL 684 794 \nz\n\" transform=\"scale(0.015625)\"/>\n       </defs>\n       <use xlink:href=\"#DejaVuSans-30\"/>\n       <use xlink:href=\"#DejaVuSans-2e\" x=\"63.623047\"/>\n       <use xlink:href=\"#DejaVuSans-30\" x=\"95.410156\"/>\n      </g>\n     </g>\n    </g>\n    <g id=\"ytick_2\">\n     <g id=\"line2d_8\">\n      <g>\n       <use xlink:href=\"#m59c80d6552\" x=\"43.78125\" y=\"157.14\" style=\"stroke: #000000; stroke-width: 0.8\"/>\n      </g>\n     </g>\n     <g id=\"text_9\">\n      <!-- 0.2 -->\n      <g transform=\"translate(20.878125 160.939219) scale(0.1 -0.1)\">\n       <use xlink:href=\"#DejaVuSans-30\"/>\n       <use xlink:href=\"#DejaVuSans-2e\" x=\"63.623047\"/>\n       <use xlink:href=\"#DejaVuSans-32\" x=\"95.410156\"/>\n      </g>\n     </g>\n    </g>\n    <g id=\"ytick_3\">\n     <g id=\"line2d_9\">\n      <g>\n       <use xlink:href=\"#m59c80d6552\" x=\"43.78125\" y=\"121.86\" style=\"stroke: #000000; stroke-width: 0.8\"/>\n      </g>\n     </g>\n     <g id=\"text_10\">\n      <!-- 0.4 -->\n      <g transform=\"translate(20.878125 125.659219) scale(0.1 -0.1)\">\n       <use xlink:href=\"#DejaVuSans-30\"/>\n       <use xlink:href=\"#DejaVuSans-2e\" x=\"63.623047\"/>\n       <use xlink:href=\"#DejaVuSans-34\" x=\"95.410156\"/>\n      </g>\n     </g>\n    </g>\n    <g id=\"ytick_4\">\n     <g id=\"line2d_10\">\n      <g>\n       <use xlink:href=\"#m59c80d6552\" x=\"43.78125\" y=\"86.58\" style=\"stroke: #000000; stroke-width: 0.8\"/>\n      </g>\n     </g>\n     <g id=\"text_11\">\n      <!-- 0.6 -->\n      <g transform=\"translate(20.878125 90.379219) scale(0.1 -0.1)\">\n       <use xlink:href=\"#DejaVuSans-30\"/>\n       <use xlink:href=\"#DejaVuSans-2e\" x=\"63.623047\"/>\n       <use xlink:href=\"#DejaVuSans-36\" x=\"95.410156\"/>\n      </g>\n     </g>\n    </g>\n    <g id=\"ytick_5\">\n     <g id=\"line2d_11\">\n      <g>\n       <use xlink:href=\"#m59c80d6552\" x=\"43.78125\" y=\"51.3\" style=\"stroke: #000000; stroke-width: 0.8\"/>\n      </g>\n     </g>\n     <g id=\"text_12\">\n      <!-- 0.8 -->\n      <g transform=\"translate(20.878125 55.099219) scale(0.1 -0.1)\">\n       <use xlink:href=\"#DejaVuSans-30\"/>\n       <use xlink:href=\"#DejaVuSans-2e\" x=\"63.623047\"/>\n       <use xlink:href=\"#DejaVuSans-38\" x=\"95.410156\"/>\n      </g>\n     </g>\n    </g>\n    <g id=\"ytick_6\">\n     <g id=\"line2d_12\">\n      <g>\n       <use xlink:href=\"#m59c80d6552\" x=\"43.78125\" y=\"16.02\" style=\"stroke: #000000; stroke-width: 0.8\"/>\n      </g>\n     </g>\n     <g id=\"text_13\">\n      <!-- 1.0 -->\n      <g transform=\"translate(20.878125 19.819219) scale(0.1 -0.1)\">\n       <use xlink:href=\"#DejaVuSans-31\"/>\n       <use xlink:href=\"#DejaVuSans-2e\" x=\"63.623047\"/>\n       <use xlink:href=\"#DejaVuSans-30\" x=\"95.410156\"/>\n      </g>\n     </g>\n    </g>\n    <g id=\"text_14\">\n     <!-- Estimated Probability -->\n     <g transform=\"translate(14.798438 157.496562) rotate(-90) scale(0.1 -0.1)\">\n      <defs>\n       <path id=\"DejaVuSans-45\" d=\"M 628 4666 \nL 3578 4666 \nL 3578 4134 \nL 1259 4134 \nL 1259 2753 \nL 3481 2753 \nL 3481 2222 \nL 1259 2222 \nL 1259 531 \nL 3634 531 \nL 3634 0 \nL 628 0 \nL 628 4666 \nz\n\" transform=\"scale(0.015625)\"/>\n       <path id=\"DejaVuSans-74\" d=\"M 1172 4494 \nL 1172 3500 \nL 2356 3500 \nL 2356 3053 \nL 1172 3053 \nL 1172 1153 \nQ 1172 725 1289 603 \nQ 1406 481 1766 481 \nL 2356 481 \nL 2356 0 \nL 1766 0 \nQ 1100 0 847 248 \nQ 594 497 594 1153 \nL 594 3053 \nL 172 3053 \nL 172 3500 \nL 594 3500 \nL 594 4494 \nL 1172 4494 \nz\n\" transform=\"scale(0.015625)\"/>\n       <path id=\"DejaVuSans-69\" d=\"M 603 3500 \nL 1178 3500 \nL 1178 0 \nL 603 0 \nL 603 3500 \nz\nM 603 4863 \nL 1178 4863 \nL 1178 4134 \nL 603 4134 \nL 603 4863 \nz\n\" transform=\"scale(0.015625)\"/>\n       <path id=\"DejaVuSans-64\" d=\"M 2906 2969 \nL 2906 4863 \nL 3481 4863 \nL 3481 0 \nL 2906 0 \nL 2906 525 \nQ 2725 213 2448 61 \nQ 2172 -91 1784 -91 \nQ 1150 -91 751 415 \nQ 353 922 353 1747 \nQ 353 2572 751 3078 \nQ 1150 3584 1784 3584 \nQ 2172 3584 2448 3432 \nQ 2725 3281 2906 2969 \nz\nM 947 1747 \nQ 947 1113 1208 752 \nQ 1469 391 1925 391 \nQ 2381 391 2643 752 \nQ 2906 1113 2906 1747 \nQ 2906 2381 2643 2742 \nQ 2381 3103 1925 3103 \nQ 1469 3103 1208 2742 \nQ 947 2381 947 1747 \nz\n\" transform=\"scale(0.015625)\"/>\n       <path id=\"DejaVuSans-20\" transform=\"scale(0.015625)\"/>\n       <path id=\"DejaVuSans-50\" d=\"M 1259 4147 \nL 1259 2394 \nL 2053 2394 \nQ 2494 2394 2734 2622 \nQ 2975 2850 2975 3272 \nQ 2975 3691 2734 3919 \nQ 2494 4147 2053 4147 \nL 1259 4147 \nz\nM 628 4666 \nL 2053 4666 \nQ 2838 4666 3239 4311 \nQ 3641 3956 3641 3272 \nQ 3641 2581 3239 2228 \nQ 2838 1875 2053 1875 \nL 1259 1875 \nL 1259 0 \nL 628 0 \nL 628 4666 \nz\n\" transform=\"scale(0.015625)\"/>\n       <path id=\"DejaVuSans-72\" d=\"M 2631 2963 \nQ 2534 3019 2420 3045 \nQ 2306 3072 2169 3072 \nQ 1681 3072 1420 2755 \nQ 1159 2438 1159 1844 \nL 1159 0 \nL 581 0 \nL 581 3500 \nL 1159 3500 \nL 1159 2956 \nQ 1341 3275 1631 3429 \nQ 1922 3584 2338 3584 \nQ 2397 3584 2469 3576 \nQ 2541 3569 2628 3553 \nL 2631 2963 \nz\n\" transform=\"scale(0.015625)\"/>\n       <path id=\"DejaVuSans-6f\" d=\"M 1959 3097 \nQ 1497 3097 1228 2736 \nQ 959 2375 959 1747 \nQ 959 1119 1226 758 \nQ 1494 397 1959 397 \nQ 2419 397 2687 759 \nQ 2956 1122 2956 1747 \nQ 2956 2369 2687 2733 \nQ 2419 3097 1959 3097 \nz\nM 1959 3584 \nQ 2709 3584 3137 3096 \nQ 3566 2609 3566 1747 \nQ 3566 888 3137 398 \nQ 2709 -91 1959 -91 \nQ 1206 -91 779 398 \nQ 353 888 353 1747 \nQ 353 2609 779 3096 \nQ 1206 3584 1959 3584 \nz\n\" transform=\"scale(0.015625)\"/>\n       <path id=\"DejaVuSans-62\" d=\"M 3116 1747 \nQ 3116 2381 2855 2742 \nQ 2594 3103 2138 3103 \nQ 1681 3103 1420 2742 \nQ 1159 2381 1159 1747 \nQ 1159 1113 1420 752 \nQ 1681 391 2138 391 \nQ 2594 391 2855 752 \nQ 3116 1113 3116 1747 \nz\nM 1159 2969 \nQ 1341 3281 1617 3432 \nQ 1894 3584 2278 3584 \nQ 2916 3584 3314 3078 \nQ 3713 2572 3713 1747 \nQ 3713 922 3314 415 \nQ 2916 -91 2278 -91 \nQ 1894 -91 1617 61 \nQ 1341 213 1159 525 \nL 1159 0 \nL 581 0 \nL 581 4863 \nL 1159 4863 \nL 1159 2969 \nz\n\" transform=\"scale(0.015625)\"/>\n       <path id=\"DejaVuSans-79\" d=\"M 2059 -325 \nQ 1816 -950 1584 -1140 \nQ 1353 -1331 966 -1331 \nL 506 -1331 \nL 506 -850 \nL 844 -850 \nQ 1081 -850 1212 -737 \nQ 1344 -625 1503 -206 \nL 1606 56 \nL 191 3500 \nL 800 3500 \nL 1894 763 \nL 2988 3500 \nL 3597 3500 \nL 2059 -325 \nz\n\" transform=\"scale(0.015625)\"/>\n      </defs>\n      <use xlink:href=\"#DejaVuSans-45\"/>\n      <use xlink:href=\"#DejaVuSans-73\" x=\"63.183594\"/>\n      <use xlink:href=\"#DejaVuSans-74\" x=\"115.283203\"/>\n      <use xlink:href=\"#DejaVuSans-69\" x=\"154.492188\"/>\n      <use xlink:href=\"#DejaVuSans-6d\" x=\"182.275391\"/>\n      <use xlink:href=\"#DejaVuSans-61\" x=\"279.6875\"/>\n      <use xlink:href=\"#DejaVuSans-74\" x=\"340.966797\"/>\n      <use xlink:href=\"#DejaVuSans-65\" x=\"380.175781\"/>\n      <use xlink:href=\"#DejaVuSans-64\" x=\"441.699219\"/>\n      <use xlink:href=\"#DejaVuSans-20\" x=\"505.175781\"/>\n      <use xlink:href=\"#DejaVuSans-50\" x=\"536.962891\"/>\n      <use xlink:href=\"#DejaVuSans-72\" x=\"595.515625\"/>\n      <use xlink:href=\"#DejaVuSans-6f\" x=\"634.378906\"/>\n      <use xlink:href=\"#DejaVuSans-62\" x=\"695.560547\"/>\n      <use xlink:href=\"#DejaVuSans-61\" x=\"759.037109\"/>\n      <use xlink:href=\"#DejaVuSans-62\" x=\"820.316406\"/>\n      <use xlink:href=\"#DejaVuSans-69\" x=\"883.792969\"/>\n      <use xlink:href=\"#DejaVuSans-6c\" x=\"911.576172\"/>\n      <use xlink:href=\"#DejaVuSans-69\" x=\"939.359375\"/>\n      <use xlink:href=\"#DejaVuSans-74\" x=\"967.142578\"/>\n      <use xlink:href=\"#DejaVuSans-79\" x=\"1006.351562\"/>\n     </g>\n    </g>\n   </g>\n   <g id=\"line2d_13\">\n    <path d=\"M 55.194886 192.42 \nL 55.217716 192.42 \nL 55.309034 74.819996 \nL 55.354693 82.17 \nL 55.491671 104.22 \nL 55.560159 109.408235 \nL 55.628648 95.399998 \nL 55.697137 108.054782 \nL 55.742796 100.692003 \nL 55.834114 89.013101 \nL 55.879773 95.684514 \nL 56.01675 106.603782 \nL 56.03958 104.22 \nL 56.062409 101.958456 \nL 56.130898 104.22 \nL 56.336364 116.325882 \nL 56.404853 114.019999 \nL 56.427682 115.445454 \nL 56.450512 116.819999 \nL 56.496171 113.344138 \nL 56.519001 114.684406 \nL 56.54183 113.040002 \nL 56.587489 115.600645 \nL 56.610319 114.019999 \nL 56.770126 119.339999 \nL 56.792955 117.884789 \nL 56.975592 109.802278 \nL 56.998421 110.834999 \nL 57.04408 110.673658 \nL 57.181058 114.242728 \nL 57.340865 110.718948 \nL 57.386524 112.403506 \nL 57.432183 110.456365 \nL 57.614819 106.692896 \nL 57.774626 110.409471 \nL 57.820285 110.302757 \nL 58.09424 104.22 \nL 58.139899 105.576923 \nL 58.231217 105.536417 \nL 58.322535 104.22 \nL 58.345365 104.85453 \nL 58.482342 107.261381 \nL 58.391024 104.84553 \nL 58.505172 106.63644 \nL 58.550831 105.411891 \nL 58.59649 106.571998 \nL 58.642149 107.701581 \nL 58.687808 106.51091 \nL 58.710638 105.927095 \nL 58.756297 107.028916 \nL 58.779127 107.569365 \nL 58.847615 106.959133 \nL 58.870445 107.486665 \nL 58.893274 106.925524 \nL 58.938933 107.96182 \nL 59.09874 110.373486 \nL 59.12157 109.82809 \nL 59.235718 107.193033 \nL 59.304206 107.631052 \nL 59.441184 109.408235 \nL 59.464013 108.911489 \nL 59.692309 106.00182 \nL 59.806457 107.261381 \nL 59.852116 107.23171 \nL 60.17173 103.011785 \nL 60.240218 103.425406 \nL 60.263048 103.033455 \nL 60.331536 101.878411 \nL 60.422855 101.919133 \nL 60.491343 101.570217 \nL 60.537002 102.343404 \nL 60.559832 101.977624 \nL 60.605491 102.737647 \nL 60.65115 102.015002 \nL 60.719639 102.405186 \nL 60.742468 102.05115 \nL 60.833787 101.374841 \nL 60.788128 102.068783 \nL 60.856616 101.740485 \nL 60.925105 102.119997 \nL 60.947934 101.779682 \nL 61.084912 100.474053 \nL 61.107741 100.82769 \nL 61.244719 102.230523 \nL 61.267548 101.907641 \nL 61.290378 101.587166 \nL 61.336037 102.259995 \nL 61.404526 101.958456 \nL 61.450185 102.616365 \nL 61.473014 102.302609 \nL 61.518673 102.950939 \nL 61.587162 103.906118 \nL 61.632821 103.285019 \nL 61.724139 103.298047 \nL 61.838287 101.80356 \nL 61.906776 102.127116 \nL 61.929605 101.836218 \nL 61.975264 101.260268 \nL 62.020924 101.868002 \nL 62.20356 103.647278 \nL 62.22639 103.363687 \nL 62.249219 103.081937 \nL 62.294878 103.654617 \nL 62.317708 103.374633 \nL 62.477515 105.322499 \nL 62.523174 104.767824 \nL 62.546003 104.493066 \nL 62.591662 105.034156 \nL 62.637322 105.029172 \nL 62.842788 106.845001 \nL 63.093913 104.982536 \nL 63.116742 105.233795 \nL 63.162401 104.724001 \nL 63.20806 104.22 \nL 63.25372 104.718308 \nL 63.367867 104.95705 \nL 63.413526 104.46432 \nL 63.459186 104.948927 \nL 63.664652 106.116772 \nL 63.710311 105.634972 \nL 63.75597 106.096596 \nL 63.870118 106.766459 \nL 63.892947 106.5289 \nL 63.961436 105.823635 \nL 64.029924 106.038557 \nL 64.098413 105.799026 \nL 64.166902 106.45858 \nL 64.212561 106.00182 \nL 64.25822 106.43608 \nL 64.28105 106.65158 \nL 64.326709 106.199551 \nL 64.463686 105.736955 \nL 64.555004 106.580583 \nL 64.600663 106.142033 \nL 64.623493 105.924346 \nL 64.669152 106.34019 \nL 64.76047 107.160002 \nL 64.851788 107.132266 \nL 65.171402 105.025482 \nL 65.468186 106.762348 \nL 65.650823 105.5651 \nL 65.673652 105.753915 \nL 65.764971 106.501037 \nL 65.856289 106.481538 \nL 65.924778 106.279875 \nL 65.947607 106.462371 \nL 66.107414 107.350274 \nL 65.993266 106.452913 \nL 66.130244 107.160002 \nL 66.244391 106.584126 \nL 66.267221 106.760739 \nL 66.33571 107.286258 \nL 66.381369 106.9145 \nL 66.564005 106.164286 \nL 66.655323 106.148825 \nL 66.700982 106.490496 \nL 66.769471 106.303464 \nL 66.792301 106.472654 \nL 66.83796 106.809042 \nL 66.883619 106.45509 \nL 66.906448 106.279144 \nL 66.952108 106.613024 \nL 67.34021 108.687919 \nL 67.477187 107.983637 \nL 67.500017 108.14 \nL 67.545676 108.450996 \nL 67.614165 108.265871 \nL 67.636994 108.096923 \nL 67.682653 108.40467 \nL 67.728312 108.710183 \nL 67.773972 108.374347 \nL 67.84246 108.510811 \nL 67.933778 107.848981 \nL 67.956608 108.000002 \nL 68.002267 107.672667 \nL 68.047926 107.973191 \nL 68.184904 107.314736 \nL 68.207733 107.46378 \nL 68.230563 107.61231 \nL 68.276222 107.293171 \nL 68.39037 107.114302 \nL 68.413199 107.261381 \nL 68.458858 106.947835 \nL 68.481688 107.094441 \nL 68.550176 107.230238 \nL 68.595836 106.919999 \nL 68.618665 107.065164 \nL 68.664324 106.757054 \nL 68.732813 106.59576 \nL 68.755642 106.74 \nL 68.801302 107.027034 \nL 68.846961 106.723172 \nL 68.983938 106.406777 \nL 69.280722 107.930682 \nL 69.303552 107.7822 \nL 69.349211 107.486665 \nL 69.39487 107.759326 \nL 69.463359 108.16505 \nL 69.509018 107.871592 \nL 69.577506 107.994009 \nL 69.623166 107.703411 \nL 69.737313 108.367334 \nL 69.782972 108.078749 \nL 69.805802 107.935135 \nL 69.851461 108.197918 \nL 69.965609 108.847778 \nL 70.034098 108.690968 \nL 70.102586 108.535599 \nL 70.125416 108.663662 \nL 70.262393 109.157065 \nL 70.308052 109.142172 \nL 70.353711 108.862103 \nL 70.4222 108.973292 \nL 70.582007 109.577336 \nL 70.604836 109.438937 \nL 70.650496 109.163363 \nL 70.696155 109.408235 \nL 70.718984 109.530132 \nL 70.764643 109.256309 \nL 70.787473 109.377896 \nL 70.810302 109.241605 \nL 70.855962 109.483754 \nL 70.878791 109.604305 \nL 70.94728 109.453283 \nL 70.970109 109.573177 \nL 70.992939 109.43818 \nL 71.038598 109.676979 \nL 71.061428 109.542413 \nL 71.084257 109.661318 \nL 71.152746 109.512 \nL 71.221234 109.363954 \nL 71.244064 109.481929 \nL 71.44953 110.281428 \nL 71.495189 110.264474 \nL 71.632166 109.969512 \nL 71.723485 110.181101 \nL 71.677826 109.95361 \nL 71.746314 110.051403 \nL 71.906121 109.634733 \nL 71.95178 109.619997 \nL 72.225735 110.713975 \nL 72.294224 110.335198 \nL 72.362712 110.427966 \nL 72.385542 110.536709 \nL 72.431201 110.286665 \nL 72.49969 110.378896 \nL 72.545349 110.130906 \nL 72.591008 110.346606 \nL 72.636667 110.1 \nL 72.659496 110.207466 \nL 72.727985 109.840024 \nL 72.773644 110.054242 \nL 72.97911 110.778464 \nL 73.00194 110.657134 \nL 73.047599 110.415401 \nL 73.116088 110.503968 \nL 73.161747 110.488018 \nL 73.321554 110.987545 \nL 73.549849 110.246085 \nL 73.595508 110.449741 \nL 73.686826 110.419013 \nL 73.915122 109.698928 \nL 74.120588 110.595905 \nL 74.211906 110.565324 \nL 74.234736 110.452096 \nL 74.280395 110.647956 \nL 74.303224 110.535038 \nL 74.371713 110.407636 \nL 74.463031 110.79586 \nL 74.645668 110.113789 \nL 74.668497 110.210163 \nL 74.759816 110.387833 \nL 74.714156 110.196168 \nL 74.782645 110.277975 \nL 74.873963 109.841091 \nL 74.942452 109.923465 \nL 74.965282 110.018614 \nL 75.010941 109.802278 \nL 75.102259 109.574639 \nL 75.125088 109.66943 \nL 75.216407 110.046424 \nL 75.262066 109.832727 \nL 75.53602 108.966189 \nL 75.741486 109.408235 \nL 75.809975 109.488585 \nL 75.878464 109.179429 \nL 75.946952 109.066154 \nL 75.992612 109.248949 \nL 76.0611 109.328852 \nL 76.152418 108.922718 \nL 76.220907 108.811756 \nL 76.266566 108.992727 \nL 76.289396 108.892216 \nL 76.335055 109.072425 \nL 76.357884 108.972156 \nL 76.426373 109.051581 \nL 76.449203 108.951758 \nL 76.60901 108.634696 \nL 76.631839 108.72383 \nL 76.677498 108.527009 \nL 76.700328 108.61597 \nL 76.745987 108.42 \nL 76.791646 108.597402 \nL 76.974282 108.930157 \nL 77.019942 108.73599 \nL 77.08843 108.813748 \nL 77.225408 109.150436 \nL 77.248237 109.054125 \nL 77.476533 108.282436 \nL 77.499362 108.368464 \nL 77.545021 108.539999 \nL 77.61351 108.437091 \nL 77.750487 108.233146 \nL 77.910294 108.470605 \nL 77.978783 108.369547 \nL 78.001612 108.453598 \nL 78.047272 108.621195 \nL 78.092931 108.436733 \nL 78.184249 108.245 \nL 78.207078 108.328426 \nL 78.389715 108.643007 \nL 78.458204 108.543532 \nL 78.481033 108.62568 \nL 78.503863 108.70767 \nL 78.549522 108.526641 \nL 78.572351 108.608489 \nL 78.709329 108.411851 \nL 78.732158 108.493258 \nL 78.777817 108.314389 \nL 78.914795 108.121153 \nL 79.051772 108.267417 \nL 79.211579 107.989231 \nL 79.394215 108.293329 \nL 79.531193 107.939777 \nL 79.554022 108.018875 \nL 79.713829 108.40437 \nL 79.736659 108.318511 \nL 79.896466 107.884819 \nL 79.919295 107.962803 \nL 79.942125 108.040645 \nL 79.987784 107.871334 \nL 80.124761 107.6899 \nL 80.147591 107.767348 \nL 80.19325 107.59993 \nL 80.216079 107.677246 \nL 80.353057 107.498514 \nL 80.558523 107.868564 \nL 80.6955 107.691199 \nL 80.71833 107.766917 \nL 80.763989 107.603231 \nL 80.855307 107.277599 \nL 80.900966 107.428694 \nL 81.037943 107.567398 \nL 81.174921 107.085146 \nL 81.22058 107.234722 \nL 81.357557 107.52654 \nL 81.380387 107.446831 \nL 81.494535 107.35634 \nL 81.74566 107.857114 \nL 81.768489 107.778283 \nL 81.814148 107.923343 \nL 82.065273 108.412871 \nL 82.22508 108.015947 \nL 82.24791 108.087118 \nL 82.384887 108.215639 \nL 82.476205 108.054782 \nL 82.499035 108.125264 \nL 82.613183 108.182399 \nL 82.795819 107.864626 \nL 82.818649 107.934451 \nL 82.864308 107.782904 \nL 82.887137 107.852619 \nL 82.909967 107.777037 \nL 82.955626 107.916141 \nL 82.978456 107.84069 \nL 83.001285 107.910074 \nL 83.046944 107.759557 \nL 83.069774 107.684485 \nL 83.115433 107.822942 \nL 83.183922 107.742251 \nL 83.229581 107.88005 \nL 83.27524 107.730806 \nL 83.343729 107.793744 \nL 83.640513 108.393057 \nL 83.663342 108.319037 \nL 83.709001 108.453598 \nL 83.731831 108.379714 \nL 83.754661 108.446837 \nL 83.80032 108.299427 \nL 83.845979 108.152485 \nL 83.891638 108.286453 \nL 83.914467 108.353282 \nL 83.960127 108.206834 \nL 83.982956 108.273568 \nL 84.028615 108.127593 \nL 84.097104 108.187955 \nL 84.211252 108.519055 \nL 84.256911 108.373847 \nL 84.439547 108.07273 \nL 84.462377 108.13847 \nL 84.508036 107.995098 \nL 84.530865 108.060749 \nL 84.713502 107.764357 \nL 84.781991 107.688155 \nL 84.82765 107.818616 \nL 84.964627 107.666895 \nL 85.078775 107.855726 \nL 85.101604 107.785674 \nL 85.192923 107.506542 \nL 85.238582 107.635489 \nL 85.375559 107.886669 \nL 85.398389 107.81728 \nL 85.421218 107.748002 \nL 85.466877 107.875613 \nL 85.581025 108.060538 \nL 85.603855 107.991491 \nL 85.85498 107.501248 \nL 85.923468 107.428463 \nL 85.991957 107.617336 \nL 86.014787 107.549535 \nL 86.060446 107.674991 \nL 86.197423 107.789538 \nL 86.425719 107.376901 \nL 86.631185 107.804327 \nL 86.654014 107.737766 \nL 86.722503 107.666311 \nL 86.745332 107.727594 \nL 86.836651 107.97184 \nL 86.905139 107.900285 \nL 86.973628 107.702412 \nL 87.019287 107.823873 \nL 87.179094 108.120427 \nL 87.201923 108.054782 \nL 87.316071 107.978522 \nL 87.38456 107.908024 \nL 87.475878 108.146923 \nL 87.521537 108.016894 \nL 87.590026 108.070984 \nL 87.749833 108.361136 \nL 87.772662 108.296473 \nL 88.092276 107.645241 \nL 88.38906 108.160208 \nL 88.41189 108.096923 \nL 88.457549 108.21259 \nL 88.571697 108.259237 \nL 88.663015 108.127977 \nL 88.685845 108.185395 \nL 88.708674 108.242735 \nL 88.754333 108.117347 \nL 88.822822 108.169256 \nL 88.91414 107.919863 \nL 89.028288 107.966867 \nL 89.256583 107.587312 \nL 89.462049 107.860746 \nL 89.621856 107.668509 \nL 89.736004 107.83189 \nL 89.758834 107.771286 \nL 89.872981 107.701581 \nL 89.94147 107.868459 \nL 89.987129 107.748002 \nL 90.055618 107.567903 \nL 90.101277 107.678823 \nL 90.192595 107.899791 \nL 90.238254 107.780154 \nL 90.283913 107.660833 \nL 90.329573 107.770907 \nL 90.489379 107.925882 \nL 90.649186 107.738918 \nL 90.831823 107.946758 \nL 90.99163 107.761492 \nL 91.014459 107.815414 \nL 91.060118 107.698627 \nL 91.082948 107.640341 \nL 91.128607 107.748002 \nL 91.288414 107.899644 \nL 91.356903 107.837037 \nL 91.379732 107.890365 \nL 91.49388 107.934267 \nL 91.699346 107.637749 \nL 91.722175 107.690704 \nL 91.767835 107.57633 \nL 91.790664 107.629228 \nL 91.859153 107.567977 \nL 91.881982 107.620748 \nL 91.927641 107.726085 \nL 91.99613 107.664887 \nL 92.407062 106.761633 \nL 92.429892 106.81412 \nL 92.452721 106.866539 \nL 92.49838 106.755414 \nL 92.566869 106.696923 \nL 92.589699 106.749226 \nL 92.681017 106.850431 \nL 92.703846 106.795184 \nL 92.772335 106.844044 \nL 92.817994 106.733886 \nL 92.954971 106.831358 \nL 93.091949 106.715728 \nL 93.228926 106.812564 \nL 93.274585 106.703762 \nL 93.320244 106.806355 \nL 93.411563 107.010805 \nL 93.457222 106.902287 \nL 93.480051 106.848128 \nL 93.52571 106.950001 \nL 93.54854 107.000843 \nL 93.594199 106.892725 \nL 93.708347 106.728056 \nL 93.731176 106.778792 \nL 94.005131 107.175553 \nL 94.07362 107.22211 \nL 94.142108 107.061826 \nL 94.187767 107.161722 \nL 94.233427 107.055186 \nL 94.347574 106.995523 \nL 94.507381 107.137817 \nL 94.55304 107.032175 \nL 94.598699 107.131062 \nL 94.781336 107.320981 \nL 94.872654 107.212411 \nL 94.895484 107.261381 \nL 95.009631 107.303207 \nL 95.032461 107.25093 \nL 95.07812 107.348376 \nL 95.10095 107.296157 \nL 95.123779 107.344801 \nL 95.169438 107.240547 \nL 95.283586 107.081356 \nL 95.306416 107.1299 \nL 95.443393 107.419999 \nL 95.489052 107.316491 \nL 95.557541 107.161664 \nL 95.626029 107.206454 \nL 95.694518 107.350479 \nL 95.763007 107.295589 \nL 95.899984 107.186367 \nL 96.036961 107.274971 \nL 96.173939 107.166548 \nL 96.333746 107.301866 \nL 96.425064 107.197423 \nL 96.447893 107.244558 \nL 96.470723 107.291641 \nL 96.516382 107.190846 \nL 96.584871 107.040066 \nL 96.63053 107.134095 \nL 96.835996 107.361372 \nL 96.904485 107.404464 \nL 96.950144 107.304589 \nL 96.972973 107.351078 \nL 97.018632 107.251424 \nL 97.064291 107.151991 \nL 97.109951 107.244821 \nL 97.178439 107.383693 \nL 97.224098 107.284497 \nL 97.520883 106.835096 \nL 97.680689 106.967371 \nL 97.840496 106.721121 \nL 97.863326 106.766953 \nL 97.908985 106.858464 \nL 97.954644 106.761517 \nL 98.114451 106.517607 \nL 98.137281 106.56325 \nL 98.205769 106.606311 \nL 98.228599 106.558282 \nL 98.251428 106.5103 \nL 98.297087 106.601259 \nL 98.319917 106.646665 \nL 98.365576 106.550869 \nL 98.388406 106.596228 \nL 98.479724 106.49823 \nL 98.502553 106.543499 \nL 98.525383 106.588721 \nL 98.571042 106.493435 \nL 98.593872 106.53861 \nL 98.708019 106.48628 \nL 98.936315 106.842535 \nL 98.959145 106.795184 \nL 99.004804 106.700624 \nL 99.050463 106.789822 \nL 99.141781 106.967665 \nL 99.18744 106.873321 \nL 99.21027 106.826222 \nL 99.255929 106.914873 \nL 99.370077 106.953471 \nL 99.598372 106.667483 \nL 99.895156 107.056448 \nL 100.032134 106.868242 \nL 100.054963 106.911761 \nL 100.169111 107.039178 \nL 100.191941 106.99302 \nL 100.21477 106.946915 \nL 100.260429 107.033469 \nL 100.283259 107.076682 \nL 100.328918 106.984609 \nL 100.397407 106.846856 \nL 100.443066 106.933163 \nL 100.465895 106.97625 \nL 100.511554 106.884655 \nL 100.534384 106.9277 \nL 100.785509 106.603782 \nL 100.808339 106.646712 \nL 100.853998 106.556132 \nL 101.013805 106.328367 \nL 101.036634 106.371217 \nL 101.219271 106.5376 \nL 101.2421 106.492747 \nL 101.287759 106.577823 \nL 101.401907 106.702669 \nL 101.424737 106.65791 \nL 101.607373 106.301419 \nL 101.675862 106.341651 \nL 102.018305 106.798948 \nL 102.086794 106.666421 \nL 102.155282 106.705713 \nL 102.178112 106.747344 \nL 102.223771 106.659303 \nL 102.360748 106.566877 \nL 102.452067 106.732698 \nL 102.520555 106.68654 \nL 102.748851 106.420766 \nL 102.885828 106.49885 \nL 102.999976 106.367112 \nL 103.022806 106.40817 \nL 103.068465 106.49016 \nL 103.136953 106.444938 \nL 103.251101 106.397776 \nL 103.410908 106.515789 \nL 103.456567 106.430213 \nL 103.525056 106.468727 \nL 103.593544 106.50713 \nL 103.616374 106.464484 \nL 103.684863 106.419814 \nL 103.707692 106.460263 \nL 103.730522 106.50068 \nL 103.776181 106.415677 \nL 103.890329 106.286541 \nL 103.913158 106.326884 \nL 104.027306 106.445606 \nL 104.050136 106.40337 \nL 104.095795 106.319019 \nL 104.141454 106.399301 \nL 104.32409 106.55507 \nL 104.506727 106.383167 \nL 104.735022 106.616962 \nL 105.008977 106.280558 \nL 105.031806 106.320003 \nL 105.077466 106.237381 \nL 105.100295 106.196134 \nL 105.145954 106.274912 \nL 105.305761 106.38885 \nL 105.488398 106.220906 \nL 105.556886 106.258152 \nL 105.579716 106.217283 \nL 105.762352 106.050869 \nL 105.944989 106.202916 \nL 105.967818 106.162383 \nL 106.013477 106.239847 \nL 106.081966 106.19758 \nL 106.127625 106.274839 \nL 106.355921 106.029635 \nL 106.40158 106.106631 \nL 106.470068 106.064858 \nL 106.652705 105.823635 \nL 106.675534 105.862022 \nL 106.698364 105.900373 \nL 106.744023 105.820796 \nL 106.90383 105.699083 \nL 107.017978 105.734663 \nL 107.132126 105.692585 \nL 107.200614 105.729348 \nL 107.223444 105.689999 \nL 107.246273 105.650686 \nL 107.291932 105.726704 \nL 107.42891 105.799815 \nL 107.543058 105.68103 \nL 107.565887 105.718823 \nL 107.702864 105.868242 \nL 107.725694 105.829207 \nL 107.794183 105.71232 \nL 107.839842 105.787492 \nL 108.022478 105.934471 \nL 108.136626 105.892761 \nL 108.43341 106.223687 \nL 108.45624 106.185036 \nL 108.501899 106.258867 \nL 108.593217 106.330769 \nL 108.616047 106.292192 \nL 108.730194 106.17499 \nL 108.753024 106.211732 \nL 108.912831 106.39315 \nL 108.93566 106.354778 \nL 109.095467 106.236425 \nL 109.300933 106.414768 \nL 109.437911 106.335017 \nL 109.46074 106.371217 \nL 109.506399 106.295294 \nL 109.643377 106.142212 \nL 109.666206 106.17836 \nL 109.689036 106.214471 \nL 109.734695 106.138994 \nL 109.848843 106.098162 \nL 109.917331 106.132596 \nL 109.940161 106.095029 \nL 110.031479 106.018501 \nL 110.054309 106.054444 \nL 110.145627 106.197906 \nL 110.191286 106.12307 \nL 110.259775 106.084152 \nL 110.282604 106.119916 \nL 110.396752 106.225374 \nL 110.419582 106.188101 \nL 110.465241 106.113639 \nL 110.5109 106.184852 \nL 110.647877 106.25259 \nL 110.739195 106.249252 \nL 110.899002 106.351829 \nL 111.03598 106.274518 \nL 111.150127 106.306297 \nL 111.355593 106.119469 \nL 111.492571 106.186356 \nL 111.606718 106.003981 \nL 111.652378 106.073837 \nL 111.675207 106.108729 \nL 111.720866 106.035986 \nL 111.835014 105.996794 \nL 112.04048 106.167409 \nL 112.086139 106.095092 \nL 112.131798 106.164286 \nL 112.177457 106.233376 \nL 112.223116 106.161174 \nL 112.360094 105.945269 \nL 112.405753 106.014258 \nL 112.451412 106.083132 \nL 112.497071 106.011398 \nL 112.56556 105.904011 \nL 112.611219 105.97278 \nL 112.656878 106.041443 \nL 112.702537 105.969999 \nL 112.816685 105.931606 \nL 112.976492 106.101043 \nL 112.999321 106.065479 \nL 113.181958 105.851403 \nL 113.204787 105.885459 \nL 113.364594 105.984692 \nL 113.433083 105.878935 \nL 113.478742 105.946704 \nL 113.59289 105.977795 \nL 113.684208 105.90623 \nL 113.707038 105.93997 \nL 113.844015 106.00459 \nL 113.958163 105.89837 \nL 113.980992 105.931958 \nL 114.026651 105.999055 \nL 114.07231 105.929303 \nL 114.186458 105.823635 \nL 114.209288 105.857123 \nL 114.391924 105.988078 \nL 114.437583 105.918768 \nL 114.483242 105.98536 \nL 114.688708 106.148426 \nL 114.780027 106.077906 \nL 114.802856 106.110963 \nL 114.917004 106.275864 \nL 114.962663 106.206943 \nL 115.031152 106.171031 \nL 115.053981 106.203909 \nL 115.236618 106.331973 \nL 115.396425 106.226063 \nL 115.419254 106.258725 \nL 115.464913 106.190388 \nL 115.62472 106.018643 \nL 115.64755 106.051258 \nL 115.693209 106.116415 \nL 115.738868 106.048498 \nL 115.853016 105.945506 \nL 115.875845 105.978031 \nL 116.012823 106.04026 \nL 116.12697 106.003818 \nL 116.195459 106.034814 \nL 116.218289 106.001152 \nL 116.446584 105.797349 \nL 116.515073 105.894059 \nL 116.560732 105.827215 \nL 116.697709 105.823635 \nL 116.789028 105.886615 \nL 116.811857 105.853332 \nL 116.857516 105.78684 \nL 116.948834 105.84971 \nL 117.017323 105.880464 \nL 117.040153 105.847308 \nL 117.085812 105.781063 \nL 117.1543 105.876795 \nL 117.336937 106.001489 \nL 117.359766 105.968458 \nL 117.428255 106.063565 \nL 117.473914 106.12685 \nL 117.519573 106.060863 \nL 117.656551 105.992378 \nL 117.67938 106.023942 \nL 117.793528 106.117119 \nL 117.816358 106.084283 \nL 117.998994 106.014768 \nL 118.067483 106.044829 \nL 118.090312 106.012161 \nL 118.295778 105.910635 \nL 118.318608 105.94191 \nL 118.364267 105.876937 \nL 118.546903 105.745072 \nL 118.569733 105.776284 \nL 118.798028 105.960583 \nL 119.026324 105.828224 \nL 119.140472 105.856828 \nL 119.574233 105.439354 \nL 119.665552 105.43763 \nL 119.688381 105.468405 \nL 119.802529 105.559669 \nL 119.825359 105.528053 \nL 120.007995 105.462254 \nL 120.25912 105.674017 \nL 120.487416 105.545622 \nL 120.601563 105.574084 \nL 121.012495 105.198641 \nL 121.035325 105.228875 \nL 121.103814 105.136207 \nL 121.28645 105.072764 \nL 121.606064 105.311133 \nL 121.971337 105.003733 \nL 122.062655 105.062865 \nL 122.108314 105.002129 \nL 122.33661 104.879549 \nL 122.359439 104.909299 \nL 122.427928 104.818777 \nL 122.564905 104.817562 \nL 122.793201 104.994207 \nL 122.81603 104.964178 \nL 122.998667 104.902801 \nL 123.112815 104.93129 \nL 123.135644 104.901424 \nL 123.295451 104.87027 \nL 123.409599 104.839674 \nL 123.523747 104.868094 \nL 123.706383 104.983892 \nL 123.729213 104.954263 \nL 123.934679 104.864224 \nL 124.162974 104.978835 \nL 124.414099 104.830684 \nL 124.596736 104.887082 \nL 124.733713 104.827877 \nL 124.756543 104.856612 \nL 124.779372 104.885332 \nL 124.847861 104.797979 \nL 124.87069 104.768902 \nL 124.939179 104.854946 \nL 125.053327 104.882724 \nL 125.076156 104.853705 \nL 125.235963 104.766042 \nL 125.258793 104.794594 \nL 125.441429 104.850409 \nL 125.669725 104.676997 \nL 125.692554 104.705401 \nL 125.806702 104.790136 \nL 125.852361 104.732791 \nL 126.057827 104.646085 \nL 126.217634 104.730152 \nL 126.240464 104.701658 \nL 126.354611 104.672597 \nL 126.377441 104.700733 \nL 126.491589 104.728196 \nL 126.514418 104.699808 \nL 126.651396 104.586206 \nL 126.697055 104.642279 \nL 126.971009 104.808935 \nL 127.153646 104.751496 \nL 127.267794 104.722724 \nL 127.45043 104.610021 \nL 127.47326 104.637747 \nL 127.587407 104.60928 \nL 127.861362 104.441609 \nL 128.089658 104.551373 \nL 128.112487 104.523662 \nL 128.180976 104.606115 \nL 128.363612 104.660174 \nL 128.569078 104.576638 \nL 128.660397 104.630997 \nL 128.706056 104.575976 \nL 128.934351 104.465681 \nL 129.071329 104.574215 \nL 129.116988 104.519535 \nL 129.208306 104.464772 \nL 129.253965 104.518983 \nL 129.642067 104.814849 \nL 129.938852 104.623968 \nL 129.984511 104.677554 \nL 130.052999 104.596463 \nL 130.212806 104.568826 \nL 130.486761 104.72797 \nL 130.623738 104.673675 \nL 130.646568 104.700218 \nL 130.852034 104.831946 \nL 130.874863 104.805161 \nL 131.0575 104.750686 \nL 131.217307 104.776052 \nL 131.262966 104.722792 \nL 131.331455 104.801654 \nL 131.514091 104.853016 \nL 131.696727 104.693625 \nL 131.742387 104.745939 \nL 131.856534 104.823929 \nL 131.902193 104.771084 \nL 131.993512 104.665589 \nL 132.062 104.743752 \nL 132.335955 104.898464 \nL 132.518591 104.792727 \nL 132.541421 104.818582 \nL 132.632739 104.921858 \nL 132.701228 104.843322 \nL 132.929523 104.737911 \nL 133.134989 104.917337 \nL 133.180649 104.865302 \nL 133.363285 104.76079 \nL 133.386115 104.786377 \nL 133.431774 104.837502 \nL 133.500262 104.759844 \nL 133.705728 104.681513 \nL 133.888365 104.731603 \nL 134.048172 104.653981 \nL 134.071001 104.679373 \nL 134.185149 104.65323 \nL 134.481933 104.473888 \nL 134.892865 104.775668 \nL 134.984183 104.674121 \nL 135.052672 104.749351 \nL 135.258138 104.873708 \nL 135.280968 104.848385 \nL 135.303797 104.823077 \nL 135.372286 104.897881 \nL 135.623411 105.020908 \nL 135.760388 104.919603 \nL 135.806047 104.969151 \nL 135.943025 105.017738 \nL 135.965854 104.992593 \nL 136.080002 104.966612 \nL 136.102832 104.991284 \nL 136.331127 105.137974 \nL 136.353957 105.112913 \nL 136.376786 105.087868 \nL 136.445275 105.161463 \nL 136.627911 105.258231 \nL 136.650741 105.233222 \nL 137.038843 104.95787 \nL 137.22148 105.00531 \nL 137.586753 104.757505 \nL 137.74656 104.780852 \nL 137.815048 104.756022 \nL 137.860707 104.80443 \nL 138.066173 104.875853 \nL 138.22598 104.850346 \nL 138.522765 105.06552 \nL 138.545594 105.041137 \nL 138.728231 104.991147 \nL 138.933697 105.061372 \nL 139.139163 104.939412 \nL 139.161992 104.96319 \nL 139.413117 105.080487 \nL 139.527265 105.103193 \nL 139.664242 105.101763 \nL 139.892538 105.004316 \nL 140.166493 105.14393 \nL 140.257811 105.142942 \nL 140.28064 105.166352 \nL 140.394788 105.283218 \nL 140.463277 105.211542 \nL 140.531766 105.187159 \nL 140.577425 105.233795 \nL 140.600254 105.257095 \nL 140.668743 105.185609 \nL 140.760061 105.137527 \nL 140.80572 105.184063 \nL 140.919868 105.159297 \nL 140.988357 105.088157 \nL 141.056845 105.157798 \nL 141.148164 105.250482 \nL 141.216652 105.179458 \nL 141.3308 105.154818 \nL 141.35363 105.177933 \nL 141.604755 105.291634 \nL 141.764562 105.219896 \nL 141.787391 105.24288 \nL 142.015687 105.332934 \nL 142.243982 105.237512 \nL 142.35813 105.259277 \nL 142.38096 105.235914 \nL 142.495107 105.257647 \nL 142.700573 105.324223 \nL 142.974528 105.183185 \nL 143.111505 105.181681 \nL 143.36263 105.064784 \nL 143.545267 105.108607 \nL 143.682244 105.10723 \nL 143.91054 105.195713 \nL 144.070347 105.171309 \nL 144.275813 105.236908 \nL 144.41279 105.235352 \nL 144.641086 105.322783 \nL 144.800892 105.298348 \nL 144.91504 105.274543 \nL 145.188995 105.137117 \nL 145.325972 105.135724 \nL 145.485779 105.111809 \nL 145.668416 105.154513 \nL 145.919541 105.04098 \nL 146.261984 105.236845 \nL 146.513109 105.123822 \nL 146.627257 105.10068 \nL 146.741405 105.121571 \nL 146.855552 105.098487 \nL 147.015359 105.075035 \nL 147.129507 105.052077 \nL 147.266484 105.050837 \nL 147.380632 105.027974 \nL 147.49478 105.048781 \nL 147.677416 105.090681 \nL 147.882882 105.023594 \nL 148.042689 105.043892 \nL 148.293814 104.933555 \nL 148.385133 104.889653 \nL 148.52211 104.88867 \nL 148.887383 105.100927 \nL 149.001531 105.121314 \nL 149.115678 105.098787 \nL 149.229826 105.119127 \nL 149.389633 105.138973 \nL 149.595099 105.072996 \nL 149.709247 105.050669 \nL 149.891883 105.006551 \nL 150.097349 105.068485 \nL 150.371304 104.939139 \nL 150.645259 105.063617 \nL 150.805066 105.041153 \nL 150.942043 105.039976 \nL 151.124679 104.996447 \nL 151.352975 105.078342 \nL 151.6041 104.971706 \nL 151.809566 105.032616 \nL 151.969373 105.010473 \nL 152.243328 105.132701 \nL 152.357475 105.152347 \nL 152.540112 105.191959 \nL 152.745578 105.128001 \nL 152.882555 105.126729 \nL 153.088021 105.063133 \nL 153.247828 105.08229 \nL 153.521783 104.95705 \nL 153.63593 104.935742 \nL 153.795737 104.914167 \nL 153.909885 104.89297 \nL 154.046862 104.89204 \nL 154.252328 104.951614 \nL 154.503454 104.848406 \nL 154.617601 104.82744 \nL 154.845897 104.74524 \nL 155.005704 104.76457 \nL 155.142681 104.763824 \nL 155.279658 104.763077 \nL 155.553613 104.641243 \nL 155.804738 104.740235 \nL 156.055863 104.639146 \nL 156.2385 104.678232 \nL 156.443966 104.617655 \nL 156.74075 104.755265 \nL 156.900557 104.734631 \nL 157.060364 104.753588 \nL 157.197341 104.752873 \nL 157.311489 104.73256 \nL 157.562614 104.632979 \nL 157.905057 104.807999 \nL 158.110523 104.748142 \nL 158.315989 104.805655 \nL 158.612774 104.667718 \nL 158.726921 104.647778 \nL 159.000876 104.530292 \nL 159.092194 104.491268 \nL 159.32049 104.413336 \nL 159.525956 104.470844 \nL 159.662933 104.470513 \nL 159.799911 104.470187 \nL 160.005377 104.412074 \nL 160.165183 104.430958 \nL 160.34782 104.392302 \nL 160.644604 104.525455 \nL 160.827241 104.48681 \nL 161.078366 104.581244 \nL 161.169684 104.618922 \nL 161.397979 104.693888 \nL 161.489298 104.731361 \nL 161.649105 104.749503 \nL 161.808911 104.729826 \nL 162.219843 104.95359 \nL 162.356821 104.952649 \nL 162.516628 104.970319 \nL 162.676435 104.950473 \nL 162.767753 104.912427 \nL 162.881901 104.930385 \nL 163.247173 105.114296 \nL 163.40698 105.094371 \nL 163.817912 105.313467 \nL 164.046208 105.237197 \nL 164.365822 105.381742 \nL 164.479969 105.398948 \nL 164.708265 105.470019 \nL 164.822413 105.487084 \nL 165.050708 105.55775 \nL 165.210515 105.53751 \nL 165.667106 105.787192 \nL 165.849743 105.748216 \nL 166.00955 105.764182 \nL 166.237845 105.68849 \nL 166.397652 105.704482 \nL 166.603118 105.647537 \nL 166.877073 105.75219 \nL 167.151027 105.64055 \nL 167.424982 105.74471 \nL 167.721766 105.615458 \nL 167.858744 105.61376 \nL 168.04138 105.575824 \nL 168.178357 105.574184 \nL 168.452312 105.464257 \nL 168.703437 105.550185 \nL 168.931733 105.476712 \nL 169.160028 105.544855 \nL 169.342665 105.507461 \nL 169.479642 105.50592 \nL 169.685108 105.486027 \nL 169.936233 105.570982 \nL 170.278677 105.444512 \nL 170.461313 105.477505 \nL 170.666779 105.457833 \nL 170.872245 105.507844 \nL 171.032052 105.523447 \nL 171.191859 105.539009 \nL 171.465813 105.466644 \nL 171.694109 105.49876 \nL 171.968064 105.4268 \nL 172.105041 105.390947 \nL 172.333337 105.354294 \nL 172.584462 105.403317 \nL 172.858416 105.332125 \nL 173.041053 105.3304 \nL 173.474814 105.139104 \nL 173.68028 105.154502 \nL 173.908576 105.11879 \nL 174.20536 105.201128 \nL 174.365167 105.216704 \nL 174.502144 105.181813 \nL 174.661951 105.197379 \nL 174.844588 105.195886 \nL 174.981565 105.228386 \nL 175.164201 105.226851 \nL 175.415327 105.174511 \nL 175.620793 105.189599 \nL 175.73494 105.238784 \nL 175.986065 105.286666 \nL 176.123043 105.318756 \nL 176.374168 105.366317 \nL 176.556804 105.364593 \nL 176.739441 105.362874 \nL 176.899248 105.377914 \nL 177.173202 105.441331 \nL 177.424327 105.389412 \nL 177.561305 105.355198 \nL 177.766771 105.336872 \nL 178.063555 105.416097 \nL 178.383169 105.314939 \nL 178.611464 105.345541 \nL 178.794101 105.34388 \nL 178.931078 105.310092 \nL 179.090885 105.324938 \nL 179.250692 105.307285 \nL 179.478988 105.272893 \nL 179.912749 105.446793 \nL 180.163874 105.395999 \nL 180.414999 105.441873 \nL 180.734613 105.342544 \nL 180.87159 105.309283 \nL 181.145545 105.24298 \nL 181.373841 105.27304 \nL 181.579307 105.255397 \nL 181.830432 105.301039 \nL 182.058727 105.267357 \nL 182.287023 105.297154 \nL 182.492489 105.279601 \nL 182.675125 105.278087 \nL 182.834932 105.292533 \nL 182.994739 105.275437 \nL 183.223035 105.242107 \nL 183.47416 105.287187 \nL 183.633967 105.301534 \nL 183.839433 105.31546 \nL 184.067728 105.282277 \nL 184.250365 105.280773 \nL 184.50149 105.232003 \nL 184.706956 105.245945 \nL 184.912422 105.228796 \nL 185.02657 105.181392 \nL 185.232036 105.164391 \nL 185.551649 105.25474 \nL 185.757115 105.237691 \nL 186.0539 105.312305 \nL 186.213706 105.326342 \nL 186.419172 105.339953 \nL 186.738786 105.245403 \nL 186.875764 105.21376 \nL 187.241036 105.08904 \nL 187.355184 105.042588 \nL 187.56065 105.026102 \nL 187.720457 105.009942 \nL 188.0629 104.901839 \nL 188.291196 104.930927 \nL 188.542321 104.884291 \nL 188.656469 104.83847 \nL 188.816276 104.852801 \nL 189.158719 104.956377 \nL 189.409844 104.909998 \nL 189.683799 104.968473 \nL 190.026242 104.862053 \nL 190.323026 104.935133 \nL 190.551322 104.904184 \nL 190.756788 104.917994 \nL 190.916595 104.93201 \nL 191.122061 104.945741 \nL 191.532993 104.795892 \nL 191.898266 104.912169 \nL 192.103732 104.896424 \nL 192.332027 104.92466 \nL 192.537493 104.908947 \nL 192.674471 104.878976 \nL 192.879937 104.863368 \nL 193.131062 104.905982 \nL 193.359357 104.875706 \nL 193.610482 104.918152 \nL 193.861608 104.873335 \nL 194.112733 104.915629 \nL 194.295369 104.914714 \nL 194.569324 104.971128 \nL 194.706301 104.999254 \nL 195.025915 105.083857 \nL 195.25421 105.053702 \nL 195.482506 105.081049 \nL 195.847779 104.964304 \nL 196.007586 104.949164 \nL 196.190222 104.948218 \nL 196.532666 105.046163 \nL 196.738132 105.030739 \nL 196.897938 105.015619 \nL 197.103404 105.000279 \nL 197.377359 105.055416 \nL 197.537166 105.068622 \nL 197.696973 105.053544 \nL 197.879609 105.052477 \nL 198.222053 105.149014 \nL 198.3362 105.190466 \nL 198.587326 105.230888 \nL 198.724303 105.257978 \nL 199.043917 105.339642 \nL 199.317871 105.281641 \nL 199.568997 105.321626 \nL 199.865781 105.249788 \nL 200.162565 105.317121 \nL 200.390861 105.28766 \nL 200.687645 105.354673 \nL 200.93877 105.311275 \nL 201.075747 105.28265 \nL 201.304043 105.253431 \nL 201.577997 105.306512 \nL 201.851952 105.249572 \nL 202.217225 105.356565 \nL 202.49118 105.299778 \nL 202.673816 105.298442 \nL 202.856453 105.297107 \nL 203.107578 105.33611 \nL 203.313044 105.320969 \nL 203.51851 105.333018 \nL 203.678317 105.345378 \nL 203.906612 105.370728 \nL 204.066419 105.383019 \nL 204.271885 105.394921 \nL 204.454521 105.393481 \nL 204.774135 105.471733 \nL 204.956772 105.470203 \nL 205.185067 105.495148 \nL 205.413363 105.466408 \nL 205.710147 105.530828 \nL 205.869954 105.542799 \nL 206.121079 105.580619 \nL 206.303715 105.578973 \nL 206.486352 105.577333 \nL 206.714647 105.548713 \nL 207.034261 105.625473 \nL 207.262557 105.596884 \nL 207.468023 105.60825 \nL 207.673489 105.593173 \nL 207.878955 105.604512 \nL 208.10725 105.576113 \nL 208.267057 105.561546 \nL 208.472523 105.54661 \nL 208.586671 105.506251 \nL 208.837796 105.464836 \nL 209.13458 105.527827 \nL 209.385705 105.486527 \nL 209.705319 105.562087 \nL 209.842297 105.586938 \nL 210.070592 105.610921 \nL 210.321717 105.569736 \nL 210.458695 105.54261 \nL 210.641331 105.541059 \nL 210.938115 105.603177 \nL 211.097922 105.614669 \nL 211.394706 105.676467 \nL 211.691491 105.609381 \nL 211.828468 105.582459 \nL 212.011104 105.580871 \nL 212.285059 105.629762 \nL 212.581843 105.563149 \nL 212.810139 105.586749 \nL 213.015605 105.597725 \nL 213.221071 105.608676 \nL 213.563514 105.54211 \nL 213.814639 105.578095 \nL 214.020105 105.589014 \nL 214.202742 105.587443 \nL 214.545185 105.521334 \nL 214.727821 105.494602 \nL 214.910458 105.518359 \nL 215.230072 105.566083 \nL 215.526856 105.525924 \nL 215.709492 105.499354 \nL 215.869299 105.53567 \nL 216.143254 105.558449 \nL 216.32589 105.581923 \nL 216.691163 105.65364 \nL 216.965118 105.626319 \nL 217.193413 105.624342 \nL 217.490198 105.584556 \nL 217.764152 105.607025 \nL 217.946789 105.630209 \nL 218.106596 105.591753 \nL 218.334891 105.589835 \nL 218.540357 105.575787 \nL 218.745823 105.586391 \nL 218.92846 105.560274 \nL 219.156755 105.558413 \nL 219.45354 105.592763 \nL 219.750324 105.553581 \nL 219.910131 105.51562 \nL 220.115597 105.526213 \nL 220.389551 105.548424 \nL 220.686336 105.509542 \nL 220.98312 105.543666 \nL 221.279904 105.504937 \nL 221.599518 105.550863 \nL 221.782154 105.573574 \nL 221.98762 105.559837 \nL 222.215916 105.558008 \nL 222.558359 105.615416 \nL 222.877973 105.564732 \nL 223.106268 105.562902 \nL 223.357394 105.548929 \nL 223.699837 105.605963 \nL 223.973792 105.579862 \nL 224.224917 105.58975 \nL 224.430383 105.599986 \nL 224.749996 105.644877 \nL 224.932633 105.667067 \nL 225.412054 105.793101 \nL 225.754497 105.73092 \nL 226.074111 105.775222 \nL 226.348065 105.74921 \nL 226.59919 105.758715 \nL 226.895975 105.720879 \nL 227.055782 105.684337 \nL 227.284077 105.682397 \nL 227.580861 105.714917 \nL 227.786327 105.724801 \nL 228.014623 105.722814 \nL 228.265748 105.708998 \nL 228.65385 105.786919 \nL 228.836487 105.808458 \nL 229.20176 105.874545 \nL 229.772499 105.696149 \nL 230.069283 105.728186 \nL 230.274749 105.737912 \nL 230.640022 105.803605 \nL 230.891147 105.789884 \nL 231.073783 105.76536 \nL 231.302079 105.763357 \nL 231.461886 105.727692 \nL 231.713011 105.714145 \nL 232.009795 105.745793 \nL 232.26092 105.732261 \nL 232.603364 105.786083 \nL 232.854489 105.772536 \nL 233.219762 105.837209 \nL 233.448057 105.835137 \nL 233.585034 105.788754 \nL 233.7905 105.798222 \nL 234.041626 105.807264 \nL 234.269921 105.80524 \nL 234.452558 105.781162 \nL 234.703683 105.767762 \nL 235.091785 105.842766 \nL 235.34291 105.829328 \nL 235.799501 105.936731 \nL 236.050626 105.923221 \nL 236.438729 105.99733 \nL 236.644195 106.006415 \nL 236.781172 105.960714 \nL 237.032297 105.94724 \nL 237.351911 105.98842 \nL 237.580207 105.986206 \nL 237.92265 106.037989 \nL 238.287923 105.968385 \nL 238.539048 105.97697 \nL 238.767344 105.974788 \nL 238.995639 105.972606 \nL 239.223935 105.970435 \nL 239.47506 105.978973 \nL 239.726185 105.965672 \nL 240.00014 105.984871 \nL 240.274094 105.960504 \nL 240.685026 106.043483 \nL 240.958981 106.019116 \nL 241.415572 106.122818 \nL 241.872163 106.010316 \nL 242.191777 106.050322 \nL 242.420073 106.048093 \nL 242.671198 106.056384 \nL 243.0593 105.977569 \nL 243.356084 106.006898 \nL 243.56155 106.015636 \nL 243.995312 106.107488 \nL 244.269267 106.083453 \nL 244.862835 106.247465 \nL 245.11396 106.234185 \nL 245.387915 106.252454 \nL 245.661869 106.228392 \nL 245.844506 106.205345 \nL 246.118461 106.181404 \nL 246.415245 106.20995 \nL 246.64354 106.207574 \nL 246.963154 106.246261 \nL 247.259938 106.211679 \nL 247.396916 106.168361 \nL 247.648041 106.15536 \nL 247.899166 106.163282 \nL 248.21878 106.118344 \nL 248.515564 106.146675 \nL 248.880837 106.080672 \nL 249.177621 106.10896 \nL 249.337428 106.138521 \nL 249.588553 106.146396 \nL 249.794019 106.154708 \nL 250.067974 106.172656 \nL 250.364758 106.138737 \nL 250.615883 106.146575 \nL 250.889838 106.123302 \nL 251.186622 106.151238 \nL 251.392088 106.159476 \nL 251.666043 106.177266 \nL 252.008486 106.122713 \nL 252.259611 106.130504 \nL 252.670543 106.044971 \nL 252.944498 106.062803 \nL 253.3326 105.988062 \nL 253.538066 105.976081 \nL 253.83485 105.963322 \nL 254.200123 106.020825 \nL 254.428419 106.038972 \nL 254.748033 106.076419 \nL 255.021987 106.073874 \nL 255.295942 106.071335 \nL 255.524237 106.089325 \nL 255.706874 106.047457 \nL 256.003658 106.034735 \nL 256.300442 106.042063 \nL 256.688545 105.988598 \nL 257.008159 106.005747 \nL 257.350602 105.972848 \nL 257.830023 106.058119 \nL 258.126807 106.045512 \nL 258.332273 106.013932 \nL 258.514909 106.051931 \nL 259.062819 106.165516 \nL 259.359603 106.152826 \nL 259.610728 106.140603 \nL 260.04449 106.067739 \nL 260.409762 106.103693 \nL 260.820694 106.04118 \nL 261.094649 106.038757 \nL 261.414263 106.016414 \nL 261.825195 106.071303 \nL 262.07632 106.07879 \nL 262.395934 106.095355 \nL 262.784036 106.043357 \nL 263.172139 106.088358 \nL 263.354775 106.125405 \nL 263.62873 106.122902 \nL 264.085321 106.041637 \nL 264.473423 106.08636 \nL 264.815867 106.054496 \nL 265.272458 106.127182 \nL 265.592072 106.105149 \nL 266.025833 106.168114 \nL 266.391106 106.126614 \nL 266.779208 106.170695 \nL 267.144481 106.129337 \nL 267.441266 106.136155 \nL 267.692391 106.143363 \nL 268.103323 106.196392 \nL 268.422936 106.174543 \nL 268.76538 106.199693 \nL 269.084994 106.177908 \nL 269.404607 106.193784 \nL 269.838369 106.124138 \nL 270.180812 106.149198 \nL 270.363449 106.184989 \nL 270.591744 106.164213 \nL 270.79721 106.190377 \nL 271.025506 106.169633 \nL 271.367949 106.138605 \nL 271.573415 106.108871 \nL 271.870199 106.09699 \nL 272.258302 106.140014 \nL 272.440938 106.175468 \nL 272.829041 106.21824 \nL 273.148654 106.196833 \nL 273.445439 106.203368 \nL 273.719393 106.200881 \nL 274.084666 106.234369 \nL 274.40428 106.213067 \nL 274.678235 106.210575 \nL 274.883701 106.236209 \nL 275.248974 106.26946 \nL 275.568587 106.248216 \nL 276.093667 106.343654 \nL 276.321963 106.359673 \nL 276.618747 106.365897 \nL 277.189486 106.242476 \nL 277.577588 106.284217 \nL 277.874372 106.272425 \nL 278.239645 106.305172 \nL 278.833214 106.173597 \nL 279.107169 106.17121 \nL 279.289805 106.205555 \nL 279.54093 106.194357 \nL 279.814885 106.191949 \nL 280.088839 106.189547 \nL 280.362794 106.187155 \nL 280.750897 106.228402 \nL 281.002022 106.235084 \nL 281.298806 106.241345 \nL 281.664079 106.202521 \nL 281.983693 106.217483 \nL 282.348965 106.178817 \nL 282.759897 106.228365 \nL 283.011023 106.234989 \nL 283.421955 106.284291 \nL 283.467614 106.266238 \nL 283.467614 106.266238 \n\" clip-path=\"url(#p9cc556b00f)\" style=\"fill: none; stroke: #1f77b4; stroke-width: 1.5; stroke-linecap: square\"/>\n   </g>\n   <g id=\"line2d_14\">\n    <path d=\"M 55.194886 16.02 \nL 55.217716 16.02 \nL 55.309034 133.619998 \nL 55.354693 126.27 \nL 55.491671 104.22 \nL 55.560159 99.03176 \nL 55.628648 113.040002 \nL 55.697137 100.385218 \nL 55.742796 107.748002 \nL 55.834114 119.426894 \nL 55.879773 112.755486 \nL 56.01675 101.836218 \nL 56.03958 104.22 \nL 56.062409 106.481538 \nL 56.130898 104.22 \nL 56.336364 92.114113 \nL 56.404853 94.419995 \nL 56.427682 92.994546 \nL 56.450512 91.619995 \nL 56.496171 95.095862 \nL 56.519001 93.755589 \nL 56.54183 95.399998 \nL 56.587489 92.839355 \nL 56.610319 94.419995 \nL 56.770126 89.100001 \nL 56.792955 90.555216 \nL 56.975592 98.637717 \nL 56.998421 97.604996 \nL 57.04408 97.766337 \nL 57.181058 94.197272 \nL 57.340865 97.721052 \nL 57.386524 96.0365 \nL 57.432183 97.983635 \nL 57.614819 101.747099 \nL 57.774626 98.030529 \nL 57.820285 98.137238 \nL 58.09424 104.22 \nL 58.139899 102.863072 \nL 58.231217 102.903583 \nL 58.322535 104.22 \nL 58.345365 103.585464 \nL 58.482342 101.178624 \nL 58.391024 103.594465 \nL 58.505172 101.80356 \nL 58.550831 103.028104 \nL 58.59649 101.868002 \nL 58.642149 100.738424 \nL 58.687808 101.92909 \nL 58.710638 102.512905 \nL 58.756297 101.411084 \nL 58.779127 100.87063 \nL 58.847615 101.480867 \nL 58.870445 100.953335 \nL 58.893274 101.514481 \nL 58.938933 100.478185 \nL 59.09874 98.066509 \nL 59.12157 98.611904 \nL 59.235718 101.246967 \nL 59.304206 100.808953 \nL 59.441184 99.03176 \nL 59.464013 99.528506 \nL 59.692309 102.43818 \nL 59.806457 101.178624 \nL 59.852116 101.208296 \nL 60.17173 105.42822 \nL 60.240218 105.014594 \nL 60.263048 105.406545 \nL 60.331536 106.561594 \nL 60.422855 106.520872 \nL 60.491343 106.869788 \nL 60.537002 106.096596 \nL 60.559832 106.462371 \nL 60.605491 105.702353 \nL 60.65115 106.424998 \nL 60.719639 106.034814 \nL 60.742468 106.38885 \nL 60.833787 107.065164 \nL 60.788128 106.371217 \nL 60.856616 106.69952 \nL 60.925105 106.320003 \nL 60.947934 106.660318 \nL 61.084912 107.965947 \nL 61.107741 107.61231 \nL 61.244719 106.209471 \nL 61.267548 106.532359 \nL 61.290378 106.852834 \nL 61.336037 106.18 \nL 61.404526 106.481538 \nL 61.450185 105.823635 \nL 61.473014 106.137391 \nL 61.518673 105.489066 \nL 61.587162 104.533877 \nL 61.632821 105.154981 \nL 61.724139 105.141953 \nL 61.838287 106.63644 \nL 61.906776 106.312879 \nL 61.929605 106.603782 \nL 61.975264 107.179732 \nL 62.020924 106.571998 \nL 62.20356 104.792727 \nL 62.22639 105.076313 \nL 62.249219 105.358063 \nL 62.294878 104.785383 \nL 62.317708 105.065367 \nL 62.477515 103.117496 \nL 62.523174 103.672176 \nL 62.546003 103.946934 \nL 62.591662 103.405849 \nL 62.637322 103.410823 \nL 62.842788 101.594999 \nL 63.093913 103.457464 \nL 63.116742 103.206205 \nL 63.162401 103.715999 \nL 63.20806 104.22 \nL 63.25372 103.721698 \nL 63.367867 103.48295 \nL 63.413526 103.97568 \nL 63.459186 103.491078 \nL 63.664652 102.323228 \nL 63.710311 102.805023 \nL 63.75597 102.343404 \nL 63.870118 101.673541 \nL 63.892947 101.9111 \nL 63.961436 102.616365 \nL 64.029924 102.401443 \nL 64.098413 102.640969 \nL 64.166902 101.98142 \nL 64.212561 102.43818 \nL 64.25822 102.00392 \nL 64.28105 101.78842 \nL 64.326709 102.240449 \nL 64.463686 102.703045 \nL 64.555004 101.859412 \nL 64.600663 102.297962 \nL 64.623493 102.515649 \nL 64.669152 102.09981 \nL 64.76047 101.280003 \nL 64.851788 101.307739 \nL 65.171402 103.414524 \nL 65.468186 101.677652 \nL 65.650823 102.8749 \nL 65.673652 102.686085 \nL 65.764971 101.938963 \nL 65.856289 101.958456 \nL 65.924778 102.16013 \nL 65.947607 101.977624 \nL 66.107414 101.089726 \nL 65.993266 101.987087 \nL 66.130244 101.280003 \nL 66.244391 101.855879 \nL 66.267221 101.679261 \nL 66.33571 101.153748 \nL 66.381369 101.5255 \nL 66.564005 102.275714 \nL 66.655323 102.29117 \nL 66.700982 101.949509 \nL 66.769471 102.136536 \nL 66.792301 101.967351 \nL 66.83796 101.630958 \nL 66.883619 101.98491 \nL 66.906448 102.160856 \nL 66.952108 101.826976 \nL 67.34021 99.752081 \nL 67.477187 100.456368 \nL 67.500017 100.3 \nL 67.545676 99.988999 \nL 67.614165 100.174124 \nL 67.636994 100.343077 \nL 67.682653 100.035325 \nL 67.728312 99.729822 \nL 67.773972 100.065648 \nL 67.84246 99.929194 \nL 67.933778 100.591024 \nL 67.956608 100.439998 \nL 68.002267 100.767328 \nL 68.047926 100.466809 \nL 68.184904 101.125264 \nL 68.207733 100.976214 \nL 68.230563 100.82769 \nL 68.276222 101.146829 \nL 68.39037 101.325698 \nL 68.413199 101.178624 \nL 68.458858 101.49217 \nL 68.481688 101.345559 \nL 68.550176 101.209757 \nL 68.595836 101.520001 \nL 68.618665 101.374841 \nL 68.664324 101.682941 \nL 68.732813 101.84424 \nL 68.755642 101.699995 \nL 68.801302 101.412966 \nL 68.846961 101.716828 \nL 68.983938 102.033223 \nL 69.280722 100.509318 \nL 69.303552 100.6578 \nL 69.349211 100.953335 \nL 69.39487 100.680669 \nL 69.463359 100.274955 \nL 69.509018 100.568408 \nL 69.577506 100.445991 \nL 69.623166 100.736584 \nL 69.737313 100.072661 \nL 69.782972 100.361246 \nL 69.805802 100.504871 \nL 69.851461 100.242088 \nL 69.965609 99.592222 \nL 70.034098 99.749032 \nL 70.102586 99.904401 \nL 70.125416 99.776338 \nL 70.262393 99.282935 \nL 70.308052 99.297823 \nL 70.353711 99.577891 \nL 70.4222 99.466703 \nL 70.582007 98.862669 \nL 70.604836 99.001069 \nL 70.650496 99.276637 \nL 70.696155 99.03176 \nL 70.718984 98.909868 \nL 70.764643 99.183691 \nL 70.787473 99.062104 \nL 70.810302 99.19839 \nL 70.855962 98.956246 \nL 70.878791 98.8357 \nL 70.94728 98.986717 \nL 70.970109 98.866823 \nL 70.992939 99.001815 \nL 71.038598 98.763026 \nL 71.061428 98.897587 \nL 71.084257 98.778682 \nL 71.152746 98.928005 \nL 71.221234 99.076046 \nL 71.244064 98.958065 \nL 71.44953 98.158572 \nL 71.495189 98.175521 \nL 71.632166 98.470488 \nL 71.723485 98.258899 \nL 71.677826 98.486385 \nL 71.746314 98.388592 \nL 71.906121 98.805262 \nL 71.95178 98.820003 \nL 72.225735 97.726025 \nL 72.294224 98.104802 \nL 72.362712 98.012034 \nL 72.385542 97.903285 \nL 72.431201 98.153335 \nL 72.49969 98.061104 \nL 72.545349 98.309094 \nL 72.591008 98.093394 \nL 72.636667 98.339995 \nL 72.659496 98.232529 \nL 72.727985 98.599971 \nL 72.773644 98.385764 \nL 72.97911 97.661541 \nL 73.00194 97.782866 \nL 73.047599 98.024599 \nL 73.116088 97.936027 \nL 73.161747 97.951977 \nL 73.321554 97.452455 \nL 73.549849 98.19391 \nL 73.595508 97.990259 \nL 73.686826 98.020982 \nL 73.915122 98.741072 \nL 74.120588 97.844101 \nL 74.211906 97.874676 \nL 74.234736 97.987904 \nL 74.280395 97.792044 \nL 74.303224 97.904968 \nL 74.371713 98.032369 \nL 74.463031 97.64414 \nL 74.645668 98.326211 \nL 74.668497 98.229837 \nL 74.759816 98.052167 \nL 74.714156 98.243832 \nL 74.782645 98.162031 \nL 74.873963 98.598909 \nL 74.942452 98.51654 \nL 74.965282 98.421386 \nL 75.010941 98.637717 \nL 75.102259 98.865361 \nL 75.125088 98.770575 \nL 75.216407 98.393576 \nL 75.262066 98.607268 \nL 75.53602 99.473811 \nL 75.741486 99.03176 \nL 75.809975 98.95142 \nL 75.878464 99.260571 \nL 75.946952 99.373841 \nL 75.992612 99.191051 \nL 76.0611 99.111142 \nL 76.152418 99.517277 \nL 76.220907 99.628244 \nL 76.266566 99.447273 \nL 76.289396 99.547779 \nL 76.335055 99.367575 \nL 76.357884 99.467849 \nL 76.426373 99.388424 \nL 76.449203 99.488236 \nL 76.60901 99.805304 \nL 76.631839 99.716175 \nL 76.677498 99.912991 \nL 76.700328 99.82403 \nL 76.745987 100.019995 \nL 76.791646 99.842598 \nL 76.974282 99.509843 \nL 77.019942 99.70401 \nL 77.08843 99.626246 \nL 77.225408 99.289569 \nL 77.248237 99.385869 \nL 77.476533 100.157564 \nL 77.499362 100.071536 \nL 77.545021 99.899996 \nL 77.61351 100.002909 \nL 77.750487 100.206854 \nL 77.910294 99.9694 \nL 77.978783 100.070453 \nL 78.001612 99.986402 \nL 78.047272 99.818805 \nL 78.092931 100.003267 \nL 78.184249 100.195005 \nL 78.207078 100.111574 \nL 78.389715 99.796988 \nL 78.458204 99.896473 \nL 78.481033 99.814315 \nL 78.503863 99.732325 \nL 78.549522 99.913359 \nL 78.572351 99.831516 \nL 78.709329 100.028144 \nL 78.732158 99.946742 \nL 78.777817 100.125611 \nL 78.914795 100.318842 \nL 79.051772 100.172578 \nL 79.211579 100.450764 \nL 79.394215 100.146671 \nL 79.531193 100.500223 \nL 79.554022 100.421125 \nL 79.713829 100.03563 \nL 79.736659 100.121489 \nL 79.896466 100.555181 \nL 79.919295 100.477197 \nL 79.942125 100.39936 \nL 79.987784 100.568671 \nL 80.124761 100.750105 \nL 80.147591 100.672647 \nL 80.19325 100.840076 \nL 80.216079 100.762754 \nL 80.353057 100.941486 \nL 80.558523 100.571436 \nL 80.6955 100.748801 \nL 80.71833 100.673088 \nL 80.763989 100.836774 \nL 80.855307 101.162401 \nL 80.900966 101.0113 \nL 81.037943 100.872607 \nL 81.174921 101.354854 \nL 81.22058 101.205278 \nL 81.357557 100.913465 \nL 81.380387 100.993174 \nL 81.494535 101.08366 \nL 81.74566 100.582886 \nL 81.768489 100.661712 \nL 81.814148 100.516657 \nL 82.065273 100.027134 \nL 82.22508 100.424047 \nL 82.24791 100.352887 \nL 82.384887 100.224361 \nL 82.476205 100.385218 \nL 82.499035 100.314741 \nL 82.613183 100.257607 \nL 82.795819 100.575369 \nL 82.818649 100.505554 \nL 82.864308 100.657096 \nL 82.887137 100.587376 \nL 82.909967 100.662963 \nL 82.955626 100.523859 \nL 82.978456 100.59931 \nL 83.001285 100.529926 \nL 83.046944 100.680438 \nL 83.069774 100.75552 \nL 83.115433 100.617058 \nL 83.183922 100.697755 \nL 83.229581 100.559955 \nL 83.27524 100.709194 \nL 83.343729 100.646256 \nL 83.640513 100.046943 \nL 83.663342 100.120963 \nL 83.709001 99.986402 \nL 83.731831 100.060286 \nL 83.754661 99.993163 \nL 83.80032 100.140573 \nL 83.845979 100.28752 \nL 83.891638 100.153547 \nL 83.914467 100.086718 \nL 83.960127 100.233161 \nL 83.982956 100.166438 \nL 84.028615 100.312407 \nL 84.097104 100.252045 \nL 84.211252 99.92094 \nL 84.256911 100.066153 \nL 84.439547 100.36727 \nL 84.462377 100.301525 \nL 84.508036 100.444908 \nL 84.530865 100.379257 \nL 84.713502 100.675643 \nL 84.781991 100.75184 \nL 84.82765 100.62139 \nL 84.964627 100.7731 \nL 85.078775 100.584274 \nL 85.101604 100.65432 \nL 85.192923 100.933463 \nL 85.238582 100.804506 \nL 85.375559 100.553331 \nL 85.398389 100.622714 \nL 85.421218 100.692003 \nL 85.466877 100.564381 \nL 85.581025 100.379456 \nL 85.603855 100.448504 \nL 85.85498 100.938752 \nL 85.923468 101.011532 \nL 85.991957 100.822664 \nL 86.014787 100.890471 \nL 86.060446 100.765014 \nL 86.197423 100.650462 \nL 86.425719 101.063094 \nL 86.631185 100.635678 \nL 86.654014 100.702234 \nL 86.722503 100.773689 \nL 86.745332 100.712412 \nL 86.836651 100.468165 \nL 86.905139 100.539715 \nL 86.973628 100.737593 \nL 87.019287 100.616132 \nL 87.179094 100.319567 \nL 87.201923 100.385218 \nL 87.316071 100.461478 \nL 87.38456 100.531976 \nL 87.475878 100.293071 \nL 87.521537 100.423101 \nL 87.590026 100.369016 \nL 87.749833 100.078864 \nL 87.772662 100.143527 \nL 88.092276 100.794759 \nL 88.38906 100.279792 \nL 88.41189 100.343077 \nL 88.457549 100.22741 \nL 88.571697 100.180769 \nL 88.663015 100.312029 \nL 88.685845 100.2546 \nL 88.708674 100.197265 \nL 88.754333 100.322648 \nL 88.822822 100.27075 \nL 88.91414 100.520137 \nL 89.028288 100.473139 \nL 89.256583 100.852682 \nL 89.462049 100.579259 \nL 89.621856 100.771491 \nL 89.736004 100.60811 \nL 89.758834 100.668714 \nL 89.872981 100.738424 \nL 89.94147 100.571541 \nL 89.987129 100.692003 \nL 90.055618 100.872092 \nL 90.101277 100.761177 \nL 90.192595 100.540209 \nL 90.238254 100.65984 \nL 90.283913 100.779167 \nL 90.329573 100.669093 \nL 90.489379 100.514113 \nL 90.649186 100.701077 \nL 90.831823 100.493242 \nL 90.99163 100.678514 \nL 91.014459 100.624586 \nL 91.060118 100.741378 \nL 91.082948 100.799659 \nL 91.128607 100.692003 \nL 91.288414 100.540356 \nL 91.356903 100.602969 \nL 91.379732 100.54963 \nL 91.49388 100.505733 \nL 91.699346 100.802245 \nL 91.722175 100.749296 \nL 91.767835 100.86367 \nL 91.790664 100.810772 \nL 91.859153 100.872018 \nL 91.881982 100.819257 \nL 91.927641 100.713915 \nL 91.99613 100.775119 \nL 92.407062 101.678367 \nL 92.429892 101.62588 \nL 92.452721 101.573456 \nL 92.49838 101.684592 \nL 92.566869 101.743072 \nL 92.589699 101.690774 \nL 92.681017 101.589564 \nL 92.703846 101.644816 \nL 92.772335 101.595956 \nL 92.817994 101.706114 \nL 92.954971 101.608636 \nL 93.091949 101.724272 \nL 93.228926 101.627436 \nL 93.274585 101.736238 \nL 93.320244 101.633639 \nL 93.411563 101.42919 \nL 93.457222 101.537707 \nL 93.480051 101.591866 \nL 93.52571 101.490004 \nL 93.54854 101.439157 \nL 93.594199 101.547275 \nL 93.708347 101.711939 \nL 93.731176 101.661208 \nL 94.005131 101.264442 \nL 94.07362 101.217885 \nL 94.142108 101.378174 \nL 94.187767 101.278278 \nL 94.233427 101.384819 \nL 94.347574 101.444477 \nL 94.507381 101.302177 \nL 94.55304 101.407825 \nL 94.598699 101.308938 \nL 94.781336 101.119019 \nL 94.872654 101.227589 \nL 94.895484 101.178624 \nL 95.009631 101.136788 \nL 95.032461 101.189075 \nL 95.07812 101.091629 \nL 95.10095 101.143843 \nL 95.123779 101.095204 \nL 95.169438 101.199453 \nL 95.283586 101.358649 \nL 95.306416 101.310105 \nL 95.443393 101.019996 \nL 95.489052 101.123509 \nL 95.557541 101.278342 \nL 95.626029 101.23354 \nL 95.694518 101.089516 \nL 95.763007 101.144411 \nL 95.899984 101.253633 \nL 96.036961 101.165029 \nL 96.173939 101.273452 \nL 96.333746 101.138134 \nL 96.425064 101.242583 \nL 96.447893 101.195447 \nL 96.470723 101.148354 \nL 96.516382 101.249154 \nL 96.584871 101.399939 \nL 96.63053 101.305899 \nL 96.835996 101.078634 \nL 96.904485 101.035536 \nL 96.950144 101.135411 \nL 96.972973 101.088927 \nL 97.018632 101.188581 \nL 97.064291 101.288015 \nL 97.109951 101.195174 \nL 97.178439 101.056301 \nL 97.224098 101.155503 \nL 97.520883 101.604904 \nL 97.680689 101.472635 \nL 97.840496 101.718879 \nL 97.863326 101.673047 \nL 97.908985 101.581541 \nL 97.954644 101.678483 \nL 98.114451 101.922393 \nL 98.137281 101.87675 \nL 98.205769 101.833684 \nL 98.228599 101.881713 \nL 98.251428 101.9297 \nL 98.297087 101.838741 \nL 98.319917 101.79333 \nL 98.365576 101.889136 \nL 98.388406 101.843767 \nL 98.479724 101.94177 \nL 98.502553 101.896506 \nL 98.525383 101.851285 \nL 98.571042 101.946565 \nL 98.593872 101.901385 \nL 98.708019 101.953714 \nL 98.936315 101.59746 \nL 98.959145 101.644816 \nL 99.004804 101.739371 \nL 99.050463 101.650178 \nL 99.141781 101.47234 \nL 99.18744 101.566685 \nL 99.21027 101.613778 \nL 99.255929 101.525122 \nL 99.370077 101.486524 \nL 99.598372 101.772522 \nL 99.895156 101.383558 \nL 100.032134 101.571752 \nL 100.054963 101.528244 \nL 100.169111 101.400822 \nL 100.191941 101.44698 \nL 100.21477 101.493085 \nL 100.260429 101.406531 \nL 100.283259 101.363318 \nL 100.328918 101.455391 \nL 100.397407 101.593149 \nL 100.443066 101.506837 \nL 100.465895 101.46375 \nL 100.511554 101.55535 \nL 100.534384 101.512305 \nL 100.785509 101.836218 \nL 100.808339 101.793288 \nL 100.853998 101.883868 \nL 101.013805 102.111639 \nL 101.036634 102.068783 \nL 101.219271 101.902394 \nL 101.2421 101.947259 \nL 101.287759 101.862177 \nL 101.401907 101.737331 \nL 101.424737 101.78209 \nL 101.607373 102.138587 \nL 101.675862 102.098349 \nL 102.018305 101.641052 \nL 102.086794 101.773574 \nL 102.155282 101.734282 \nL 102.178112 101.692656 \nL 102.223771 101.780702 \nL 102.360748 101.873123 \nL 102.452067 101.707302 \nL 102.520555 101.75346 \nL 102.748851 102.019229 \nL 102.885828 101.94115 \nL 102.999976 102.072883 \nL 103.022806 102.031835 \nL 103.068465 101.949835 \nL 103.136953 101.995057 \nL 103.251101 102.042224 \nL 103.410908 101.924211 \nL 103.456567 102.009787 \nL 103.525056 101.971273 \nL 103.593544 101.932875 \nL 103.616374 101.975511 \nL 103.684863 102.020186 \nL 103.707692 101.979737 \nL 103.730522 101.93932 \nL 103.776181 102.024318 \nL 103.890329 102.153454 \nL 103.913158 102.113111 \nL 104.027306 101.994394 \nL 104.050136 102.03663 \nL 104.095795 102.120975 \nL 104.141454 102.040699 \nL 104.32409 101.88493 \nL 104.506727 102.056838 \nL 104.735022 101.823043 \nL 105.008977 102.159436 \nL 105.031806 102.119997 \nL 105.077466 102.202619 \nL 105.100295 102.243866 \nL 105.145954 102.165093 \nL 105.305761 102.05115 \nL 105.488398 102.219094 \nL 105.556886 102.181853 \nL 105.579716 102.222722 \nL 105.762352 102.389131 \nL 105.944989 102.237084 \nL 105.967818 102.277617 \nL 106.013477 102.200148 \nL 106.081966 102.242426 \nL 106.127625 102.165156 \nL 106.355921 102.41037 \nL 106.40158 102.333374 \nL 106.470068 102.375137 \nL 106.652705 102.616365 \nL 106.675534 102.577978 \nL 106.698364 102.539632 \nL 106.744023 102.619204 \nL 106.90383 102.740917 \nL 107.017978 102.705337 \nL 107.132126 102.747415 \nL 107.200614 102.710657 \nL 107.223444 102.750001 \nL 107.246273 102.789314 \nL 107.291932 102.713296 \nL 107.42891 102.64018 \nL 107.543058 102.75897 \nL 107.565887 102.721171 \nL 107.702864 102.571764 \nL 107.725694 102.610793 \nL 107.794183 102.72768 \nL 107.839842 102.652513 \nL 108.022478 102.505534 \nL 108.136626 102.547244 \nL 108.43341 102.216319 \nL 108.45624 102.254959 \nL 108.501899 102.181127 \nL 108.593217 102.109231 \nL 108.616047 102.147808 \nL 108.730194 102.26501 \nL 108.753024 102.228263 \nL 108.912831 102.04685 \nL 108.93566 102.085227 \nL 109.095467 102.203575 \nL 109.300933 102.025232 \nL 109.437911 102.104983 \nL 109.46074 102.068783 \nL 109.506399 102.144706 \nL 109.643377 102.297783 \nL 109.666206 102.261646 \nL 109.689036 102.225529 \nL 109.734695 102.301 \nL 109.848843 102.341838 \nL 109.917331 102.307404 \nL 109.940161 102.344971 \nL 110.031479 102.421494 \nL 110.054309 102.385556 \nL 110.145627 102.242089 \nL 110.191286 102.31693 \nL 110.259775 102.355843 \nL 110.282604 102.320084 \nL 110.396752 102.214626 \nL 110.419582 102.251899 \nL 110.465241 102.326361 \nL 110.5109 102.255148 \nL 110.647877 102.187404 \nL 110.739195 102.190748 \nL 110.899002 102.088171 \nL 111.03598 102.165482 \nL 111.150127 102.133708 \nL 111.355593 102.320525 \nL 111.492571 102.253644 \nL 111.606718 102.436025 \nL 111.652378 102.366157 \nL 111.675207 102.331271 \nL 111.720866 102.404009 \nL 111.835014 102.443206 \nL 112.04048 102.272591 \nL 112.086139 102.344908 \nL 112.131798 102.275714 \nL 112.177457 102.206624 \nL 112.223116 102.278826 \nL 112.360094 102.494726 \nL 112.405753 102.425742 \nL 112.451412 102.356863 \nL 112.497071 102.428602 \nL 112.56556 102.535994 \nL 112.611219 102.46722 \nL 112.656878 102.398552 \nL 112.702537 102.469996 \nL 112.816685 102.508394 \nL 112.976492 102.338957 \nL 112.999321 102.374516 \nL 113.181958 102.588597 \nL 113.204787 102.554541 \nL 113.364594 102.455308 \nL 113.433083 102.561071 \nL 113.478742 102.493296 \nL 113.59289 102.462205 \nL 113.684208 102.533776 \nL 113.707038 102.500035 \nL 113.844015 102.435404 \nL 113.958163 102.54163 \nL 113.980992 102.508047 \nL 114.026651 102.440945 \nL 114.07231 102.510697 \nL 114.186458 102.616365 \nL 114.209288 102.582877 \nL 114.391924 102.451922 \nL 114.437583 102.521232 \nL 114.483242 102.454645 \nL 114.688708 102.29158 \nL 114.780027 102.362088 \nL 114.802856 102.329031 \nL 114.917004 102.164136 \nL 114.962663 102.233057 \nL 115.031152 102.268974 \nL 115.053981 102.236085 \nL 115.236618 102.108032 \nL 115.396425 102.213932 \nL 115.419254 102.181275 \nL 115.464913 102.249607 \nL 115.62472 102.421357 \nL 115.64755 102.388742 \nL 115.693209 102.323585 \nL 115.738868 102.391507 \nL 115.853016 102.494494 \nL 115.875845 102.461974 \nL 116.012823 102.39974 \nL 116.12697 102.436182 \nL 116.195459 102.405186 \nL 116.218289 102.438853 \nL 116.446584 102.642651 \nL 116.515073 102.545941 \nL 116.560732 102.61279 \nL 116.697709 102.616365 \nL 116.789028 102.553385 \nL 116.811857 102.586662 \nL 116.857516 102.653165 \nL 116.948834 102.59029 \nL 117.017323 102.559536 \nL 117.040153 102.592698 \nL 117.085812 102.658937 \nL 117.1543 102.563205 \nL 117.336937 102.438506 \nL 117.359766 102.471542 \nL 117.428255 102.37644 \nL 117.473914 102.313144 \nL 117.519573 102.379132 \nL 117.656551 102.447622 \nL 117.67938 102.416058 \nL 117.793528 102.322881 \nL 117.816358 102.355717 \nL 117.998994 102.425237 \nL 118.067483 102.395177 \nL 118.090312 102.427834 \nL 118.295778 102.52937 \nL 118.318608 102.49809 \nL 118.364267 102.563068 \nL 118.546903 102.694928 \nL 118.569733 102.663721 \nL 118.798028 102.479417 \nL 119.026324 102.611781 \nL 119.140472 102.583172 \nL 119.574233 103.00064 \nL 119.665552 103.002375 \nL 119.688381 102.971589 \nL 119.802529 102.880336 \nL 119.825359 102.911953 \nL 120.007995 102.977751 \nL 120.25912 102.765983 \nL 120.487416 102.894383 \nL 120.601563 102.865921 \nL 121.012495 103.241364 \nL 121.035325 103.211125 \nL 121.103814 103.303798 \nL 121.28645 103.367241 \nL 121.606064 103.128862 \nL 121.971337 103.436267 \nL 122.062655 103.377135 \nL 122.108314 103.437876 \nL 122.33661 103.560451 \nL 122.359439 103.530706 \nL 122.427928 103.621223 \nL 122.564905 103.622443 \nL 122.793201 103.445793 \nL 122.81603 103.475822 \nL 122.998667 103.537204 \nL 123.112815 103.50871 \nL 123.135644 103.538571 \nL 123.295451 103.569735 \nL 123.409599 103.600332 \nL 123.523747 103.571901 \nL 123.706383 103.456108 \nL 123.729213 103.485737 \nL 123.934679 103.575781 \nL 124.162974 103.461165 \nL 124.414099 103.609321 \nL 124.596736 103.552912 \nL 124.733713 103.612129 \nL 124.756543 103.583383 \nL 124.779372 103.554668 \nL 124.847861 103.642021 \nL 124.87069 103.671093 \nL 124.939179 103.585054 \nL 125.053327 103.557276 \nL 125.076156 103.586295 \nL 125.235963 103.673963 \nL 125.258793 103.645406 \nL 125.441429 103.589586 \nL 125.669725 103.763008 \nL 125.692554 103.734599 \nL 125.806702 103.649864 \nL 125.852361 103.707209 \nL 126.057827 103.79391 \nL 126.217634 103.709848 \nL 126.240464 103.738342 \nL 126.354611 103.767403 \nL 126.377441 103.739267 \nL 126.491589 103.711804 \nL 126.514418 103.740192 \nL 126.651396 103.853788 \nL 126.697055 103.797716 \nL 126.971009 103.631065 \nL 127.153646 103.688504 \nL 127.267794 103.717282 \nL 127.45043 103.829984 \nL 127.47326 103.802258 \nL 127.587407 103.83072 \nL 127.861362 103.998391 \nL 128.089658 103.888633 \nL 128.112487 103.916338 \nL 128.180976 103.833885 \nL 128.363612 103.779821 \nL 128.569078 103.863356 \nL 128.660397 103.808998 \nL 128.706056 103.864019 \nL 128.934351 103.974313 \nL 129.071329 103.865785 \nL 129.116988 103.920459 \nL 129.208306 103.975228 \nL 129.253965 103.921017 \nL 129.642067 103.625145 \nL 129.938852 103.816032 \nL 129.984511 103.762451 \nL 130.052999 103.843537 \nL 130.212806 103.871168 \nL 130.486761 103.712025 \nL 130.623738 103.76632 \nL 130.646568 103.739782 \nL 130.852034 103.608049 \nL 130.874863 103.634839 \nL 131.0575 103.689314 \nL 131.217307 103.663953 \nL 131.262966 103.717208 \nL 131.331455 103.638341 \nL 131.514091 103.586989 \nL 131.696727 103.746375 \nL 131.742387 103.694056 \nL 131.856534 103.616071 \nL 131.902193 103.668916 \nL 131.993512 103.774416 \nL 132.062 103.696243 \nL 132.335955 103.541536 \nL 132.518591 103.647278 \nL 132.541421 103.621413 \nL 132.632739 103.518142 \nL 132.701228 103.596683 \nL 132.929523 103.702089 \nL 133.134989 103.522663 \nL 133.180649 103.574698 \nL 133.363285 103.67921 \nL 133.386115 103.653628 \nL 133.431774 103.602498 \nL 133.500262 103.680156 \nL 133.705728 103.758487 \nL 133.888365 103.708397 \nL 134.048172 103.786024 \nL 134.071001 103.760621 \nL 134.185149 103.78677 \nL 134.481933 103.966112 \nL 134.892865 103.664332 \nL 134.984183 103.765879 \nL 135.052672 103.690649 \nL 135.258138 103.566297 \nL 135.280968 103.591615 \nL 135.303797 103.616923 \nL 135.372286 103.542114 \nL 135.623411 103.419087 \nL 135.760388 103.520392 \nL 135.806047 103.470849 \nL 135.943025 103.422262 \nL 135.965854 103.447412 \nL 136.080002 103.473382 \nL 136.102832 103.448716 \nL 136.331127 103.302021 \nL 136.353957 103.327087 \nL 136.376786 103.352132 \nL 136.445275 103.278543 \nL 136.627911 103.181769 \nL 136.650741 103.206772 \nL 137.038843 103.48213 \nL 137.22148 103.43469 \nL 137.586753 103.68249 \nL 137.74656 103.659148 \nL 137.815048 103.683983 \nL 137.860707 103.635575 \nL 138.066173 103.564152 \nL 138.22598 103.589649 \nL 138.522765 103.374475 \nL 138.545594 103.398857 \nL 138.728231 103.448853 \nL 138.933697 103.378628 \nL 139.139163 103.500583 \nL 139.161992 103.47681 \nL 139.413117 103.359513 \nL 139.527265 103.336802 \nL 139.664242 103.338243 \nL 139.892538 103.435678 \nL 140.166493 103.29607 \nL 140.257811 103.297058 \nL 140.28064 103.273643 \nL 140.394788 103.156777 \nL 140.463277 103.228463 \nL 140.531766 103.252846 \nL 140.577425 103.206205 \nL 140.600254 103.182905 \nL 140.668743 103.254391 \nL 140.760061 103.302473 \nL 140.80572 103.255937 \nL 140.919868 103.280698 \nL 140.988357 103.351848 \nL 141.056845 103.282202 \nL 141.148164 103.189518 \nL 141.216652 103.260542 \nL 141.3308 103.285188 \nL 141.35363 103.262067 \nL 141.604755 103.148366 \nL 141.764562 103.220104 \nL 141.787391 103.19712 \nL 142.015687 103.107066 \nL 142.243982 103.202483 \nL 142.35813 103.180718 \nL 142.38096 103.204081 \nL 142.495107 103.182348 \nL 142.700573 103.115771 \nL 142.974528 103.25682 \nL 143.111505 103.258313 \nL 143.36263 103.375221 \nL 143.545267 103.331387 \nL 143.682244 103.332765 \nL 143.91054 103.244287 \nL 144.070347 103.268691 \nL 144.275813 103.203092 \nL 144.41279 103.204648 \nL 144.641086 103.117222 \nL 144.800892 103.141647 \nL 144.91504 103.165462 \nL 145.188995 103.302883 \nL 145.325972 103.304271 \nL 145.485779 103.328191 \nL 145.668416 103.285493 \nL 145.919541 103.399015 \nL 146.261984 103.203155 \nL 146.513109 103.316173 \nL 146.627257 103.339326 \nL 146.741405 103.318434 \nL 146.855552 103.341513 \nL 147.015359 103.36497 \nL 147.129507 103.387923 \nL 147.266484 103.389163 \nL 147.380632 103.412032 \nL 147.49478 103.391214 \nL 147.677416 103.349314 \nL 147.882882 103.416406 \nL 148.042689 103.396103 \nL 148.293814 103.506439 \nL 148.385133 103.550347 \nL 148.52211 103.551325 \nL 148.887383 103.339073 \nL 149.001531 103.318686 \nL 149.115678 103.341218 \nL 149.229826 103.320873 \nL 149.389633 103.301022 \nL 149.595099 103.366999 \nL 149.709247 103.389331 \nL 149.891883 103.433449 \nL 150.097349 103.37152 \nL 150.371304 103.500867 \nL 150.645259 103.376388 \nL 150.805066 103.398847 \nL 150.942043 103.400024 \nL 151.124679 103.443553 \nL 151.352975 103.361658 \nL 151.6041 103.468294 \nL 151.809566 103.407384 \nL 151.969373 103.429527 \nL 152.243328 103.307299 \nL 152.357475 103.287648 \nL 152.540112 103.248041 \nL 152.745578 103.311999 \nL 152.882555 103.313271 \nL 153.088021 103.376862 \nL 153.247828 103.357705 \nL 153.521783 103.48295 \nL 153.63593 103.504252 \nL 153.795737 103.525838 \nL 153.909885 103.547024 \nL 154.046862 103.54796 \nL 154.252328 103.488386 \nL 154.503454 103.591594 \nL 154.617601 103.61256 \nL 154.845897 103.69476 \nL 155.005704 103.675435 \nL 155.142681 103.676181 \nL 155.279658 103.676917 \nL 155.553613 103.798757 \nL 155.804738 103.699765 \nL 156.055863 103.80086 \nL 156.2385 103.761768 \nL 156.443966 103.82234 \nL 156.74075 103.68473 \nL 156.900557 103.705369 \nL 157.060364 103.686412 \nL 157.197341 103.687127 \nL 157.311489 103.70744 \nL 157.562614 103.807021 \nL 157.905057 103.632001 \nL 158.110523 103.691858 \nL 158.315989 103.634345 \nL 158.612774 103.772282 \nL 158.726921 103.792227 \nL 159.000876 103.909714 \nL 159.092194 103.948732 \nL 159.32049 104.026664 \nL 159.525956 103.969161 \nL 159.662933 103.969487 \nL 159.799911 103.969813 \nL 160.005377 104.027926 \nL 160.165183 104.009042 \nL 160.34782 104.047692 \nL 160.644604 103.91455 \nL 160.827241 103.95319 \nL 161.078366 103.858762 \nL 161.169684 103.821078 \nL 161.397979 103.746112 \nL 161.489298 103.708639 \nL 161.649105 103.690502 \nL 161.808911 103.710174 \nL 162.219843 103.48641 \nL 162.356821 103.487345 \nL 162.516628 103.469681 \nL 162.676435 103.489522 \nL 162.767753 103.527573 \nL 162.881901 103.509615 \nL 163.247173 103.325699 \nL 163.40698 103.345624 \nL 163.817912 103.126538 \nL 164.046208 103.202808 \nL 164.365822 103.058258 \nL 164.479969 103.041057 \nL 164.708265 102.969981 \nL 164.822413 102.952916 \nL 165.050708 102.88225 \nL 165.210515 102.90249 \nL 165.667106 102.652808 \nL 165.849743 102.691784 \nL 166.00955 102.675823 \nL 166.237845 102.751515 \nL 166.397652 102.735513 \nL 166.603118 102.792468 \nL 166.877073 102.68781 \nL 167.151027 102.79945 \nL 167.424982 102.695285 \nL 167.721766 102.824548 \nL 167.858744 102.82624 \nL 168.04138 102.864176 \nL 168.178357 102.865816 \nL 168.452312 102.975743 \nL 168.703437 102.88982 \nL 168.931733 102.963283 \nL 169.160028 102.89514 \nL 169.342665 102.932539 \nL 169.479642 102.934085 \nL 169.685108 102.953968 \nL 169.936233 102.869012 \nL 170.278677 102.995488 \nL 170.461313 102.962495 \nL 170.666779 102.982167 \nL 170.872245 102.93215 \nL 171.032052 102.916547 \nL 171.191859 102.900997 \nL 171.465813 102.973356 \nL 171.694109 102.941235 \nL 171.968064 103.013194 \nL 172.105041 103.049048 \nL 172.333337 103.085701 \nL 172.584462 103.036683 \nL 172.858416 103.107875 \nL 173.041053 103.1096 \nL 173.474814 103.300896 \nL 173.68028 103.285503 \nL 173.908576 103.32121 \nL 174.20536 103.238872 \nL 174.365167 103.22329 \nL 174.502144 103.258187 \nL 174.661951 103.242626 \nL 174.844588 103.244109 \nL 174.981565 103.211619 \nL 175.164201 103.213155 \nL 175.415327 103.265495 \nL 175.620793 103.250407 \nL 175.73494 103.201221 \nL 175.986065 103.153328 \nL 176.123043 103.121249 \nL 176.374168 103.073683 \nL 176.556804 103.075407 \nL 176.739441 103.077132 \nL 176.899248 103.062086 \nL 177.173202 102.998664 \nL 177.424327 103.050583 \nL 177.561305 103.084796 \nL 177.766771 103.103133 \nL 178.063555 103.023898 \nL 178.383169 103.125056 \nL 178.611464 103.094459 \nL 178.794101 103.09612 \nL 178.931078 103.129903 \nL 179.090885 103.115067 \nL 179.250692 103.13271 \nL 179.478988 103.167113 \nL 179.912749 102.993207 \nL 180.163874 103.044001 \nL 180.414999 102.998127 \nL 180.734613 103.097456 \nL 180.87159 103.130712 \nL 181.145545 103.197026 \nL 181.373841 103.166965 \nL 181.579307 103.184598 \nL 181.830432 103.138966 \nL 182.058727 103.172643 \nL 182.287023 103.142846 \nL 182.492489 103.160394 \nL 182.675125 103.161919 \nL 182.834932 103.147472 \nL 182.994739 103.164558 \nL 183.223035 103.197888 \nL 183.47416 103.152813 \nL 183.633967 103.138461 \nL 183.839433 103.12454 \nL 184.067728 103.157723 \nL 184.250365 103.159227 \nL 184.50149 103.207992 \nL 184.706956 103.194061 \nL 184.912422 103.211199 \nL 185.02657 103.258608 \nL 185.232036 103.275609 \nL 185.551649 103.18526 \nL 185.757115 103.202304 \nL 186.0539 103.127695 \nL 186.213706 103.113658 \nL 186.419172 103.100053 \nL 186.738786 103.194597 \nL 186.875764 103.226245 \nL 187.241036 103.350954 \nL 187.355184 103.397406 \nL 187.56065 103.413893 \nL 187.720457 103.430064 \nL 188.0629 103.538161 \nL 188.291196 103.509078 \nL 188.542321 103.555709 \nL 188.656469 103.60153 \nL 188.816276 103.587199 \nL 189.158719 103.483623 \nL 189.409844 103.530002 \nL 189.683799 103.471532 \nL 190.026242 103.577947 \nL 190.323026 103.504862 \nL 190.551322 103.535816 \nL 190.756788 103.522 \nL 190.916595 103.507995 \nL 191.122061 103.494253 \nL 191.532993 103.644113 \nL 191.898266 103.527836 \nL 192.103732 103.543576 \nL 192.332027 103.515334 \nL 192.537493 103.531053 \nL 192.674471 103.561029 \nL 192.879937 103.576632 \nL 193.131062 103.534018 \nL 193.359357 103.564289 \nL 193.610482 103.521843 \nL 193.861608 103.566665 \nL 194.112733 103.524366 \nL 194.295369 103.525281 \nL 194.569324 103.468872 \nL 194.706301 103.440746 \nL 195.025915 103.356138 \nL 195.25421 103.386293 \nL 195.482506 103.358956 \nL 195.847779 103.475696 \nL 196.007586 103.490836 \nL 196.190222 103.491782 \nL 196.532666 103.393842 \nL 196.738132 103.409256 \nL 196.897938 103.424386 \nL 197.103404 103.439716 \nL 197.377359 103.38459 \nL 197.537166 103.371384 \nL 197.696973 103.386461 \nL 197.879609 103.387523 \nL 198.222053 103.290981 \nL 198.3362 103.249534 \nL 198.587326 103.209107 \nL 198.724303 103.182022 \nL 199.043917 103.100358 \nL 199.317871 103.158354 \nL 199.568997 103.118368 \nL 199.865781 103.190212 \nL 200.162565 103.122879 \nL 200.390861 103.15234 \nL 200.687645 103.085333 \nL 200.93877 103.128725 \nL 201.075747 103.157345 \nL 201.304043 103.186564 \nL 201.577997 103.133488 \nL 201.851952 103.190433 \nL 202.217225 103.08344 \nL 202.49118 103.140228 \nL 202.673816 103.141563 \nL 202.856453 103.142898 \nL 203.107578 103.10389 \nL 203.313044 103.119031 \nL 203.51851 103.106982 \nL 203.678317 103.094617 \nL 203.906612 103.069267 \nL 204.066419 103.056986 \nL 204.271885 103.045084 \nL 204.454521 103.046514 \nL 204.774135 102.968267 \nL 204.956772 102.969791 \nL 205.185067 102.944852 \nL 205.413363 102.973598 \nL 205.710147 102.909177 \nL 205.869954 102.897201 \nL 206.121079 102.859381 \nL 206.303715 102.861032 \nL 206.486352 102.862672 \nL 206.714647 102.891282 \nL 207.034261 102.814527 \nL 207.262557 102.843116 \nL 207.468023 102.83175 \nL 207.673489 102.846827 \nL 207.878955 102.835493 \nL 208.10725 102.863892 \nL 208.267057 102.878454 \nL 208.472523 102.893384 \nL 208.586671 102.933749 \nL 208.837796 102.975164 \nL 209.13458 102.912173 \nL 209.385705 102.953473 \nL 209.705319 102.877907 \nL 209.842297 102.853062 \nL 210.070592 102.829079 \nL 210.321717 102.870264 \nL 210.458695 102.89739 \nL 210.641331 102.898946 \nL 210.938115 102.836828 \nL 211.097922 102.825326 \nL 211.394706 102.763533 \nL 211.691491 102.830614 \nL 211.828468 102.857541 \nL 212.011104 102.859129 \nL 212.285059 102.810238 \nL 212.581843 102.876856 \nL 212.810139 102.853251 \nL 213.015605 102.842275 \nL 213.221071 102.831329 \nL 213.563514 102.897895 \nL 213.814639 102.861905 \nL 214.020105 102.850991 \nL 214.202742 102.852557 \nL 214.545185 102.918671 \nL 214.727821 102.945398 \nL 214.910458 102.921647 \nL 215.230072 102.873912 \nL 215.526856 102.914076 \nL 215.709492 102.940646 \nL 215.869299 102.90433 \nL 216.143254 102.881556 \nL 216.32589 102.858077 \nL 216.691163 102.78636 \nL 216.965118 102.813676 \nL 217.193413 102.815663 \nL 217.490198 102.855438 \nL 217.764152 102.832969 \nL 217.946789 102.809785 \nL 218.106596 102.848247 \nL 218.334891 102.850171 \nL 218.540357 102.864218 \nL 218.745823 102.853609 \nL 218.92846 102.879726 \nL 219.156755 102.881587 \nL 219.45354 102.847237 \nL 219.750324 102.886413 \nL 219.910131 102.92438 \nL 220.115597 102.913782 \nL 220.389551 102.891576 \nL 220.686336 102.930458 \nL 220.98312 102.896328 \nL 221.279904 102.935063 \nL 221.599518 102.889137 \nL 221.782154 102.866426 \nL 221.98762 102.880157 \nL 222.215916 102.881997 \nL 222.558359 102.824579 \nL 222.877973 102.875268 \nL 223.106268 102.877098 \nL 223.357394 102.891071 \nL 223.699837 102.834031 \nL 223.973792 102.860138 \nL 224.224917 102.850255 \nL 224.430383 102.840014 \nL 224.749996 102.795118 \nL 224.932633 102.772933 \nL 225.412054 102.646899 \nL 225.754497 102.70908 \nL 226.074111 102.664773 \nL 226.348065 102.690796 \nL 226.59919 102.681291 \nL 226.895975 102.719121 \nL 227.055782 102.755658 \nL 227.284077 102.757603 \nL 227.580861 102.725083 \nL 227.786327 102.715199 \nL 228.014623 102.717186 \nL 228.265748 102.731002 \nL 228.65385 102.653081 \nL 228.836487 102.631537 \nL 229.20176 102.565455 \nL 229.772499 102.743851 \nL 230.069283 102.711814 \nL 230.274749 102.702088 \nL 230.640022 102.636395 \nL 230.891147 102.650116 \nL 231.073783 102.674635 \nL 231.302079 102.676643 \nL 231.461886 102.712308 \nL 231.713011 102.725861 \nL 232.009795 102.694202 \nL 232.26092 102.707745 \nL 232.603364 102.653912 \nL 232.854489 102.667464 \nL 233.219762 102.602791 \nL 233.448057 102.604863 \nL 233.585034 102.651251 \nL 233.7905 102.641778 \nL 234.041626 102.632736 \nL 234.269921 102.634765 \nL 234.452558 102.658843 \nL 234.703683 102.672238 \nL 235.091785 102.59724 \nL 235.34291 102.610677 \nL 235.799501 102.503263 \nL 236.050626 102.516785 \nL 236.438729 102.44267 \nL 236.644195 102.433585 \nL 236.781172 102.47928 \nL 237.032297 102.49276 \nL 237.351911 102.451575 \nL 237.580207 102.453794 \nL 237.92265 102.402011 \nL 238.287923 102.471615 \nL 238.539048 102.463025 \nL 238.767344 102.465212 \nL 238.995639 102.467389 \nL 239.223935 102.469565 \nL 239.47506 102.461027 \nL 239.726185 102.474328 \nL 240.00014 102.455129 \nL 240.274094 102.479501 \nL 240.685026 102.396523 \nL 240.958981 102.420884 \nL 241.415572 102.317182 \nL 241.872163 102.429684 \nL 242.191777 102.389678 \nL 242.420073 102.391907 \nL 242.671198 102.383622 \nL 243.0593 102.462426 \nL 243.356084 102.433102 \nL 243.56155 102.424364 \nL 243.995312 102.332512 \nL 244.269267 102.356547 \nL 244.862835 102.192535 \nL 245.11396 102.205815 \nL 245.387915 102.187552 \nL 245.661869 102.211608 \nL 245.844506 102.234655 \nL 246.118461 102.258596 \nL 246.415245 102.23005 \nL 246.64354 102.232426 \nL 246.963154 102.193745 \nL 247.259938 102.228315 \nL 247.396916 102.271634 \nL 247.648041 102.28464 \nL 247.899166 102.276713 \nL 248.21878 102.32165 \nL 248.515564 102.293325 \nL 248.880837 102.359323 \nL 249.177621 102.33104 \nL 249.337428 102.301484 \nL 249.588553 102.293598 \nL 249.794019 102.285292 \nL 250.067974 102.267344 \nL 250.364758 102.301263 \nL 250.615883 102.29343 \nL 250.889838 102.316698 \nL 251.186622 102.288762 \nL 251.392088 102.280519 \nL 251.666043 102.262729 \nL 252.008486 102.317287 \nL 252.259611 102.309496 \nL 252.670543 102.395029 \nL 252.944498 102.377197 \nL 253.3326 102.451933 \nL 253.538066 102.463919 \nL 253.83485 102.476673 \nL 254.200123 102.41917 \nL 254.428419 102.401023 \nL 254.748033 102.363581 \nL 255.021987 102.366126 \nL 255.295942 102.36867 \nL 255.524237 102.35067 \nL 255.706874 102.392538 \nL 256.003658 102.40527 \nL 256.300442 102.397931 \nL 256.688545 102.451407 \nL 257.008159 102.434248 \nL 257.350602 102.467157 \nL 257.830023 102.381876 \nL 258.126807 102.394493 \nL 258.332273 102.426068 \nL 258.514909 102.388069 \nL 259.062819 102.274484 \nL 259.359603 102.287174 \nL 259.610728 102.299392 \nL 260.04449 102.372266 \nL 260.409762 102.336307 \nL 260.820694 102.398815 \nL 261.094649 102.401243 \nL 261.414263 102.423586 \nL 261.825195 102.368691 \nL 262.07632 102.361216 \nL 262.395934 102.344645 \nL 262.784036 102.396649 \nL 263.172139 102.351648 \nL 263.354775 102.314595 \nL 263.62873 102.317098 \nL 264.085321 102.398363 \nL 264.473423 102.353635 \nL 264.815867 102.385504 \nL 265.272458 102.312818 \nL 265.592072 102.334856 \nL 266.025833 102.271886 \nL 266.391106 102.313386 \nL 266.779208 102.2693 \nL 267.144481 102.310663 \nL 267.441266 102.30385 \nL 267.692391 102.296637 \nL 268.103323 102.243614 \nL 268.422936 102.265452 \nL 268.76538 102.240312 \nL 269.084994 102.262087 \nL 269.404607 102.246211 \nL 269.838369 102.315868 \nL 270.180812 102.290802 \nL 270.363449 102.255011 \nL 270.591744 102.275787 \nL 270.79721 102.249628 \nL 271.025506 102.270362 \nL 271.367949 102.301389 \nL 271.573415 102.331134 \nL 271.870199 102.343005 \nL 272.258302 102.299991 \nL 272.440938 102.264527 \nL 272.829041 102.221765 \nL 273.148654 102.243172 \nL 273.445439 102.236632 \nL 273.719393 102.239114 \nL 274.084666 102.205626 \nL 274.40428 102.226938 \nL 274.678235 102.229419 \nL 274.883701 102.203786 \nL 275.248974 102.17054 \nL 275.568587 102.191789 \nL 276.093667 102.096351 \nL 276.321963 102.080327 \nL 276.618747 102.074103 \nL 277.189486 102.197519 \nL 277.577588 102.155788 \nL 277.874372 102.167575 \nL 278.239645 102.134833 \nL 278.833214 102.266398 \nL 279.107169 102.268795 \nL 279.289805 102.234445 \nL 279.54093 102.245643 \nL 279.814885 102.248051 \nL 280.088839 102.250448 \nL 280.362794 102.252845 \nL 280.750897 102.211598 \nL 281.002022 102.204921 \nL 281.298806 102.198655 \nL 281.664079 102.237473 \nL 281.983693 102.222512 \nL 282.348965 102.261183 \nL 282.759897 102.211629 \nL 283.011023 102.205005 \nL 283.421955 102.155704 \nL 283.467614 102.173757 \nL 283.467614 102.173757 \n\" clip-path=\"url(#p9cc556b00f)\" style=\"fill: none; stroke: #ff7f0e; stroke-width: 1.5; stroke-linecap: square\"/>\n   </g>\n   <g id=\"line2d_15\">\n    <path d=\"M 43.78125 104.22 \nL 294.88125 104.22 \n\" clip-path=\"url(#p9cc556b00f)\" style=\"fill: none; stroke-dasharray: 5.55,2.4; stroke-dashoffset: 0; stroke: #000000; stroke-width: 1.5\"/>\n   </g>\n   <g id=\"patch_3\">\n    <path d=\"M 43.78125 201.24 \nL 43.78125 7.2 \n\" style=\"fill: none; stroke: #000000; stroke-width: 0.8; stroke-linejoin: miter; stroke-linecap: square\"/>\n   </g>\n   <g id=\"patch_4\">\n    <path d=\"M 294.88125 201.24 \nL 294.88125 7.2 \n\" style=\"fill: none; stroke: #000000; stroke-width: 0.8; stroke-linejoin: miter; stroke-linecap: square\"/>\n   </g>\n   <g id=\"patch_5\">\n    <path d=\"M 43.78125 201.24 \nL 294.88125 201.24 \n\" style=\"fill: none; stroke: #000000; stroke-width: 0.8; stroke-linejoin: miter; stroke-linecap: square\"/>\n   </g>\n   <g id=\"patch_6\">\n    <path d=\"M 43.78125 7.2 \nL 294.88125 7.2 \n\" style=\"fill: none; stroke: #000000; stroke-width: 0.8; stroke-linejoin: miter; stroke-linecap: square\"/>\n   </g>\n   <g id=\"legend_1\">\n    <g id=\"patch_7\">\n     <path d=\"M 175.220313 44.55625 \nL 287.88125 44.55625 \nQ 289.88125 44.55625 289.88125 42.55625 \nL 289.88125 14.2 \nQ 289.88125 12.2 287.88125 12.2 \nL 175.220313 12.2 \nQ 173.220313 12.2 173.220313 14.2 \nL 173.220313 42.55625 \nQ 173.220313 44.55625 175.220313 44.55625 \nz\n\" style=\"fill: #ffffff; opacity: 0.8; stroke: #cccccc; stroke-linejoin: miter\"/>\n    </g>\n    <g id=\"line2d_16\">\n     <path d=\"M 177.220313 20.298438 \nL 187.220313 20.298438 \nL 197.220313 20.298438 \n\" style=\"fill: none; stroke: #1f77b4; stroke-width: 1.5; stroke-linecap: square\"/>\n    </g>\n    <g id=\"text_15\">\n     <!-- P(coin = Heads) -->\n     <g transform=\"translate(205.220313 23.798438) scale(0.1 -0.1)\">\n      <defs>\n       <path id=\"DejaVuSans-28\" d=\"M 1984 4856 \nQ 1566 4138 1362 3434 \nQ 1159 2731 1159 2009 \nQ 1159 1288 1364 580 \nQ 1569 -128 1984 -844 \nL 1484 -844 \nQ 1016 -109 783 600 \nQ 550 1309 550 2009 \nQ 550 2706 781 3412 \nQ 1013 4119 1484 4856 \nL 1984 4856 \nz\n\" transform=\"scale(0.015625)\"/>\n       <path id=\"DejaVuSans-63\" d=\"M 3122 3366 \nL 3122 2828 \nQ 2878 2963 2633 3030 \nQ 2388 3097 2138 3097 \nQ 1578 3097 1268 2742 \nQ 959 2388 959 1747 \nQ 959 1106 1268 751 \nQ 1578 397 2138 397 \nQ 2388 397 2633 464 \nQ 2878 531 3122 666 \nL 3122 134 \nQ 2881 22 2623 -34 \nQ 2366 -91 2075 -91 \nQ 1284 -91 818 406 \nQ 353 903 353 1747 \nQ 353 2603 823 3093 \nQ 1294 3584 2113 3584 \nQ 2378 3584 2631 3529 \nQ 2884 3475 3122 3366 \nz\n\" transform=\"scale(0.015625)\"/>\n       <path id=\"DejaVuSans-6e\" d=\"M 3513 2113 \nL 3513 0 \nL 2938 0 \nL 2938 2094 \nQ 2938 2591 2744 2837 \nQ 2550 3084 2163 3084 \nQ 1697 3084 1428 2787 \nQ 1159 2491 1159 1978 \nL 1159 0 \nL 581 0 \nL 581 3500 \nL 1159 3500 \nL 1159 2956 \nQ 1366 3272 1645 3428 \nQ 1925 3584 2291 3584 \nQ 2894 3584 3203 3211 \nQ 3513 2838 3513 2113 \nz\n\" transform=\"scale(0.015625)\"/>\n       <path id=\"DejaVuSans-3d\" d=\"M 678 2906 \nL 4684 2906 \nL 4684 2381 \nL 678 2381 \nL 678 2906 \nz\nM 678 1631 \nL 4684 1631 \nL 4684 1100 \nL 678 1100 \nL 678 1631 \nz\n\" transform=\"scale(0.015625)\"/>\n       <path id=\"DejaVuSans-48\" d=\"M 628 4666 \nL 1259 4666 \nL 1259 2753 \nL 3553 2753 \nL 3553 4666 \nL 4184 4666 \nL 4184 0 \nL 3553 0 \nL 3553 2222 \nL 1259 2222 \nL 1259 0 \nL 628 0 \nL 628 4666 \nz\n\" transform=\"scale(0.015625)\"/>\n       <path id=\"DejaVuSans-29\" d=\"M 513 4856 \nL 1013 4856 \nQ 1481 4119 1714 3412 \nQ 1947 2706 1947 2009 \nQ 1947 1309 1714 600 \nQ 1481 -109 1013 -844 \nL 513 -844 \nQ 928 -128 1133 580 \nQ 1338 1288 1338 2009 \nQ 1338 2731 1133 3434 \nQ 928 4138 513 4856 \nz\n\" transform=\"scale(0.015625)\"/>\n      </defs>\n      <use xlink:href=\"#DejaVuSans-50\"/>\n      <use xlink:href=\"#DejaVuSans-28\" x=\"60.302734\"/>\n      <use xlink:href=\"#DejaVuSans-63\" x=\"99.316406\"/>\n      <use xlink:href=\"#DejaVuSans-6f\" x=\"154.296875\"/>\n      <use xlink:href=\"#DejaVuSans-69\" x=\"215.478516\"/>\n      <use xlink:href=\"#DejaVuSans-6e\" x=\"243.261719\"/>\n      <use xlink:href=\"#DejaVuSans-20\" x=\"306.640625\"/>\n      <use xlink:href=\"#DejaVuSans-3d\" x=\"338.427734\"/>\n      <use xlink:href=\"#DejaVuSans-20\" x=\"422.216797\"/>\n      <use xlink:href=\"#DejaVuSans-48\" x=\"454.003906\"/>\n      <use xlink:href=\"#DejaVuSans-65\" x=\"529.199219\"/>\n      <use xlink:href=\"#DejaVuSans-61\" x=\"590.722656\"/>\n      <use xlink:href=\"#DejaVuSans-64\" x=\"652.001953\"/>\n      <use xlink:href=\"#DejaVuSans-73\" x=\"715.478516\"/>\n      <use xlink:href=\"#DejaVuSans-29\" x=\"767.578125\"/>\n     </g>\n    </g>\n    <g id=\"line2d_17\">\n     <path d=\"M 177.220313 34.976562 \nL 187.220313 34.976562 \nL 197.220313 34.976562 \n\" style=\"fill: none; stroke: #ff7f0e; stroke-width: 1.5; stroke-linecap: square\"/>\n    </g>\n    <g id=\"text_16\">\n     <!-- P(coin = Tails) -->\n     <g transform=\"translate(205.220313 38.476562) scale(0.1 -0.1)\">\n      <defs>\n       <path id=\"DejaVuSans-54\" d=\"M -19 4666 \nL 3928 4666 \nL 3928 4134 \nL 2272 4134 \nL 2272 0 \nL 1638 0 \nL 1638 4134 \nL -19 4134 \nL -19 4666 \nz\n\" transform=\"scale(0.015625)\"/>\n      </defs>\n      <use xlink:href=\"#DejaVuSans-50\"/>\n      <use xlink:href=\"#DejaVuSans-28\" x=\"60.302734\"/>\n      <use xlink:href=\"#DejaVuSans-63\" x=\"99.316406\"/>\n      <use xlink:href=\"#DejaVuSans-6f\" x=\"154.296875\"/>\n      <use xlink:href=\"#DejaVuSans-69\" x=\"215.478516\"/>\n      <use xlink:href=\"#DejaVuSans-6e\" x=\"243.261719\"/>\n      <use xlink:href=\"#DejaVuSans-20\" x=\"306.640625\"/>\n      <use xlink:href=\"#DejaVuSans-3d\" x=\"338.427734\"/>\n      <use xlink:href=\"#DejaVuSans-20\" x=\"422.216797\"/>\n      <use xlink:href=\"#DejaVuSans-54\" x=\"454.003906\"/>\n      <use xlink:href=\"#DejaVuSans-61\" x=\"498.587891\"/>\n      <use xlink:href=\"#DejaVuSans-69\" x=\"559.867188\"/>\n      <use xlink:href=\"#DejaVuSans-6c\" x=\"587.650391\"/>\n      <use xlink:href=\"#DejaVuSans-73\" x=\"615.433594\"/>\n      <use xlink:href=\"#DejaVuSans-29\" x=\"667.533203\"/>\n     </g>\n    </g>\n   </g>\n  </g>\n </g>\n <defs>\n  <clipPath id=\"p9cc556b00f\">\n   <rect x=\"43.78125\" y=\"7.2\" width=\"251.1\" height=\"194.04\"/>\n  </clipPath>\n </defs>\n</svg>\n"
          },
          "metadata": {}
        }
      ]
    }
  ]
}